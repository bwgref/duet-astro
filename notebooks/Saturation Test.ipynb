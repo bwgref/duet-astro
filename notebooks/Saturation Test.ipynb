{
 "cells": [
  {
   "cell_type": "code",
   "execution_count": 3,
   "metadata": {},
   "outputs": [],
   "source": [
    "from astroduet import config, utils\n",
    "from astropy import units as u\n",
    "import numpy as np"
   ]
  },
  {
   "cell_type": "code",
   "execution_count": 8,
   "metadata": {},
   "outputs": [
    {
     "name": "stdout",
     "output_type": "stream",
     "text": [
      "8.093811494551119\n"
     ]
    }
   ],
   "source": [
    "duet = config.Telescope()\n",
    "print(duet.neff)"
   ]
  },
  {
   "cell_type": "code",
   "execution_count": 5,
   "metadata": {},
   "outputs": [
    {
     "name": "stdout",
     "output_type": "stream",
     "text": [
      "15.800000000000026 17737.013937689546 ph\n"
     ]
    }
   ],
   "source": [
    "exposure = 300*u.s\n",
    "\n",
    "\n",
    "for abmag in np.arange(14, 18, 0.05):\n",
    "    counts = exposure * duet.fluence_to_rate(utils.duet_abmag_to_fluence(abmag*u.ABmag, 1))\n",
    "    \n",
    "    if counts.value < 18e3:\n",
    "        print(abmag, counts)\n",
    "        break"
   ]
  },
  {
   "cell_type": "code",
   "execution_count": 6,
   "metadata": {},
   "outputs": [
    {
     "name": "stdout",
     "output_type": "stream",
     "text": [
      "14.099999999999985 16978.937237049184 ph\n"
     ]
    }
   ],
   "source": [
    "exposure = 60*u.s\n",
    "\n",
    "\n",
    "for abmag in np.arange(10, 18, 0.1):\n",
    "    counts = exposure * duet.fluence_to_rate(utils.duet_abmag_to_fluence(abmag*u.ABmag, 1))\n",
    "    if counts.value < 18e3:\n",
    "        print(abmag, counts)\n",
    "        break"
   ]
  },
  {
   "cell_type": "code",
   "execution_count": 7,
   "metadata": {},
   "outputs": [
    {
     "name": "stdout",
     "output_type": "stream",
     "text": [
      "13.299999999999988 17737.01393769016 ph\n"
     ]
    }
   ],
   "source": [
    "exposure = 30*u.s\n",
    "\n",
    "\n",
    "for abmag in np.arange(10, 18, 0.1):\n",
    "    counts = exposure * duet.fluence_to_rate(utils.duet_abmag_to_fluence(abmag*u.ABmag, 1))\n",
    "    if counts.value < 18e3:\n",
    "        print(abmag, counts)\n",
    "        break"
   ]
  },
  {
   "cell_type": "code",
   "execution_count": 25,
   "metadata": {},
   "outputs": [],
   "source": [
    "def saturation_distance(abs_mag = -17, sat_mag = 16.75):\n",
    "    \n",
    "    dist = ((10 * 10**((sat_mag - abs_mag) / 5))*u.pc).to(u.Mpc)\n",
    "    return dist"
   ]
  },
  {
   "cell_type": "code",
   "execution_count": 26,
   "metadata": {},
   "outputs": [
    {
     "data": {
      "text/latex": [
       "$125.89254 \\; \\mathrm{Mpc}$"
      ],
      "text/plain": [
       "<Quantity 125.89254118 Mpc>"
      ]
     },
     "execution_count": 26,
     "metadata": {},
     "output_type": "execute_result"
    }
   ],
   "source": [
    "saturation_distance(abs_mag = -18, sat_mag=17.5)"
   ]
  },
  {
   "cell_type": "code",
   "execution_count": 32,
   "metadata": {},
   "outputs": [
    {
     "name": "stdout",
     "output_type": "stream",
     "text": [
      "17.130998289964314\n"
     ]
    }
   ],
   "source": [
    "pixel = 0.655 \n",
    "rms = pixel * 6.35\n",
    "pointing = 5.0\n",
    "rms = np.sqrt(pointing**2 + rms**2)\n",
    "fwhm = 2.634 * rms\n",
    "print(fwhm)"
   ]
  },
  {
   "cell_type": "code",
   "execution_count": 26,
   "metadata": {},
   "outputs": [
    {
     "name": "stdout",
     "output_type": "stream",
     "text": [
      "13.907208269091571\n"
     ]
    }
   ],
   "source": [
    "pixel = 0.655 \n",
    "rms = pixel * 7.1\n",
    "rms = np.sqrt(2.5**2 + rms**2)\n",
    "fwhm = 2.634 * rms\n",
    "print(fwhm)\n"
   ]
  },
  {
   "cell_type": "code",
   "execution_count": null,
   "metadata": {
    "collapsed": true
   },
   "outputs": [],
   "source": []
  }
 ],
 "metadata": {
  "anaconda-cloud": {},
  "kernelspec": {
   "display_name": "Python (duet)",
   "language": "python",
   "name": "duet"
  },
  "language_info": {
   "codemirror_mode": {
    "name": "ipython",
    "version": 3
   },
   "file_extension": ".py",
   "mimetype": "text/x-python",
   "name": "python",
   "nbconvert_exporter": "python",
   "pygments_lexer": "ipython3",
   "version": "3.6.7"
  }
 },
 "nbformat": 4,
 "nbformat_minor": 2
}
