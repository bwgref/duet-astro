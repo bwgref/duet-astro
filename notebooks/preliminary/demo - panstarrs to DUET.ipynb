{
 "cells": [
  {
   "cell_type": "code",
   "execution_count": 7,
   "metadata": {},
   "outputs": [
    {
     "name": "stdout",
     "output_type": "stream",
     "text": [
      "The autoreload extension is already loaded. To reload it, use:\n",
      "  %reload_ext autoreload\n"
     ]
    }
   ],
   "source": [
    "%load_ext autoreload\n",
    "%autoreload 2\n",
    "\n",
    "import numpy as np\n",
    "import astropy.units as u\n",
    "from astropy.visualization import quantity_support\n",
    "from astroduet.config import Telescope\n",
    "from astroduet.utils import panstarrs_to_duet\n",
    "\n",
    "import matplotlib.pyplot as plt\n",
    "import matplotlib"
   ]
  },
  {
   "cell_type": "code",
   "execution_count": 2,
   "metadata": {},
   "outputs": [],
   "source": [
    "font = {'family' : 'sans',\n",
    "        'weight' : 'normal',\n",
    "        'size'   : 18}\n",
    "\n",
    "matplotlib.rc('font', **font)\n",
    "plt.rcParams['figure.figsize'] = [15,8]\n",
    "plotcolors = plt.rcParams['axes.prop_cycle'].by_key()['color']"
   ]
  },
  {
   "cell_type": "code",
   "execution_count": 3,
   "metadata": {},
   "outputs": [],
   "source": [
    "duet = Telescope()"
   ]
  },
  {
   "cell_type": "code",
   "execution_count": 4,
   "metadata": {},
   "outputs": [],
   "source": [
    "# Load your table with PanSTARRS magnitudes. Each line must have:\n",
    "# gMeanPSFMag, gMeanPSFMagErr, rMeanPSFMag, rMeanPSFMagErr, iMeanPSFMag, iMeanPSFMagErr, zMeanPSFMag, zMeanPSFMagErr, yMeanPSFMag, yMeanPSFMagErr\n",
    "# Or whatever other magnitude you prefer, but it must be magnitudes.\n",
    "stars = np.loadtxt('pstest_sorted.asc')"
   ]
  },
  {
   "cell_type": "code",
   "execution_count": 8,
   "metadata": {},
   "outputs": [
    {
     "name": "stderr",
     "output_type": "stream",
     "text": [
      "/Users/mheida/scripts/git/duet-astro/astroduet/utils.py:599: RuntimeWarning: divide by zero encountered in true_divide\n",
      "  snrs = 1./(10.**(magerrs[valid]/2.5) - 1.)\n",
      "/Users/mheida/software/miniconda2/envs/duet/lib/python3.6/site-packages/scipy/optimize/minpack.py:728: RuntimeWarning: divide by zero encountered in true_divide\n",
      "  transform = 1.0 / sigma\n",
      "/Users/mheida/software/miniconda2/envs/duet/lib/python3.6/site-packages/scipy/optimize/minpack.py:794: OptimizeWarning: Covariance of the parameters could not be estimated\n",
      "  category=OptimizeWarning)\n"
     ]
    }
   ],
   "source": [
    "# Run panstarrs_to_duet; output is a table with g_mag, r_mag (from panstarrs), DUET1 fluence, DUET2 fluence\n",
    "# as well as badstars (number of stars with only 2 or less good magnitudes) and badfits (number of stars for which \n",
    "# the fit failed)\n",
    "tab, badstars, badfits = panstarrs_to_duet(stars, duet=duet)"
   ]
  },
  {
   "cell_type": "code",
   "execution_count": 9,
   "metadata": {},
   "outputs": [],
   "source": [
    "# Add columns with actual rates\n",
    "tab['d1_rate'] = duet.fluence_to_rate(tab['d1_fluence'])\n",
    "tab['d2_rate'] = duet.fluence_to_rate(tab['d2_fluence'])"
   ]
  },
  {
   "cell_type": "code",
   "execution_count": 10,
   "metadata": {},
   "outputs": [],
   "source": [
    "# Pick your favorite exposure time\n",
    "exposure = 120*u.s"
   ]
  },
  {
   "cell_type": "code",
   "execution_count": 14,
   "metadata": {},
   "outputs": [
    {
     "data": {
      "image/png": "[encoded data removed]",
      "text/plain": [
       "<Figure size 1080x576 with 1 Axes>"
      ]
     },
     "metadata": {
      "needs_background": "light"
     },
     "output_type": "display_data"
    }
   ],
   "source": [
    "# Maybe plot a histogram?\n",
    "plt.hist((tab['d1_rate']*exposure).value, bins=100)\n",
    "\n",
    "plt.show()"
   ]
  },
  {
   "cell_type": "code",
   "execution_count": 21,
   "metadata": {},
   "outputs": [
    {
     "data": {
      "text/plain": [
       "18"
      ]
     },
     "execution_count": 21,
     "metadata": {},
     "output_type": "execute_result"
    }
   ],
   "source": [
    "# Check how many of your stars are saturated (likely more in D2 than in D1)\n",
    "len(tab[(tab['d2_rate']*exposure >= 17000 * u.ph)])"
   ]
  },
  {
   "cell_type": "code",
   "execution_count": 20,
   "metadata": {},
   "outputs": [
    {
     "data": {
      "text/plain": [
       "(2896, 48)"
      ]
     },
     "execution_count": 20,
     "metadata": {},
     "output_type": "execute_result"
    }
   ],
   "source": [
    "# Check how many stars were bad\n",
    "badstars, badfits"
   ]
  },
  {
   "cell_type": "code",
   "execution_count": null,
   "metadata": {},
   "outputs": [],
   "source": []
  }
 ],
 "metadata": {
  "kernelspec": {
   "display_name": "Python [conda env:duet]",
   "language": "python",
   "name": "conda-env-duet-py"
  },
  "language_info": {
   "codemirror_mode": {
    "name": "ipython",
    "version": 3
   },
   "file_extension": ".py",
   "mimetype": "text/x-python",
   "name": "python",
   "nbconvert_exporter": "python",
   "pygments_lexer": "ipython3",
   "version": "3.6.8"
  }
 },
 "nbformat": 4,
 "nbformat_minor": 2
}
