{
 "cells": [
  {
   "cell_type": "code",
   "execution_count": 1,
   "metadata": {},
   "outputs": [],
   "source": [
    "import astropy.units as u\n",
    "from astroduet.duet_telescope import load_telescope_parameters\n",
    "from astroduet.duet_sensitivity import src_rate, bgd_sky_qe_rate, bgd_electronics, calc_exposure\n",
    "import numpy as np"
   ]
  },
  {
   "cell_type": "code",
   "execution_count": 2,
   "metadata": {},
   "outputs": [
    {
     "name": "stdout",
     "output_type": "stream",
     "text": [
      "Telescope Configuration 11\n",
      "Name: Small Focal Plane CMOS\n",
      "Entrance Pupil diameter 26.0 cm\n",
      "Optical Efficiency 0.7893639053254439\n",
      "PSF FWHM 4.288 arcsec\n",
      "Pixel size 6.4 arcsec\n",
      "Effective Aperture 23.1 cm\n",
      "Effective Area 419.09631397051237 cm2\n",
      "---------\n",
      "Old Way\n",
      "Transmission efficiency: 0.8166518036622619\n",
      "---------\n",
      "\n",
      "Sky background rate per pixel band1: 0.030369732491096913 1 / s\n",
      "Sky background rate per pixel band2: 0.2478588509265617 1 / s\n"
     ]
    }
   ],
   "source": [
    "# Load telescope info\n",
    "config=11\n",
    "diameter, qe, psf_size, pixel_size, efficiency = load_telescope_parameters(config)\n",
    "area = np.pi * (diameter*0.5)**2\n",
    "\n",
    "area_onaxis = np.pi * (0.5*24.2*u.cm)**2\n",
    "efficiency = area_onaxis / area\n",
    "\n",
    "\n",
    "\n",
    "td1_band = [190, 230]*u.nm\n",
    "# Transmission efficiency\n",
    "trans_eff = (0.975)**8 # from Jim. \n",
    "print('---------')\n",
    "print('Old Way')\n",
    "\n",
    "print('Transmission efficiency: {}'.format(trans_eff))\n",
    "\n",
    "print('---------')\n",
    "\n",
    "\n",
    "# Compute sky background\n",
    "bgd_ph_rate = bgd_sky_qe_rate(diag=False,\n",
    "                              diameter=diameter,\n",
    "                              band=td1_band,\n",
    "                              pixel_size=pixel_size, real_red=True)\n",
    "bgd_band1 = trans_eff * efficiency * bgd_ph_rate\n",
    "print()\n",
    "print('Sky background rate per pixel band1: {}'.format(bgd_band1))\n",
    "\n",
    "bgd_ph_rate = bgd_sky_qe_rate(diag=False,\n",
    "                              diameter=diameter,\n",
    "                              band=td1_band,qe_band=2,\n",
    "                              pixel_size=pixel_size, real_red=True)\n",
    "bgd_band2 = trans_eff  * efficiency * bgd_ph_rate\n",
    "print('Sky background rate per pixel band2: {}'.format(bgd_band2))\n"
   ]
  },
  {
   "cell_type": "code",
   "execution_count": 6,
   "metadata": {},
   "outputs": [
    {
     "name": "stdout",
     "output_type": "stream",
     "text": [
      "Physical Entrance Pupil: 26.0 cm\n",
      "Effective EPD:  24.2 cm\n",
      "Effective Area:  4.6e+02 cm2\n",
      "Pixel size:   6.4 arcsec\n",
      "Transmission Efficiency:  0.82\n",
      "PSF FWHM:   4.3 arcsec\n",
      "\n",
      "Pointing jitter: 5.0 arcsec\n",
      "Effective PSF FWHM: 6.6 arcsec\n",
      "\n",
      "Band 1: {'eff_wave': <Quantity 213.60141673 nm>, 'eff_width': <Quantity 53.32814342 nm>}\n",
      "Bandpass 1: [<Quantity 186.93734502 nm>, <Quantity 240.26548844 nm>]\n",
      "Band 2: {'eff_wave': <Quantity 291.30506026 nm>, 'eff_width': <Quantity 68.16239088 nm>}\n",
      "Bandpass 2: [<Quantity 257.22386482 nm>, <Quantity 325.3862557 nm>]\n",
      "----\n",
      "Background Computation Integrating over Pixel Area\n",
      "Telescope diameter: 26.0 cm\n",
      "Collecting Area: 459.9605804120816 cm2\n",
      "Transmission Efficiency: 0.8166518036622619\n",
      "\n",
      "\n",
      "Pixel Size: 6.4 arcsec\n",
      "Pixel Area: 40.96000000000001 arcsec2\n",
      "\n",
      "Zodi Level: 77\n",
      "Band1 Rate: 0.030369732491096913 1 / s\n",
      "Band2 Rate: 0.24785885092656168 1 / s\n",
      "----\n",
      "New way\n",
      "Sky background rate per pixel band1: 0.030369732491096913 1 / s\n",
      "Sky background rate per pixel band2: 0.24785885092656168 1 / s\n",
      "---------\n"
     ]
    }
   ],
   "source": [
    "from astroduet.config import Telescope\n",
    "from astroduet.background import background_pixel_rate\n",
    "\n",
    "duet = Telescope()\n",
    "duet.info()\n",
    "print('----')\n",
    "\n",
    "[bgd1, bgd2] = background_pixel_rate(duet, diag=True)\n",
    "print('----')\n",
    "print('New way')\n",
    "\n",
    "print('Sky background rate per pixel band1: {}'.format(bgd1))\n",
    "print('Sky background rate per pixel band2: {}'.format(bgd2))\n",
    "print('---------')\n",
    "\n",
    "\n"
   ]
  }
 ],
 "metadata": {
  "anaconda-cloud": {},
  "kernelspec": {
   "display_name": "Python (duet)",
   "language": "python",
   "name": "duet"
  },
  "language_info": {
   "codemirror_mode": {
    "name": "ipython",
    "version": 3
   },
   "file_extension": ".py",
   "mimetype": "text/x-python",
   "name": "python",
   "nbconvert_exporter": "python",
   "pygments_lexer": "ipython3",
   "version": "3.6.7"
  }
 },
 "nbformat": 4,
 "nbformat_minor": 2
}
