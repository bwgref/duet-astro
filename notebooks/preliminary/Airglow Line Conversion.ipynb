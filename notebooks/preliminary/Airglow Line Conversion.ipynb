{
 "cells": [
  {
   "cell_type": "code",
   "execution_count": 1,
   "metadata": {},
   "outputs": [],
   "source": [
    "from astropy import units as u"
   ]
  },
  {
   "cell_type": "code",
   "execution_count": 7,
   "metadata": {},
   "outputs": [],
   "source": [
    "from astropy.modeling.blackbody import FLAM"
   ]
  },
  {
   "cell_type": "code",
   "execution_count": 8,
   "metadata": {},
   "outputs": [
    {
     "data": {
      "text/latex": [
       "$\\mathrm{\\frac{erg}{\\mathring{A}\\,s\\,cm^{2}}}$"
      ],
      "text/plain": [
       "Unit(\"erg / (Angstrom cm2 s)\")"
      ]
     },
     "execution_count": 8,
     "metadata": {},
     "output_type": "execute_result"
    }
   ],
   "source": [
    "FLAM"
   ]
  },
  {
   "cell_type": "code",
   "execution_count": 9,
   "metadata": {},
   "outputs": [],
   "source": [
    "ph_unit = u.ph / (u.cm**2 *u.s*u.AA)"
   ]
  },
  {
   "cell_type": "code",
   "execution_count": 53,
   "metadata": {},
   "outputs": [
    {
     "name": "stdout",
     "output_type": "stream",
     "text": [
      "2471.0 Angstrom   3.70e+06 ph / (Angstrom cm2 s)\n",
      "1356.0 Angstrom   1.68e+07 ph / (Angstrom cm2 s)\n",
      "1302.0 Angstrom   1.65e+08 ph / (Angstrom cm2 s)\n",
      "1216.0 Angstrom   1.64e+09 ph / (Angstrom cm2 s)\n"
     ]
    }
   ],
   "source": [
    "scale = 1*u.sr / (u.arcsec*u.arcsec)\n",
    "# From \n",
    "for flux, line in zip([0.7e-15, 5.8e-15, 59e-15, 630e-15], [2471, 1356, 1302, 1216]):\n",
    "    flux *= FLAM\n",
    "    line *= u.AA\n",
    "    ph_flux = flux.to(ph_unit, equivalencies=u.spectral_density(line))\n",
    "    print('{} {:10.2e}'.format(line, ph_flux *scale.cgs.value))"
   ]
  },
  {
   "cell_type": "code",
   "execution_count": null,
   "metadata": {},
   "outputs": [],
   "source": []
  }
 ],
 "metadata": {
  "kernelspec": {
   "display_name": "Python (duet)",
   "language": "python",
   "name": "duet"
  },
  "language_info": {
   "codemirror_mode": {
    "name": "ipython",
    "version": 3
   },
   "file_extension": ".py",
   "mimetype": "text/x-python",
   "name": "python",
   "nbconvert_exporter": "python",
   "pygments_lexer": "ipython3",
   "version": "3.6.7"
  }
 },
 "nbformat": 4,
 "nbformat_minor": 2
}
