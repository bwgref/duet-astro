{
 "cells": [
  {
   "cell_type": "code",
   "execution_count": null,
   "metadata": {},
   "outputs": [],
   "source": [
    "# How many stacked exposures are required for a detection as a function of distance? "
   ]
  },
  {
   "cell_type": "code",
   "execution_count": 5,
   "metadata": {},
   "outputs": [],
   "source": [
    "# Imports and setup\n",
    "import numpy as np\n",
    "import matplotlib\n",
    "import matplotlib.pyplot as plt\n",
    "import astropy.units as u\n",
    "import os\n",
    "from astropy.io import fits\n",
    "from astropy.table import Table, QTable\n",
    "from astroduet.background import background_pixel_rate\n",
    "from astroduet.config import Telescope\n",
    "from astroduet.utils import duet_abmag_to_fluence\n",
    "from astroduet.image_utils import construct_image, estimate_background, find\n",
    "from astroduet.diff_image import py_zogy, calculate_diff_image\n",
    "from astroduet.lightcurve import get_lightcurve, lightcurve_through_image\n",
    "\n",
    "# Telescope parameters\n",
    "duet = Telescope()\n",
    "[bgd_band1, bgd_band2] = background_pixel_rate(duet, low_zodi = True)\n",
    "psf_fwhm_pix = duet.psf_fwhm / duet.pixel\n",
    "\n",
    "# Simulation parameters\n",
    "start_times = np.array([1800,3000,4200]) * u.s   # 30,50,70 minutes in seconds\n",
    "distances = np.array([100,150,200,250,300]) * u.Mpc\n",
    "frame = np.array([30,30])\n",
    "exposure = 300 * u.s\n",
    "psf_array = duet.psf_model(x_size=5,y_size=5).array\n",
    "\n",
    "# 6 is oversampling used in construct_image() \n",
    "# - to-do: update sim_galaxy to accept r_eff in arcsec rather than pixels, so we can be agnostic about oversampling\n",
    "oversample = 6\n",
    "r_eff_init = 16.5/(duet.pixel.value/oversample) # Average r_eff for spiral galaxy at 100 Mpc, in pixels\n"
   ]
  },
  {
   "cell_type": "code",
   "execution_count": 5,
   "metadata": {},
   "outputs": [
    {
     "name": "stdout",
     "output_type": "stream",
     "text": [
      "INFO: Creating images [astroduet.lightcurve]\n"
     ]
    },
    {
     "name": "stderr",
     "output_type": "stream",
     "text": [
      "/anaconda3/lib/python3.6/site-packages/h5py/__init__.py:36: FutureWarning: Conversion of the second argument of issubdtype from `float` to `np.floating` is deprecated. In future, it will be treated as `np.float64 == np.dtype(float).type`.\n",
      "  from ._conv import register_converters as _register_converters\n",
      "WARNING: table contains column(s) with defined 'unit', 'format', 'description', or 'meta' info attributes. These will be dropped since serialize_meta=False. [astropy.io.misc.hdf5]\n",
      "WARNING: Attribute `__serialized_columns__` of type <class 'dict'> cannot be written to HDF5 files - skipping. (Consider specifying serialize_meta=True to write all meta data) [astropy.io.misc.hdf5]\n"
     ]
    },
    {
     "name": "stdout",
     "output_type": "stream",
     "text": [
      "INFO: Constructing reference images [astroduet.lightcurve]\n",
      "INFO: Finding source in integrated diff image [astroduet.lightcurve]\n",
      "INFO: Measuring fluxes and creating light curve [astroduet.lightcurve]\n",
      "INFO: Creating images [astroduet.lightcurve]\n"
     ]
    },
    {
     "name": "stderr",
     "output_type": "stream",
     "text": [
      "WARNING: table contains column(s) with defined 'unit', 'format', 'description', or 'meta' info attributes. These will be dropped since serialize_meta=False. [astropy.io.misc.hdf5]\n",
      "WARNING: Attribute `__serialized_columns__` of type <class 'dict'> cannot be written to HDF5 files - skipping. (Consider specifying serialize_meta=True to write all meta data) [astropy.io.misc.hdf5]\n"
     ]
    },
    {
     "name": "stdout",
     "output_type": "stream",
     "text": [
      "INFO: Constructing reference images [astroduet.lightcurve]\n",
      "INFO: Finding source in integrated diff image [astroduet.lightcurve]\n",
      "INFO: Measuring fluxes and creating light curve [astroduet.lightcurve]\n",
      "Done: _100Mpc_pos1_1800s\n",
      "INFO: Creating images [astroduet.lightcurve]\n"
     ]
    },
    {
     "name": "stderr",
     "output_type": "stream",
     "text": [
      "WARNING: table contains column(s) with defined 'unit', 'format', 'description', or 'meta' info attributes. These will be dropped since serialize_meta=False. [astropy.io.misc.hdf5]\n",
      "WARNING: Attribute `__serialized_columns__` of type <class 'dict'> cannot be written to HDF5 files - skipping. (Consider specifying serialize_meta=True to write all meta data) [astropy.io.misc.hdf5]\n"
     ]
    },
    {
     "name": "stdout",
     "output_type": "stream",
     "text": [
      "INFO: Constructing reference images [astroduet.lightcurve]\n",
      "INFO: Finding source in integrated diff image [astroduet.lightcurve]\n",
      "INFO: Measuring fluxes and creating light curve [astroduet.lightcurve]\n"
     ]
    },
    {
     "name": "stderr",
     "output_type": "stream",
     "text": [
      "/anaconda3/lib/python3.6/site-packages/photutils/psf/photometry.py:432: RuntimeWarning: invalid value encountered in sqrt\n",
      "  self.fitter.fit_info['param_cov'])\n"
     ]
    },
    {
     "name": "stdout",
     "output_type": "stream",
     "text": [
      "INFO: Creating images [astroduet.lightcurve]\n"
     ]
    },
    {
     "name": "stderr",
     "output_type": "stream",
     "text": [
      "WARNING: table contains column(s) with defined 'unit', 'format', 'description', or 'meta' info attributes. These will be dropped since serialize_meta=False. [astropy.io.misc.hdf5]\n",
      "WARNING: Attribute `__serialized_columns__` of type <class 'dict'> cannot be written to HDF5 files - skipping. (Consider specifying serialize_meta=True to write all meta data) [astropy.io.misc.hdf5]\n"
     ]
    },
    {
     "name": "stdout",
     "output_type": "stream",
     "text": [
      "INFO: Constructing reference images [astroduet.lightcurve]\n",
      "INFO: Finding source in integrated diff image [astroduet.lightcurve]\n",
      "INFO: Measuring fluxes and creating light curve [astroduet.lightcurve]\n",
      "Done: _100Mpc_pos1_3000s\n",
      "INFO: Creating images [astroduet.lightcurve]\n"
     ]
    },
    {
     "name": "stderr",
     "output_type": "stream",
     "text": [
      "WARNING: table contains column(s) with defined 'unit', 'format', 'description', or 'meta' info attributes. These will be dropped since serialize_meta=False. [astropy.io.misc.hdf5]\n",
      "WARNING: Attribute `__serialized_columns__` of type <class 'dict'> cannot be written to HDF5 files - skipping. (Consider specifying serialize_meta=True to write all meta data) [astropy.io.misc.hdf5]\n"
     ]
    },
    {
     "name": "stdout",
     "output_type": "stream",
     "text": [
      "INFO: Constructing reference images [astroduet.lightcurve]\n",
      "INFO: Finding source in integrated diff image [astroduet.lightcurve]\n",
      "INFO: Measuring fluxes and creating light curve [astroduet.lightcurve]\n"
     ]
    },
    {
     "name": "stderr",
     "output_type": "stream",
     "text": [
      "/anaconda3/lib/python3.6/site-packages/photutils/psf/photometry.py:432: RuntimeWarning: invalid value encountered in sqrt\n",
      "  self.fitter.fit_info['param_cov'])\n"
     ]
    },
    {
     "name": "stdout",
     "output_type": "stream",
     "text": [
      "INFO: Creating images [astroduet.lightcurve]\n"
     ]
    },
    {
     "name": "stderr",
     "output_type": "stream",
     "text": [
      "WARNING: table contains column(s) with defined 'unit', 'format', 'description', or 'meta' info attributes. These will be dropped since serialize_meta=False. [astropy.io.misc.hdf5]\n",
      "WARNING: Attribute `__serialized_columns__` of type <class 'dict'> cannot be written to HDF5 files - skipping. (Consider specifying serialize_meta=True to write all meta data) [astropy.io.misc.hdf5]\n"
     ]
    },
    {
     "name": "stdout",
     "output_type": "stream",
     "text": [
      "INFO: Constructing reference images [astroduet.lightcurve]\n",
      "INFO: Finding source in integrated diff image [astroduet.lightcurve]\n",
      "INFO: Measuring fluxes and creating light curve [astroduet.lightcurve]\n"
     ]
    },
    {
     "name": "stderr",
     "output_type": "stream",
     "text": [
      "/anaconda3/lib/python3.6/site-packages/photutils/psf/photometry.py:432: RuntimeWarning: invalid value encountered in sqrt\n",
      "  self.fitter.fit_info['param_cov'])\n"
     ]
    },
    {
     "name": "stdout",
     "output_type": "stream",
     "text": [
      "Done: _100Mpc_pos1_4200s\n",
      "INFO: Creating images [astroduet.lightcurve]\n"
     ]
    },
    {
     "name": "stderr",
     "output_type": "stream",
     "text": [
      "WARNING: table contains column(s) with defined 'unit', 'format', 'description', or 'meta' info attributes. These will be dropped since serialize_meta=False. [astropy.io.misc.hdf5]\n",
      "WARNING: Attribute `__serialized_columns__` of type <class 'dict'> cannot be written to HDF5 files - skipping. (Consider specifying serialize_meta=True to write all meta data) [astropy.io.misc.hdf5]\n"
     ]
    },
    {
     "name": "stdout",
     "output_type": "stream",
     "text": [
      "INFO: Constructing reference images [astroduet.lightcurve]\n",
      "INFO: Finding source in integrated diff image [astroduet.lightcurve]\n",
      "INFO: Measuring fluxes and creating light curve [astroduet.lightcurve]\n",
      "INFO: Creating images [astroduet.lightcurve]\n"
     ]
    },
    {
     "name": "stderr",
     "output_type": "stream",
     "text": [
      "WARNING: table contains column(s) with defined 'unit', 'format', 'description', or 'meta' info attributes. These will be dropped since serialize_meta=False. [astropy.io.misc.hdf5]\n",
      "WARNING: Attribute `__serialized_columns__` of type <class 'dict'> cannot be written to HDF5 files - skipping. (Consider specifying serialize_meta=True to write all meta data) [astropy.io.misc.hdf5]\n"
     ]
    },
    {
     "name": "stdout",
     "output_type": "stream",
     "text": [
      "INFO: Constructing reference images [astroduet.lightcurve]\n",
      "INFO: Finding source in integrated diff image [astroduet.lightcurve]\n",
      "INFO: Measuring fluxes and creating light curve [astroduet.lightcurve]\n"
     ]
    },
    {
     "name": "stderr",
     "output_type": "stream",
     "text": [
      "/anaconda3/lib/python3.6/site-packages/photutils/psf/photometry.py:432: RuntimeWarning: invalid value encountered in sqrt\n",
      "  self.fitter.fit_info['param_cov'])\n"
     ]
    },
    {
     "name": "stdout",
     "output_type": "stream",
     "text": [
      "Done: _100Mpc_pos2_1800s\n",
      "INFO: Creating images [astroduet.lightcurve]\n"
     ]
    },
    {
     "name": "stderr",
     "output_type": "stream",
     "text": [
      "WARNING: table contains column(s) with defined 'unit', 'format', 'description', or 'meta' info attributes. These will be dropped since serialize_meta=False. [astropy.io.misc.hdf5]\n",
      "WARNING: Attribute `__serialized_columns__` of type <class 'dict'> cannot be written to HDF5 files - skipping. (Consider specifying serialize_meta=True to write all meta data) [astropy.io.misc.hdf5]\n"
     ]
    },
    {
     "name": "stdout",
     "output_type": "stream",
     "text": [
      "INFO: Constructing reference images [astroduet.lightcurve]\n",
      "INFO: Finding source in integrated diff image [astroduet.lightcurve]\n",
      "INFO: Measuring fluxes and creating light curve [astroduet.lightcurve]\n",
      "INFO: Creating images [astroduet.lightcurve]\n"
     ]
    },
    {
     "name": "stderr",
     "output_type": "stream",
     "text": [
      "WARNING: table contains column(s) with defined 'unit', 'format', 'description', or 'meta' info attributes. These will be dropped since serialize_meta=False. [astropy.io.misc.hdf5]\n",
      "WARNING: Attribute `__serialized_columns__` of type <class 'dict'> cannot be written to HDF5 files - skipping. (Consider specifying serialize_meta=True to write all meta data) [astropy.io.misc.hdf5]\n"
     ]
    },
    {
     "name": "stdout",
     "output_type": "stream",
     "text": [
      "INFO: Constructing reference images [astroduet.lightcurve]\n",
      "INFO: Finding source in integrated diff image [astroduet.lightcurve]\n",
      "INFO: Measuring fluxes and creating light curve [astroduet.lightcurve]\n"
     ]
    },
    {
     "name": "stderr",
     "output_type": "stream",
     "text": [
      "/anaconda3/lib/python3.6/site-packages/photutils/psf/photometry.py:432: RuntimeWarning: invalid value encountered in sqrt\n",
      "  self.fitter.fit_info['param_cov'])\n"
     ]
    },
    {
     "name": "stdout",
     "output_type": "stream",
     "text": [
      "Done: _100Mpc_pos2_3000s\n",
      "INFO: Creating images [astroduet.lightcurve]\n"
     ]
    },
    {
     "name": "stderr",
     "output_type": "stream",
     "text": [
      "WARNING: table contains column(s) with defined 'unit', 'format', 'description', or 'meta' info attributes. These will be dropped since serialize_meta=False. [astropy.io.misc.hdf5]\n",
      "WARNING: Attribute `__serialized_columns__` of type <class 'dict'> cannot be written to HDF5 files - skipping. (Consider specifying serialize_meta=True to write all meta data) [astropy.io.misc.hdf5]\n"
     ]
    },
    {
     "name": "stdout",
     "output_type": "stream",
     "text": [
      "INFO: Constructing reference images [astroduet.lightcurve]\n",
      "INFO: Finding source in integrated diff image [astroduet.lightcurve]\n",
      "INFO: Measuring fluxes and creating light curve [astroduet.lightcurve]\n",
      "INFO: Creating images [astroduet.lightcurve]\n"
     ]
    },
    {
     "name": "stderr",
     "output_type": "stream",
     "text": [
      "WARNING: table contains column(s) with defined 'unit', 'format', 'description', or 'meta' info attributes. These will be dropped since serialize_meta=False. [astropy.io.misc.hdf5]\n",
      "WARNING: Attribute `__serialized_columns__` of type <class 'dict'> cannot be written to HDF5 files - skipping. (Consider specifying serialize_meta=True to write all meta data) [astropy.io.misc.hdf5]\n"
     ]
    },
    {
     "name": "stdout",
     "output_type": "stream",
     "text": [
      "INFO: Constructing reference images [astroduet.lightcurve]\n",
      "INFO: Finding source in integrated diff image [astroduet.lightcurve]\n",
      "INFO: Measuring fluxes and creating light curve [astroduet.lightcurve]\n",
      "Done: _100Mpc_pos2_4200s\n",
      "INFO: Creating images [astroduet.lightcurve]\n"
     ]
    },
    {
     "name": "stderr",
     "output_type": "stream",
     "text": [
      "WARNING: table contains column(s) with defined 'unit', 'format', 'description', or 'meta' info attributes. These will be dropped since serialize_meta=False. [astropy.io.misc.hdf5]\n",
      "WARNING: Attribute `__serialized_columns__` of type <class 'dict'> cannot be written to HDF5 files - skipping. (Consider specifying serialize_meta=True to write all meta data) [astropy.io.misc.hdf5]\n"
     ]
    },
    {
     "name": "stdout",
     "output_type": "stream",
     "text": [
      "INFO: Constructing reference images [astroduet.lightcurve]\n",
      "INFO: Finding source in integrated diff image [astroduet.lightcurve]\n",
      "INFO: Measuring fluxes and creating light curve [astroduet.lightcurve]\n"
     ]
    },
    {
     "name": "stderr",
     "output_type": "stream",
     "text": [
      "/anaconda3/lib/python3.6/site-packages/photutils/psf/photometry.py:432: RuntimeWarning: invalid value encountered in sqrt\n",
      "  self.fitter.fit_info['param_cov'])\n"
     ]
    },
    {
     "name": "stdout",
     "output_type": "stream",
     "text": [
      "INFO: Creating images [astroduet.lightcurve]\n"
     ]
    },
    {
     "name": "stderr",
     "output_type": "stream",
     "text": [
      "WARNING: table contains column(s) with defined 'unit', 'format', 'description', or 'meta' info attributes. These will be dropped since serialize_meta=False. [astropy.io.misc.hdf5]\n",
      "WARNING: Attribute `__serialized_columns__` of type <class 'dict'> cannot be written to HDF5 files - skipping. (Consider specifying serialize_meta=True to write all meta data) [astropy.io.misc.hdf5]\n"
     ]
    },
    {
     "name": "stdout",
     "output_type": "stream",
     "text": [
      "INFO: Constructing reference images [astroduet.lightcurve]\n",
      "INFO: Finding source in integrated diff image [astroduet.lightcurve]\n",
      "INFO: Measuring fluxes and creating light curve [astroduet.lightcurve]\n"
     ]
    },
    {
     "name": "stderr",
     "output_type": "stream",
     "text": [
      "/anaconda3/lib/python3.6/site-packages/photutils/psf/photometry.py:432: RuntimeWarning: invalid value encountered in sqrt\n",
      "  self.fitter.fit_info['param_cov'])\n"
     ]
    },
    {
     "name": "stdout",
     "output_type": "stream",
     "text": [
      "Done: _100Mpc_pos3_1800s\n",
      "INFO: Creating images [astroduet.lightcurve]\n"
     ]
    },
    {
     "name": "stderr",
     "output_type": "stream",
     "text": [
      "WARNING: table contains column(s) with defined 'unit', 'format', 'description', or 'meta' info attributes. These will be dropped since serialize_meta=False. [astropy.io.misc.hdf5]\n",
      "WARNING: Attribute `__serialized_columns__` of type <class 'dict'> cannot be written to HDF5 files - skipping. (Consider specifying serialize_meta=True to write all meta data) [astropy.io.misc.hdf5]\n"
     ]
    },
    {
     "name": "stdout",
     "output_type": "stream",
     "text": [
      "INFO: Constructing reference images [astroduet.lightcurve]\n",
      "INFO: Finding source in integrated diff image [astroduet.lightcurve]\n",
      "INFO: Measuring fluxes and creating light curve [astroduet.lightcurve]\n",
      "INFO: Creating images [astroduet.lightcurve]\n"
     ]
    },
    {
     "name": "stderr",
     "output_type": "stream",
     "text": [
      "WARNING: table contains column(s) with defined 'unit', 'format', 'description', or 'meta' info attributes. These will be dropped since serialize_meta=False. [astropy.io.misc.hdf5]\n",
      "WARNING: Attribute `__serialized_columns__` of type <class 'dict'> cannot be written to HDF5 files - skipping. (Consider specifying serialize_meta=True to write all meta data) [astropy.io.misc.hdf5]\n"
     ]
    },
    {
     "name": "stdout",
     "output_type": "stream",
     "text": [
      "INFO: Constructing reference images [astroduet.lightcurve]\n",
      "INFO: Finding source in integrated diff image [astroduet.lightcurve]\n",
      "INFO: Measuring fluxes and creating light curve [astroduet.lightcurve]\n",
      "Done: _100Mpc_pos3_3000s\n",
      "INFO: Creating images [astroduet.lightcurve]\n"
     ]
    },
    {
     "name": "stderr",
     "output_type": "stream",
     "text": [
      "WARNING: table contains column(s) with defined 'unit', 'format', 'description', or 'meta' info attributes. These will be dropped since serialize_meta=False. [astropy.io.misc.hdf5]\n",
      "WARNING: Attribute `__serialized_columns__` of type <class 'dict'> cannot be written to HDF5 files - skipping. (Consider specifying serialize_meta=True to write all meta data) [astropy.io.misc.hdf5]\n"
     ]
    },
    {
     "name": "stdout",
     "output_type": "stream",
     "text": [
      "INFO: Constructing reference images [astroduet.lightcurve]\n",
      "INFO: Finding source in integrated diff image [astroduet.lightcurve]\n",
      "INFO: Measuring fluxes and creating light curve [astroduet.lightcurve]\n",
      "INFO: Creating images [astroduet.lightcurve]\n"
     ]
    },
    {
     "name": "stderr",
     "output_type": "stream",
     "text": [
      "WARNING: table contains column(s) with defined 'unit', 'format', 'description', or 'meta' info attributes. These will be dropped since serialize_meta=False. [astropy.io.misc.hdf5]\n",
      "WARNING: Attribute `__serialized_columns__` of type <class 'dict'> cannot be written to HDF5 files - skipping. (Consider specifying serialize_meta=True to write all meta data) [astropy.io.misc.hdf5]\n"
     ]
    },
    {
     "name": "stdout",
     "output_type": "stream",
     "text": [
      "INFO: Constructing reference images [astroduet.lightcurve]\n",
      "INFO: Finding source in integrated diff image [astroduet.lightcurve]\n",
      "INFO: Measuring fluxes and creating light curve [astroduet.lightcurve]\n"
     ]
    },
    {
     "name": "stderr",
     "output_type": "stream",
     "text": [
      "/anaconda3/lib/python3.6/site-packages/photutils/psf/photometry.py:432: RuntimeWarning: invalid value encountered in sqrt\n",
      "  self.fitter.fit_info['param_cov'])\n"
     ]
    },
    {
     "name": "stdout",
     "output_type": "stream",
     "text": [
      "Done: _100Mpc_pos3_4200s\n",
      "INFO: Creating images [astroduet.lightcurve]\n"
     ]
    },
    {
     "name": "stderr",
     "output_type": "stream",
     "text": [
      "WARNING: table contains column(s) with defined 'unit', 'format', 'description', or 'meta' info attributes. These will be dropped since serialize_meta=False. [astropy.io.misc.hdf5]\n",
      "WARNING: Attribute `__serialized_columns__` of type <class 'dict'> cannot be written to HDF5 files - skipping. (Consider specifying serialize_meta=True to write all meta data) [astropy.io.misc.hdf5]\n"
     ]
    },
    {
     "name": "stdout",
     "output_type": "stream",
     "text": [
      "INFO: Constructing reference images [astroduet.lightcurve]\n",
      "INFO: Finding source in integrated diff image [astroduet.lightcurve]\n",
      "INFO: Measuring fluxes and creating light curve [astroduet.lightcurve]\n",
      "INFO: Creating images [astroduet.lightcurve]\n"
     ]
    },
    {
     "name": "stderr",
     "output_type": "stream",
     "text": [
      "WARNING: table contains column(s) with defined 'unit', 'format', 'description', or 'meta' info attributes. These will be dropped since serialize_meta=False. [astropy.io.misc.hdf5]\n",
      "WARNING: Attribute `__serialized_columns__` of type <class 'dict'> cannot be written to HDF5 files - skipping. (Consider specifying serialize_meta=True to write all meta data) [astropy.io.misc.hdf5]\n"
     ]
    },
    {
     "name": "stdout",
     "output_type": "stream",
     "text": [
      "INFO: Constructing reference images [astroduet.lightcurve]\n",
      "INFO: Finding source in integrated diff image [astroduet.lightcurve]\n",
      "INFO: Measuring fluxes and creating light curve [astroduet.lightcurve]\n",
      "Done: _150Mpc_pos1_1800s\n",
      "INFO: Creating images [astroduet.lightcurve]\n"
     ]
    },
    {
     "name": "stderr",
     "output_type": "stream",
     "text": [
      "WARNING: table contains column(s) with defined 'unit', 'format', 'description', or 'meta' info attributes. These will be dropped since serialize_meta=False. [astropy.io.misc.hdf5]\n",
      "WARNING: Attribute `__serialized_columns__` of type <class 'dict'> cannot be written to HDF5 files - skipping. (Consider specifying serialize_meta=True to write all meta data) [astropy.io.misc.hdf5]\n"
     ]
    },
    {
     "name": "stdout",
     "output_type": "stream",
     "text": [
      "INFO: Constructing reference images [astroduet.lightcurve]\n",
      "INFO: Finding source in integrated diff image [astroduet.lightcurve]\n",
      "INFO: Measuring fluxes and creating light curve [astroduet.lightcurve]\n",
      "INFO: Creating images [astroduet.lightcurve]\n"
     ]
    },
    {
     "name": "stderr",
     "output_type": "stream",
     "text": [
      "WARNING: table contains column(s) with defined 'unit', 'format', 'description', or 'meta' info attributes. These will be dropped since serialize_meta=False. [astropy.io.misc.hdf5]\n",
      "WARNING: Attribute `__serialized_columns__` of type <class 'dict'> cannot be written to HDF5 files - skipping. (Consider specifying serialize_meta=True to write all meta data) [astropy.io.misc.hdf5]\n"
     ]
    },
    {
     "name": "stdout",
     "output_type": "stream",
     "text": [
      "INFO: Constructing reference images [astroduet.lightcurve]\n",
      "INFO: Finding source in integrated diff image [astroduet.lightcurve]\n",
      "INFO: Measuring fluxes and creating light curve [astroduet.lightcurve]\n",
      "Done: _150Mpc_pos1_3000s\n",
      "INFO: Creating images [astroduet.lightcurve]\n"
     ]
    },
    {
     "name": "stderr",
     "output_type": "stream",
     "text": [
      "WARNING: table contains column(s) with defined 'unit', 'format', 'description', or 'meta' info attributes. These will be dropped since serialize_meta=False. [astropy.io.misc.hdf5]\n",
      "WARNING: Attribute `__serialized_columns__` of type <class 'dict'> cannot be written to HDF5 files - skipping. (Consider specifying serialize_meta=True to write all meta data) [astropy.io.misc.hdf5]\n"
     ]
    },
    {
     "name": "stdout",
     "output_type": "stream",
     "text": [
      "INFO: Constructing reference images [astroduet.lightcurve]\n",
      "INFO: Finding source in integrated diff image [astroduet.lightcurve]\n",
      "INFO: Measuring fluxes and creating light curve [astroduet.lightcurve]\n",
      "INFO: Creating images [astroduet.lightcurve]\n"
     ]
    },
    {
     "name": "stderr",
     "output_type": "stream",
     "text": [
      "WARNING: table contains column(s) with defined 'unit', 'format', 'description', or 'meta' info attributes. These will be dropped since serialize_meta=False. [astropy.io.misc.hdf5]\n",
      "WARNING: Attribute `__serialized_columns__` of type <class 'dict'> cannot be written to HDF5 files - skipping. (Consider specifying serialize_meta=True to write all meta data) [astropy.io.misc.hdf5]\n"
     ]
    },
    {
     "name": "stdout",
     "output_type": "stream",
     "text": [
      "INFO: Constructing reference images [astroduet.lightcurve]\n",
      "INFO: Finding source in integrated diff image [astroduet.lightcurve]\n",
      "INFO: Measuring fluxes and creating light curve [astroduet.lightcurve]\n",
      "Done: _150Mpc_pos1_4200s\n",
      "INFO: Creating images [astroduet.lightcurve]\n"
     ]
    },
    {
     "name": "stderr",
     "output_type": "stream",
     "text": [
      "WARNING: table contains column(s) with defined 'unit', 'format', 'description', or 'meta' info attributes. These will be dropped since serialize_meta=False. [astropy.io.misc.hdf5]\n",
      "WARNING: Attribute `__serialized_columns__` of type <class 'dict'> cannot be written to HDF5 files - skipping. (Consider specifying serialize_meta=True to write all meta data) [astropy.io.misc.hdf5]\n"
     ]
    },
    {
     "name": "stdout",
     "output_type": "stream",
     "text": [
      "INFO: Constructing reference images [astroduet.lightcurve]\n",
      "INFO: Finding source in integrated diff image [astroduet.lightcurve]\n",
      "INFO: Measuring fluxes and creating light curve [astroduet.lightcurve]\n",
      "INFO: Creating images [astroduet.lightcurve]\n"
     ]
    },
    {
     "name": "stderr",
     "output_type": "stream",
     "text": [
      "WARNING: table contains column(s) with defined 'unit', 'format', 'description', or 'meta' info attributes. These will be dropped since serialize_meta=False. [astropy.io.misc.hdf5]\n",
      "WARNING: Attribute `__serialized_columns__` of type <class 'dict'> cannot be written to HDF5 files - skipping. (Consider specifying serialize_meta=True to write all meta data) [astropy.io.misc.hdf5]\n"
     ]
    },
    {
     "name": "stdout",
     "output_type": "stream",
     "text": [
      "INFO: Constructing reference images [astroduet.lightcurve]\n",
      "INFO: Finding source in integrated diff image [astroduet.lightcurve]\n",
      "INFO: Measuring fluxes and creating light curve [astroduet.lightcurve]\n",
      "Done: _150Mpc_pos2_1800s\n",
      "INFO: Creating images [astroduet.lightcurve]\n"
     ]
    },
    {
     "name": "stderr",
     "output_type": "stream",
     "text": [
      "WARNING: table contains column(s) with defined 'unit', 'format', 'description', or 'meta' info attributes. These will be dropped since serialize_meta=False. [astropy.io.misc.hdf5]\n",
      "WARNING: Attribute `__serialized_columns__` of type <class 'dict'> cannot be written to HDF5 files - skipping. (Consider specifying serialize_meta=True to write all meta data) [astropy.io.misc.hdf5]\n"
     ]
    },
    {
     "name": "stdout",
     "output_type": "stream",
     "text": [
      "INFO: Constructing reference images [astroduet.lightcurve]\n",
      "INFO: Finding source in integrated diff image [astroduet.lightcurve]\n",
      "INFO: Measuring fluxes and creating light curve [astroduet.lightcurve]\n",
      "INFO: Creating images [astroduet.lightcurve]\n"
     ]
    },
    {
     "name": "stderr",
     "output_type": "stream",
     "text": [
      "WARNING: table contains column(s) with defined 'unit', 'format', 'description', or 'meta' info attributes. These will be dropped since serialize_meta=False. [astropy.io.misc.hdf5]\n",
      "WARNING: Attribute `__serialized_columns__` of type <class 'dict'> cannot be written to HDF5 files - skipping. (Consider specifying serialize_meta=True to write all meta data) [astropy.io.misc.hdf5]\n"
     ]
    },
    {
     "name": "stdout",
     "output_type": "stream",
     "text": [
      "INFO: Constructing reference images [astroduet.lightcurve]\n",
      "INFO: Finding source in integrated diff image [astroduet.lightcurve]\n",
      "INFO: Measuring fluxes and creating light curve [astroduet.lightcurve]\n",
      "Done: _150Mpc_pos2_3000s\n",
      "INFO: Creating images [astroduet.lightcurve]\n"
     ]
    },
    {
     "name": "stderr",
     "output_type": "stream",
     "text": [
      "WARNING: table contains column(s) with defined 'unit', 'format', 'description', or 'meta' info attributes. These will be dropped since serialize_meta=False. [astropy.io.misc.hdf5]\n",
      "WARNING: Attribute `__serialized_columns__` of type <class 'dict'> cannot be written to HDF5 files - skipping. (Consider specifying serialize_meta=True to write all meta data) [astropy.io.misc.hdf5]\n"
     ]
    },
    {
     "name": "stdout",
     "output_type": "stream",
     "text": [
      "INFO: Constructing reference images [astroduet.lightcurve]\n",
      "INFO: Finding source in integrated diff image [astroduet.lightcurve]\n",
      "INFO: Measuring fluxes and creating light curve [astroduet.lightcurve]\n",
      "INFO: Creating images [astroduet.lightcurve]\n"
     ]
    },
    {
     "name": "stderr",
     "output_type": "stream",
     "text": [
      "WARNING: table contains column(s) with defined 'unit', 'format', 'description', or 'meta' info attributes. These will be dropped since serialize_meta=False. [astropy.io.misc.hdf5]\n",
      "WARNING: Attribute `__serialized_columns__` of type <class 'dict'> cannot be written to HDF5 files - skipping. (Consider specifying serialize_meta=True to write all meta data) [astropy.io.misc.hdf5]\n"
     ]
    },
    {
     "name": "stdout",
     "output_type": "stream",
     "text": [
      "INFO: Constructing reference images [astroduet.lightcurve]\n",
      "INFO: Finding source in integrated diff image [astroduet.lightcurve]\n",
      "INFO: Measuring fluxes and creating light curve [astroduet.lightcurve]\n",
      "Done: _150Mpc_pos2_4200s\n",
      "INFO: Creating images [astroduet.lightcurve]\n"
     ]
    },
    {
     "name": "stderr",
     "output_type": "stream",
     "text": [
      "WARNING: table contains column(s) with defined 'unit', 'format', 'description', or 'meta' info attributes. These will be dropped since serialize_meta=False. [astropy.io.misc.hdf5]\n",
      "WARNING: Attribute `__serialized_columns__` of type <class 'dict'> cannot be written to HDF5 files - skipping. (Consider specifying serialize_meta=True to write all meta data) [astropy.io.misc.hdf5]\n"
     ]
    },
    {
     "name": "stdout",
     "output_type": "stream",
     "text": [
      "INFO: Constructing reference images [astroduet.lightcurve]\n",
      "INFO: Finding source in integrated diff image [astroduet.lightcurve]\n",
      "INFO: Measuring fluxes and creating light curve [astroduet.lightcurve]\n",
      "INFO: Creating images [astroduet.lightcurve]\n"
     ]
    },
    {
     "name": "stderr",
     "output_type": "stream",
     "text": [
      "WARNING: table contains column(s) with defined 'unit', 'format', 'description', or 'meta' info attributes. These will be dropped since serialize_meta=False. [astropy.io.misc.hdf5]\n",
      "WARNING: Attribute `__serialized_columns__` of type <class 'dict'> cannot be written to HDF5 files - skipping. (Consider specifying serialize_meta=True to write all meta data) [astropy.io.misc.hdf5]\n"
     ]
    },
    {
     "name": "stdout",
     "output_type": "stream",
     "text": [
      "INFO: Constructing reference images [astroduet.lightcurve]\n",
      "INFO: Finding source in integrated diff image [astroduet.lightcurve]\n",
      "INFO: Measuring fluxes and creating light curve [astroduet.lightcurve]\n",
      "Done: _150Mpc_pos3_1800s\n",
      "INFO: Creating images [astroduet.lightcurve]\n"
     ]
    },
    {
     "name": "stderr",
     "output_type": "stream",
     "text": [
      "WARNING: table contains column(s) with defined 'unit', 'format', 'description', or 'meta' info attributes. These will be dropped since serialize_meta=False. [astropy.io.misc.hdf5]\n",
      "WARNING: Attribute `__serialized_columns__` of type <class 'dict'> cannot be written to HDF5 files - skipping. (Consider specifying serialize_meta=True to write all meta data) [astropy.io.misc.hdf5]\n"
     ]
    },
    {
     "name": "stdout",
     "output_type": "stream",
     "text": [
      "INFO: Constructing reference images [astroduet.lightcurve]\n",
      "INFO: Finding source in integrated diff image [astroduet.lightcurve]\n",
      "INFO: Measuring fluxes and creating light curve [astroduet.lightcurve]\n",
      "INFO: Creating images [astroduet.lightcurve]\n"
     ]
    },
    {
     "name": "stderr",
     "output_type": "stream",
     "text": [
      "WARNING: table contains column(s) with defined 'unit', 'format', 'description', or 'meta' info attributes. These will be dropped since serialize_meta=False. [astropy.io.misc.hdf5]\n",
      "WARNING: Attribute `__serialized_columns__` of type <class 'dict'> cannot be written to HDF5 files - skipping. (Consider specifying serialize_meta=True to write all meta data) [astropy.io.misc.hdf5]\n"
     ]
    },
    {
     "name": "stdout",
     "output_type": "stream",
     "text": [
      "INFO: Constructing reference images [astroduet.lightcurve]\n",
      "INFO: Finding source in integrated diff image [astroduet.lightcurve]\n",
      "INFO: Measuring fluxes and creating light curve [astroduet.lightcurve]\n",
      "Done: _150Mpc_pos3_3000s\n",
      "INFO: Creating images [astroduet.lightcurve]\n"
     ]
    },
    {
     "name": "stderr",
     "output_type": "stream",
     "text": [
      "WARNING: table contains column(s) with defined 'unit', 'format', 'description', or 'meta' info attributes. These will be dropped since serialize_meta=False. [astropy.io.misc.hdf5]\n",
      "WARNING: Attribute `__serialized_columns__` of type <class 'dict'> cannot be written to HDF5 files - skipping. (Consider specifying serialize_meta=True to write all meta data) [astropy.io.misc.hdf5]\n"
     ]
    },
    {
     "name": "stdout",
     "output_type": "stream",
     "text": [
      "INFO: Constructing reference images [astroduet.lightcurve]\n",
      "INFO: Finding source in integrated diff image [astroduet.lightcurve]\n",
      "INFO: Measuring fluxes and creating light curve [astroduet.lightcurve]\n",
      "INFO: Creating images [astroduet.lightcurve]\n"
     ]
    },
    {
     "name": "stderr",
     "output_type": "stream",
     "text": [
      "WARNING: table contains column(s) with defined 'unit', 'format', 'description', or 'meta' info attributes. These will be dropped since serialize_meta=False. [astropy.io.misc.hdf5]\n",
      "WARNING: Attribute `__serialized_columns__` of type <class 'dict'> cannot be written to HDF5 files - skipping. (Consider specifying serialize_meta=True to write all meta data) [astropy.io.misc.hdf5]\n"
     ]
    },
    {
     "name": "stdout",
     "output_type": "stream",
     "text": [
      "INFO: Constructing reference images [astroduet.lightcurve]\n",
      "INFO: Finding source in integrated diff image [astroduet.lightcurve]\n",
      "INFO: Measuring fluxes and creating light curve [astroduet.lightcurve]\n",
      "Done: _150Mpc_pos3_4200s\n",
      "INFO: Creating images [astroduet.lightcurve]\n"
     ]
    },
    {
     "name": "stderr",
     "output_type": "stream",
     "text": [
      "WARNING: table contains column(s) with defined 'unit', 'format', 'description', or 'meta' info attributes. These will be dropped since serialize_meta=False. [astropy.io.misc.hdf5]\n",
      "WARNING: Attribute `__serialized_columns__` of type <class 'dict'> cannot be written to HDF5 files - skipping. (Consider specifying serialize_meta=True to write all meta data) [astropy.io.misc.hdf5]\n"
     ]
    },
    {
     "name": "stdout",
     "output_type": "stream",
     "text": [
      "INFO: Constructing reference images [astroduet.lightcurve]\n",
      "INFO: Finding source in integrated diff image [astroduet.lightcurve]\n",
      "INFO: Measuring fluxes and creating light curve [astroduet.lightcurve]\n"
     ]
    },
    {
     "name": "stderr",
     "output_type": "stream",
     "text": [
      "/anaconda3/lib/python3.6/site-packages/photutils/psf/photometry.py:432: RuntimeWarning: invalid value encountered in sqrt\n",
      "  self.fitter.fit_info['param_cov'])\n"
     ]
    },
    {
     "name": "stdout",
     "output_type": "stream",
     "text": [
      "INFO: Creating images [astroduet.lightcurve]\n"
     ]
    },
    {
     "name": "stderr",
     "output_type": "stream",
     "text": [
      "WARNING: table contains column(s) with defined 'unit', 'format', 'description', or 'meta' info attributes. These will be dropped since serialize_meta=False. [astropy.io.misc.hdf5]\n",
      "WARNING: Attribute `__serialized_columns__` of type <class 'dict'> cannot be written to HDF5 files - skipping. (Consider specifying serialize_meta=True to write all meta data) [astropy.io.misc.hdf5]\n"
     ]
    },
    {
     "name": "stdout",
     "output_type": "stream",
     "text": [
      "INFO: Constructing reference images [astroduet.lightcurve]\n",
      "INFO: Finding source in integrated diff image [astroduet.lightcurve]\n",
      "INFO: Measuring fluxes and creating light curve [astroduet.lightcurve]\n",
      "Done: _200Mpc_pos1_1800s\n",
      "INFO: Creating images [astroduet.lightcurve]\n"
     ]
    },
    {
     "name": "stderr",
     "output_type": "stream",
     "text": [
      "WARNING: table contains column(s) with defined 'unit', 'format', 'description', or 'meta' info attributes. These will be dropped since serialize_meta=False. [astropy.io.misc.hdf5]\n",
      "WARNING: Attribute `__serialized_columns__` of type <class 'dict'> cannot be written to HDF5 files - skipping. (Consider specifying serialize_meta=True to write all meta data) [astropy.io.misc.hdf5]\n"
     ]
    },
    {
     "name": "stdout",
     "output_type": "stream",
     "text": [
      "INFO: Constructing reference images [astroduet.lightcurve]\n",
      "INFO: Finding source in integrated diff image [astroduet.lightcurve]\n",
      "INFO: Measuring fluxes and creating light curve [astroduet.lightcurve]\n",
      "INFO: Creating images [astroduet.lightcurve]\n"
     ]
    },
    {
     "name": "stderr",
     "output_type": "stream",
     "text": [
      "WARNING: table contains column(s) with defined 'unit', 'format', 'description', or 'meta' info attributes. These will be dropped since serialize_meta=False. [astropy.io.misc.hdf5]\n",
      "WARNING: Attribute `__serialized_columns__` of type <class 'dict'> cannot be written to HDF5 files - skipping. (Consider specifying serialize_meta=True to write all meta data) [astropy.io.misc.hdf5]\n"
     ]
    },
    {
     "name": "stdout",
     "output_type": "stream",
     "text": [
      "INFO: Constructing reference images [astroduet.lightcurve]\n",
      "INFO: Finding source in integrated diff image [astroduet.lightcurve]\n",
      "INFO: Measuring fluxes and creating light curve [astroduet.lightcurve]\n"
     ]
    },
    {
     "name": "stderr",
     "output_type": "stream",
     "text": [
      "/anaconda3/lib/python3.6/site-packages/photutils/psf/photometry.py:432: RuntimeWarning: invalid value encountered in sqrt\n",
      "  self.fitter.fit_info['param_cov'])\n"
     ]
    },
    {
     "name": "stdout",
     "output_type": "stream",
     "text": [
      "Done: _200Mpc_pos1_3000s\n",
      "INFO: Creating images [astroduet.lightcurve]\n"
     ]
    },
    {
     "name": "stderr",
     "output_type": "stream",
     "text": [
      "WARNING: table contains column(s) with defined 'unit', 'format', 'description', or 'meta' info attributes. These will be dropped since serialize_meta=False. [astropy.io.misc.hdf5]\n",
      "WARNING: Attribute `__serialized_columns__` of type <class 'dict'> cannot be written to HDF5 files - skipping. (Consider specifying serialize_meta=True to write all meta data) [astropy.io.misc.hdf5]\n"
     ]
    },
    {
     "name": "stdout",
     "output_type": "stream",
     "text": [
      "INFO: Constructing reference images [astroduet.lightcurve]\n",
      "INFO: Finding source in integrated diff image [astroduet.lightcurve]\n",
      "INFO: Measuring fluxes and creating light curve [astroduet.lightcurve]\n",
      "INFO: Creating images [astroduet.lightcurve]\n"
     ]
    },
    {
     "name": "stderr",
     "output_type": "stream",
     "text": [
      "WARNING: table contains column(s) with defined 'unit', 'format', 'description', or 'meta' info attributes. These will be dropped since serialize_meta=False. [astropy.io.misc.hdf5]\n",
      "WARNING: Attribute `__serialized_columns__` of type <class 'dict'> cannot be written to HDF5 files - skipping. (Consider specifying serialize_meta=True to write all meta data) [astropy.io.misc.hdf5]\n"
     ]
    },
    {
     "name": "stdout",
     "output_type": "stream",
     "text": [
      "INFO: Constructing reference images [astroduet.lightcurve]\n",
      "INFO: Finding source in integrated diff image [astroduet.lightcurve]\n",
      "INFO: Measuring fluxes and creating light curve [astroduet.lightcurve]\n",
      "Done: _200Mpc_pos1_4200s\n",
      "INFO: Creating images [astroduet.lightcurve]\n"
     ]
    },
    {
     "name": "stderr",
     "output_type": "stream",
     "text": [
      "WARNING: table contains column(s) with defined 'unit', 'format', 'description', or 'meta' info attributes. These will be dropped since serialize_meta=False. [astropy.io.misc.hdf5]\n",
      "WARNING: Attribute `__serialized_columns__` of type <class 'dict'> cannot be written to HDF5 files - skipping. (Consider specifying serialize_meta=True to write all meta data) [astropy.io.misc.hdf5]\n"
     ]
    },
    {
     "name": "stdout",
     "output_type": "stream",
     "text": [
      "INFO: Constructing reference images [astroduet.lightcurve]\n",
      "INFO: Finding source in integrated diff image [astroduet.lightcurve]\n",
      "INFO: Measuring fluxes and creating light curve [astroduet.lightcurve]\n",
      "INFO: Creating images [astroduet.lightcurve]\n"
     ]
    },
    {
     "name": "stderr",
     "output_type": "stream",
     "text": [
      "WARNING: table contains column(s) with defined 'unit', 'format', 'description', or 'meta' info attributes. These will be dropped since serialize_meta=False. [astropy.io.misc.hdf5]\n",
      "WARNING: Attribute `__serialized_columns__` of type <class 'dict'> cannot be written to HDF5 files - skipping. (Consider specifying serialize_meta=True to write all meta data) [astropy.io.misc.hdf5]\n"
     ]
    },
    {
     "name": "stdout",
     "output_type": "stream",
     "text": [
      "INFO: Constructing reference images [astroduet.lightcurve]\n",
      "INFO: Finding source in integrated diff image [astroduet.lightcurve]\n",
      "INFO: Measuring fluxes and creating light curve [astroduet.lightcurve]\n"
     ]
    },
    {
     "name": "stderr",
     "output_type": "stream",
     "text": [
      "/anaconda3/lib/python3.6/site-packages/photutils/psf/photometry.py:432: RuntimeWarning: invalid value encountered in sqrt\n",
      "  self.fitter.fit_info['param_cov'])\n"
     ]
    },
    {
     "name": "stdout",
     "output_type": "stream",
     "text": [
      "Done: _200Mpc_pos2_1800s\n",
      "INFO: Creating images [astroduet.lightcurve]\n"
     ]
    },
    {
     "name": "stderr",
     "output_type": "stream",
     "text": [
      "WARNING: table contains column(s) with defined 'unit', 'format', 'description', or 'meta' info attributes. These will be dropped since serialize_meta=False. [astropy.io.misc.hdf5]\n",
      "WARNING: Attribute `__serialized_columns__` of type <class 'dict'> cannot be written to HDF5 files - skipping. (Consider specifying serialize_meta=True to write all meta data) [astropy.io.misc.hdf5]\n"
     ]
    },
    {
     "name": "stdout",
     "output_type": "stream",
     "text": [
      "INFO: Constructing reference images [astroduet.lightcurve]\n",
      "INFO: Finding source in integrated diff image [astroduet.lightcurve]\n",
      "INFO: Measuring fluxes and creating light curve [astroduet.lightcurve]\n",
      "INFO: Creating images [astroduet.lightcurve]\n"
     ]
    },
    {
     "name": "stderr",
     "output_type": "stream",
     "text": [
      "WARNING: table contains column(s) with defined 'unit', 'format', 'description', or 'meta' info attributes. These will be dropped since serialize_meta=False. [astropy.io.misc.hdf5]\n",
      "WARNING: Attribute `__serialized_columns__` of type <class 'dict'> cannot be written to HDF5 files - skipping. (Consider specifying serialize_meta=True to write all meta data) [astropy.io.misc.hdf5]\n"
     ]
    },
    {
     "name": "stdout",
     "output_type": "stream",
     "text": [
      "INFO: Constructing reference images [astroduet.lightcurve]\n",
      "INFO: Finding source in integrated diff image [astroduet.lightcurve]\n",
      "INFO: Measuring fluxes and creating light curve [astroduet.lightcurve]\n",
      "Done: _200Mpc_pos2_3000s\n",
      "INFO: Creating images [astroduet.lightcurve]\n"
     ]
    },
    {
     "name": "stderr",
     "output_type": "stream",
     "text": [
      "WARNING: table contains column(s) with defined 'unit', 'format', 'description', or 'meta' info attributes. These will be dropped since serialize_meta=False. [astropy.io.misc.hdf5]\n",
      "WARNING: Attribute `__serialized_columns__` of type <class 'dict'> cannot be written to HDF5 files - skipping. (Consider specifying serialize_meta=True to write all meta data) [astropy.io.misc.hdf5]\n"
     ]
    },
    {
     "name": "stdout",
     "output_type": "stream",
     "text": [
      "INFO: Constructing reference images [astroduet.lightcurve]\n",
      "INFO: Finding source in integrated diff image [astroduet.lightcurve]\n",
      "INFO: Measuring fluxes and creating light curve [astroduet.lightcurve]\n",
      "INFO: Creating images [astroduet.lightcurve]\n"
     ]
    },
    {
     "name": "stderr",
     "output_type": "stream",
     "text": [
      "WARNING: table contains column(s) with defined 'unit', 'format', 'description', or 'meta' info attributes. These will be dropped since serialize_meta=False. [astropy.io.misc.hdf5]\n",
      "WARNING: Attribute `__serialized_columns__` of type <class 'dict'> cannot be written to HDF5 files - skipping. (Consider specifying serialize_meta=True to write all meta data) [astropy.io.misc.hdf5]\n"
     ]
    },
    {
     "name": "stdout",
     "output_type": "stream",
     "text": [
      "INFO: Constructing reference images [astroduet.lightcurve]\n",
      "INFO: Finding source in integrated diff image [astroduet.lightcurve]\n",
      "INFO: Measuring fluxes and creating light curve [astroduet.lightcurve]\n",
      "Done: _200Mpc_pos2_4200s\n",
      "INFO: Creating images [astroduet.lightcurve]\n"
     ]
    },
    {
     "name": "stderr",
     "output_type": "stream",
     "text": [
      "WARNING: table contains column(s) with defined 'unit', 'format', 'description', or 'meta' info attributes. These will be dropped since serialize_meta=False. [astropy.io.misc.hdf5]\n",
      "WARNING: Attribute `__serialized_columns__` of type <class 'dict'> cannot be written to HDF5 files - skipping. (Consider specifying serialize_meta=True to write all meta data) [astropy.io.misc.hdf5]\n"
     ]
    },
    {
     "name": "stdout",
     "output_type": "stream",
     "text": [
      "INFO: Constructing reference images [astroduet.lightcurve]\n",
      "INFO: Finding source in integrated diff image [astroduet.lightcurve]\n",
      "INFO: Measuring fluxes and creating light curve [astroduet.lightcurve]\n",
      "INFO: Creating images [astroduet.lightcurve]\n"
     ]
    },
    {
     "name": "stderr",
     "output_type": "stream",
     "text": [
      "WARNING: table contains column(s) with defined 'unit', 'format', 'description', or 'meta' info attributes. These will be dropped since serialize_meta=False. [astropy.io.misc.hdf5]\n",
      "WARNING: Attribute `__serialized_columns__` of type <class 'dict'> cannot be written to HDF5 files - skipping. (Consider specifying serialize_meta=True to write all meta data) [astropy.io.misc.hdf5]\n"
     ]
    },
    {
     "name": "stdout",
     "output_type": "stream",
     "text": [
      "INFO: Constructing reference images [astroduet.lightcurve]\n",
      "INFO: Finding source in integrated diff image [astroduet.lightcurve]\n",
      "INFO: Measuring fluxes and creating light curve [astroduet.lightcurve]\n",
      "Done: _200Mpc_pos3_1800s\n",
      "INFO: Creating images [astroduet.lightcurve]\n"
     ]
    },
    {
     "name": "stderr",
     "output_type": "stream",
     "text": [
      "WARNING: table contains column(s) with defined 'unit', 'format', 'description', or 'meta' info attributes. These will be dropped since serialize_meta=False. [astropy.io.misc.hdf5]\n",
      "WARNING: Attribute `__serialized_columns__` of type <class 'dict'> cannot be written to HDF5 files - skipping. (Consider specifying serialize_meta=True to write all meta data) [astropy.io.misc.hdf5]\n"
     ]
    },
    {
     "name": "stdout",
     "output_type": "stream",
     "text": [
      "INFO: Constructing reference images [astroduet.lightcurve]\n",
      "INFO: Finding source in integrated diff image [astroduet.lightcurve]\n",
      "INFO: Measuring fluxes and creating light curve [astroduet.lightcurve]\n",
      "INFO: Creating images [astroduet.lightcurve]\n"
     ]
    },
    {
     "name": "stderr",
     "output_type": "stream",
     "text": [
      "WARNING: table contains column(s) with defined 'unit', 'format', 'description', or 'meta' info attributes. These will be dropped since serialize_meta=False. [astropy.io.misc.hdf5]\n",
      "WARNING: Attribute `__serialized_columns__` of type <class 'dict'> cannot be written to HDF5 files - skipping. (Consider specifying serialize_meta=True to write all meta data) [astropy.io.misc.hdf5]\n"
     ]
    },
    {
     "name": "stdout",
     "output_type": "stream",
     "text": [
      "INFO: Constructing reference images [astroduet.lightcurve]\n",
      "INFO: Finding source in integrated diff image [astroduet.lightcurve]\n",
      "INFO: Measuring fluxes and creating light curve [astroduet.lightcurve]\n",
      "Done: _200Mpc_pos3_3000s\n",
      "INFO: Creating images [astroduet.lightcurve]\n"
     ]
    },
    {
     "name": "stderr",
     "output_type": "stream",
     "text": [
      "WARNING: table contains column(s) with defined 'unit', 'format', 'description', or 'meta' info attributes. These will be dropped since serialize_meta=False. [astropy.io.misc.hdf5]\n",
      "WARNING: Attribute `__serialized_columns__` of type <class 'dict'> cannot be written to HDF5 files - skipping. (Consider specifying serialize_meta=True to write all meta data) [astropy.io.misc.hdf5]\n"
     ]
    },
    {
     "name": "stdout",
     "output_type": "stream",
     "text": [
      "INFO: Constructing reference images [astroduet.lightcurve]\n",
      "INFO: Finding source in integrated diff image [astroduet.lightcurve]\n",
      "INFO: Measuring fluxes and creating light curve [astroduet.lightcurve]\n"
     ]
    },
    {
     "name": "stderr",
     "output_type": "stream",
     "text": [
      "/anaconda3/lib/python3.6/site-packages/photutils/psf/photometry.py:432: RuntimeWarning: invalid value encountered in sqrt\n",
      "  self.fitter.fit_info['param_cov'])\n"
     ]
    },
    {
     "name": "stdout",
     "output_type": "stream",
     "text": [
      "INFO: Creating images [astroduet.lightcurve]\n"
     ]
    },
    {
     "name": "stderr",
     "output_type": "stream",
     "text": [
      "WARNING: table contains column(s) with defined 'unit', 'format', 'description', or 'meta' info attributes. These will be dropped since serialize_meta=False. [astropy.io.misc.hdf5]\n",
      "WARNING: Attribute `__serialized_columns__` of type <class 'dict'> cannot be written to HDF5 files - skipping. (Consider specifying serialize_meta=True to write all meta data) [astropy.io.misc.hdf5]\n"
     ]
    },
    {
     "name": "stdout",
     "output_type": "stream",
     "text": [
      "INFO: Constructing reference images [astroduet.lightcurve]\n",
      "INFO: Finding source in integrated diff image [astroduet.lightcurve]\n",
      "INFO: Measuring fluxes and creating light curve [astroduet.lightcurve]\n",
      "Done: _200Mpc_pos3_4200s\n",
      "INFO: Creating images [astroduet.lightcurve]\n"
     ]
    },
    {
     "name": "stderr",
     "output_type": "stream",
     "text": [
      "WARNING: table contains column(s) with defined 'unit', 'format', 'description', or 'meta' info attributes. These will be dropped since serialize_meta=False. [astropy.io.misc.hdf5]\n",
      "WARNING: Attribute `__serialized_columns__` of type <class 'dict'> cannot be written to HDF5 files - skipping. (Consider specifying serialize_meta=True to write all meta data) [astropy.io.misc.hdf5]\n"
     ]
    },
    {
     "name": "stdout",
     "output_type": "stream",
     "text": [
      "INFO: Constructing reference images [astroduet.lightcurve]\n",
      "INFO: Finding source in integrated diff image [astroduet.lightcurve]\n",
      "INFO: Measuring fluxes and creating light curve [astroduet.lightcurve]\n",
      "INFO: Creating images [astroduet.lightcurve]\n"
     ]
    },
    {
     "name": "stderr",
     "output_type": "stream",
     "text": [
      "WARNING: table contains column(s) with defined 'unit', 'format', 'description', or 'meta' info attributes. These will be dropped since serialize_meta=False. [astropy.io.misc.hdf5]\n",
      "WARNING: Attribute `__serialized_columns__` of type <class 'dict'> cannot be written to HDF5 files - skipping. (Consider specifying serialize_meta=True to write all meta data) [astropy.io.misc.hdf5]\n"
     ]
    },
    {
     "name": "stdout",
     "output_type": "stream",
     "text": [
      "INFO: Constructing reference images [astroduet.lightcurve]\n",
      "INFO: Finding source in integrated diff image [astroduet.lightcurve]\n",
      "INFO: Measuring fluxes and creating light curve [astroduet.lightcurve]\n",
      "Done: _250Mpc_pos1_1800s\n",
      "INFO: Creating images [astroduet.lightcurve]\n"
     ]
    },
    {
     "name": "stderr",
     "output_type": "stream",
     "text": [
      "WARNING: table contains column(s) with defined 'unit', 'format', 'description', or 'meta' info attributes. These will be dropped since serialize_meta=False. [astropy.io.misc.hdf5]\n",
      "WARNING: Attribute `__serialized_columns__` of type <class 'dict'> cannot be written to HDF5 files - skipping. (Consider specifying serialize_meta=True to write all meta data) [astropy.io.misc.hdf5]\n"
     ]
    },
    {
     "name": "stdout",
     "output_type": "stream",
     "text": [
      "INFO: Constructing reference images [astroduet.lightcurve]\n",
      "INFO: Finding source in integrated diff image [astroduet.lightcurve]\n",
      "INFO: Measuring fluxes and creating light curve [astroduet.lightcurve]\n",
      "INFO: Creating images [astroduet.lightcurve]\n"
     ]
    },
    {
     "name": "stderr",
     "output_type": "stream",
     "text": [
      "WARNING: table contains column(s) with defined 'unit', 'format', 'description', or 'meta' info attributes. These will be dropped since serialize_meta=False. [astropy.io.misc.hdf5]\n",
      "WARNING: Attribute `__serialized_columns__` of type <class 'dict'> cannot be written to HDF5 files - skipping. (Consider specifying serialize_meta=True to write all meta data) [astropy.io.misc.hdf5]\n"
     ]
    },
    {
     "name": "stdout",
     "output_type": "stream",
     "text": [
      "INFO: Constructing reference images [astroduet.lightcurve]\n",
      "INFO: Finding source in integrated diff image [astroduet.lightcurve]\n",
      "INFO: Measuring fluxes and creating light curve [astroduet.lightcurve]\n"
     ]
    },
    {
     "name": "stderr",
     "output_type": "stream",
     "text": [
      "/anaconda3/lib/python3.6/site-packages/photutils/psf/photometry.py:432: RuntimeWarning: invalid value encountered in sqrt\n",
      "  self.fitter.fit_info['param_cov'])\n"
     ]
    },
    {
     "name": "stdout",
     "output_type": "stream",
     "text": [
      "Done: _250Mpc_pos1_3000s\n",
      "INFO: Creating images [astroduet.lightcurve]\n"
     ]
    },
    {
     "name": "stderr",
     "output_type": "stream",
     "text": [
      "WARNING: table contains column(s) with defined 'unit', 'format', 'description', or 'meta' info attributes. These will be dropped since serialize_meta=False. [astropy.io.misc.hdf5]\n",
      "WARNING: Attribute `__serialized_columns__` of type <class 'dict'> cannot be written to HDF5 files - skipping. (Consider specifying serialize_meta=True to write all meta data) [astropy.io.misc.hdf5]\n"
     ]
    },
    {
     "name": "stdout",
     "output_type": "stream",
     "text": [
      "INFO: Constructing reference images [astroduet.lightcurve]\n",
      "INFO: Finding source in integrated diff image [astroduet.lightcurve]\n",
      "INFO: Measuring fluxes and creating light curve [astroduet.lightcurve]\n",
      "INFO: Creating images [astroduet.lightcurve]\n"
     ]
    },
    {
     "name": "stderr",
     "output_type": "stream",
     "text": [
      "WARNING: table contains column(s) with defined 'unit', 'format', 'description', or 'meta' info attributes. These will be dropped since serialize_meta=False. [astropy.io.misc.hdf5]\n",
      "WARNING: Attribute `__serialized_columns__` of type <class 'dict'> cannot be written to HDF5 files - skipping. (Consider specifying serialize_meta=True to write all meta data) [astropy.io.misc.hdf5]\n"
     ]
    },
    {
     "name": "stdout",
     "output_type": "stream",
     "text": [
      "INFO: Constructing reference images [astroduet.lightcurve]\n",
      "INFO: Finding source in integrated diff image [astroduet.lightcurve]\n",
      "INFO: Measuring fluxes and creating light curve [astroduet.lightcurve]\n"
     ]
    },
    {
     "name": "stderr",
     "output_type": "stream",
     "text": [
      "/anaconda3/lib/python3.6/site-packages/photutils/psf/photometry.py:432: RuntimeWarning: invalid value encountered in sqrt\n",
      "  self.fitter.fit_info['param_cov'])\n"
     ]
    },
    {
     "name": "stdout",
     "output_type": "stream",
     "text": [
      "Done: _250Mpc_pos1_4200s\n",
      "INFO: Creating images [astroduet.lightcurve]\n"
     ]
    },
    {
     "name": "stderr",
     "output_type": "stream",
     "text": [
      "WARNING: table contains column(s) with defined 'unit', 'format', 'description', or 'meta' info attributes. These will be dropped since serialize_meta=False. [astropy.io.misc.hdf5]\n",
      "WARNING: Attribute `__serialized_columns__` of type <class 'dict'> cannot be written to HDF5 files - skipping. (Consider specifying serialize_meta=True to write all meta data) [astropy.io.misc.hdf5]\n"
     ]
    },
    {
     "name": "stdout",
     "output_type": "stream",
     "text": [
      "INFO: Constructing reference images [astroduet.lightcurve]\n",
      "INFO: Finding source in integrated diff image [astroduet.lightcurve]\n",
      "INFO: Measuring fluxes and creating light curve [astroduet.lightcurve]\n",
      "INFO: Creating images [astroduet.lightcurve]\n"
     ]
    },
    {
     "name": "stderr",
     "output_type": "stream",
     "text": [
      "WARNING: table contains column(s) with defined 'unit', 'format', 'description', or 'meta' info attributes. These will be dropped since serialize_meta=False. [astropy.io.misc.hdf5]\n",
      "WARNING: Attribute `__serialized_columns__` of type <class 'dict'> cannot be written to HDF5 files - skipping. (Consider specifying serialize_meta=True to write all meta data) [astropy.io.misc.hdf5]\n"
     ]
    },
    {
     "name": "stdout",
     "output_type": "stream",
     "text": [
      "INFO: Constructing reference images [astroduet.lightcurve]\n",
      "INFO: Finding source in integrated diff image [astroduet.lightcurve]\n",
      "INFO: Measuring fluxes and creating light curve [astroduet.lightcurve]\n",
      "Done: _250Mpc_pos2_1800s\n",
      "INFO: Creating images [astroduet.lightcurve]\n"
     ]
    },
    {
     "name": "stderr",
     "output_type": "stream",
     "text": [
      "WARNING: table contains column(s) with defined 'unit', 'format', 'description', or 'meta' info attributes. These will be dropped since serialize_meta=False. [astropy.io.misc.hdf5]\n",
      "WARNING: Attribute `__serialized_columns__` of type <class 'dict'> cannot be written to HDF5 files - skipping. (Consider specifying serialize_meta=True to write all meta data) [astropy.io.misc.hdf5]\n"
     ]
    },
    {
     "name": "stdout",
     "output_type": "stream",
     "text": [
      "INFO: Constructing reference images [astroduet.lightcurve]\n",
      "INFO: Finding source in integrated diff image [astroduet.lightcurve]\n",
      "INFO: Measuring fluxes and creating light curve [astroduet.lightcurve]\n",
      "INFO: Creating images [astroduet.lightcurve]\n"
     ]
    },
    {
     "name": "stderr",
     "output_type": "stream",
     "text": [
      "WARNING: table contains column(s) with defined 'unit', 'format', 'description', or 'meta' info attributes. These will be dropped since serialize_meta=False. [astropy.io.misc.hdf5]\n",
      "WARNING: Attribute `__serialized_columns__` of type <class 'dict'> cannot be written to HDF5 files - skipping. (Consider specifying serialize_meta=True to write all meta data) [astropy.io.misc.hdf5]\n"
     ]
    },
    {
     "name": "stdout",
     "output_type": "stream",
     "text": [
      "INFO: Constructing reference images [astroduet.lightcurve]\n",
      "INFO: Finding source in integrated diff image [astroduet.lightcurve]\n",
      "INFO: Measuring fluxes and creating light curve [astroduet.lightcurve]\n",
      "Done: _250Mpc_pos2_3000s\n",
      "INFO: Creating images [astroduet.lightcurve]\n"
     ]
    },
    {
     "name": "stderr",
     "output_type": "stream",
     "text": [
      "WARNING: table contains column(s) with defined 'unit', 'format', 'description', or 'meta' info attributes. These will be dropped since serialize_meta=False. [astropy.io.misc.hdf5]\n",
      "WARNING: Attribute `__serialized_columns__` of type <class 'dict'> cannot be written to HDF5 files - skipping. (Consider specifying serialize_meta=True to write all meta data) [astropy.io.misc.hdf5]\n"
     ]
    },
    {
     "name": "stdout",
     "output_type": "stream",
     "text": [
      "INFO: Constructing reference images [astroduet.lightcurve]\n",
      "INFO: Finding source in integrated diff image [astroduet.lightcurve]\n",
      "INFO: Measuring fluxes and creating light curve [astroduet.lightcurve]\n",
      "INFO: Creating images [astroduet.lightcurve]\n"
     ]
    },
    {
     "name": "stderr",
     "output_type": "stream",
     "text": [
      "WARNING: table contains column(s) with defined 'unit', 'format', 'description', or 'meta' info attributes. These will be dropped since serialize_meta=False. [astropy.io.misc.hdf5]\n",
      "WARNING: Attribute `__serialized_columns__` of type <class 'dict'> cannot be written to HDF5 files - skipping. (Consider specifying serialize_meta=True to write all meta data) [astropy.io.misc.hdf5]\n"
     ]
    },
    {
     "name": "stdout",
     "output_type": "stream",
     "text": [
      "INFO: Constructing reference images [astroduet.lightcurve]\n",
      "INFO: Finding source in integrated diff image [astroduet.lightcurve]\n",
      "INFO: Measuring fluxes and creating light curve [astroduet.lightcurve]\n",
      "Done: _250Mpc_pos2_4200s\n",
      "INFO: Creating images [astroduet.lightcurve]\n"
     ]
    },
    {
     "name": "stderr",
     "output_type": "stream",
     "text": [
      "WARNING: table contains column(s) with defined 'unit', 'format', 'description', or 'meta' info attributes. These will be dropped since serialize_meta=False. [astropy.io.misc.hdf5]\n",
      "WARNING: Attribute `__serialized_columns__` of type <class 'dict'> cannot be written to HDF5 files - skipping. (Consider specifying serialize_meta=True to write all meta data) [astropy.io.misc.hdf5]\n"
     ]
    },
    {
     "name": "stdout",
     "output_type": "stream",
     "text": [
      "INFO: Constructing reference images [astroduet.lightcurve]\n",
      "INFO: Finding source in integrated diff image [astroduet.lightcurve]\n",
      "INFO: Measuring fluxes and creating light curve [astroduet.lightcurve]\n",
      "INFO: Creating images [astroduet.lightcurve]\n"
     ]
    },
    {
     "name": "stderr",
     "output_type": "stream",
     "text": [
      "WARNING: table contains column(s) with defined 'unit', 'format', 'description', or 'meta' info attributes. These will be dropped since serialize_meta=False. [astropy.io.misc.hdf5]\n",
      "WARNING: Attribute `__serialized_columns__` of type <class 'dict'> cannot be written to HDF5 files - skipping. (Consider specifying serialize_meta=True to write all meta data) [astropy.io.misc.hdf5]\n"
     ]
    },
    {
     "name": "stdout",
     "output_type": "stream",
     "text": [
      "INFO: Constructing reference images [astroduet.lightcurve]\n",
      "INFO: Finding source in integrated diff image [astroduet.lightcurve]\n",
      "INFO: Measuring fluxes and creating light curve [astroduet.lightcurve]\n",
      "Done: _250Mpc_pos3_1800s\n",
      "INFO: Creating images [astroduet.lightcurve]\n"
     ]
    },
    {
     "name": "stderr",
     "output_type": "stream",
     "text": [
      "WARNING: table contains column(s) with defined 'unit', 'format', 'description', or 'meta' info attributes. These will be dropped since serialize_meta=False. [astropy.io.misc.hdf5]\n",
      "WARNING: Attribute `__serialized_columns__` of type <class 'dict'> cannot be written to HDF5 files - skipping. (Consider specifying serialize_meta=True to write all meta data) [astropy.io.misc.hdf5]\n"
     ]
    },
    {
     "name": "stdout",
     "output_type": "stream",
     "text": [
      "INFO: Constructing reference images [astroduet.lightcurve]\n",
      "INFO: Finding source in integrated diff image [astroduet.lightcurve]\n",
      "INFO: Measuring fluxes and creating light curve [astroduet.lightcurve]\n",
      "INFO: Creating images [astroduet.lightcurve]\n"
     ]
    },
    {
     "name": "stderr",
     "output_type": "stream",
     "text": [
      "WARNING: table contains column(s) with defined 'unit', 'format', 'description', or 'meta' info attributes. These will be dropped since serialize_meta=False. [astropy.io.misc.hdf5]\n",
      "WARNING: Attribute `__serialized_columns__` of type <class 'dict'> cannot be written to HDF5 files - skipping. (Consider specifying serialize_meta=True to write all meta data) [astropy.io.misc.hdf5]\n"
     ]
    },
    {
     "name": "stdout",
     "output_type": "stream",
     "text": [
      "INFO: Constructing reference images [astroduet.lightcurve]\n",
      "INFO: Finding source in integrated diff image [astroduet.lightcurve]\n",
      "INFO: Measuring fluxes and creating light curve [astroduet.lightcurve]\n",
      "Done: _250Mpc_pos3_3000s\n",
      "INFO: Creating images [astroduet.lightcurve]\n"
     ]
    },
    {
     "name": "stderr",
     "output_type": "stream",
     "text": [
      "WARNING: table contains column(s) with defined 'unit', 'format', 'description', or 'meta' info attributes. These will be dropped since serialize_meta=False. [astropy.io.misc.hdf5]\n",
      "WARNING: Attribute `__serialized_columns__` of type <class 'dict'> cannot be written to HDF5 files - skipping. (Consider specifying serialize_meta=True to write all meta data) [astropy.io.misc.hdf5]\n"
     ]
    },
    {
     "name": "stdout",
     "output_type": "stream",
     "text": [
      "INFO: Constructing reference images [astroduet.lightcurve]\n",
      "INFO: Finding source in integrated diff image [astroduet.lightcurve]\n",
      "INFO: Measuring fluxes and creating light curve [astroduet.lightcurve]\n",
      "INFO: Creating images [astroduet.lightcurve]\n"
     ]
    },
    {
     "name": "stderr",
     "output_type": "stream",
     "text": [
      "WARNING: table contains column(s) with defined 'unit', 'format', 'description', or 'meta' info attributes. These will be dropped since serialize_meta=False. [astropy.io.misc.hdf5]\n",
      "WARNING: Attribute `__serialized_columns__` of type <class 'dict'> cannot be written to HDF5 files - skipping. (Consider specifying serialize_meta=True to write all meta data) [astropy.io.misc.hdf5]\n"
     ]
    },
    {
     "name": "stdout",
     "output_type": "stream",
     "text": [
      "INFO: Constructing reference images [astroduet.lightcurve]\n",
      "INFO: Finding source in integrated diff image [astroduet.lightcurve]\n",
      "INFO: Measuring fluxes and creating light curve [astroduet.lightcurve]\n",
      "Done: _250Mpc_pos3_4200s\n",
      "INFO: Creating images [astroduet.lightcurve]\n"
     ]
    },
    {
     "name": "stderr",
     "output_type": "stream",
     "text": [
      "WARNING: table contains column(s) with defined 'unit', 'format', 'description', or 'meta' info attributes. These will be dropped since serialize_meta=False. [astropy.io.misc.hdf5]\n",
      "WARNING: Attribute `__serialized_columns__` of type <class 'dict'> cannot be written to HDF5 files - skipping. (Consider specifying serialize_meta=True to write all meta data) [astropy.io.misc.hdf5]\n"
     ]
    },
    {
     "name": "stdout",
     "output_type": "stream",
     "text": [
      "INFO: Constructing reference images [astroduet.lightcurve]\n",
      "INFO: Finding source in integrated diff image [astroduet.lightcurve]\n",
      "INFO: Measuring fluxes and creating light curve [astroduet.lightcurve]\n",
      "INFO: Creating images [astroduet.lightcurve]\n"
     ]
    },
    {
     "name": "stderr",
     "output_type": "stream",
     "text": [
      "WARNING: table contains column(s) with defined 'unit', 'format', 'description', or 'meta' info attributes. These will be dropped since serialize_meta=False. [astropy.io.misc.hdf5]\n",
      "WARNING: Attribute `__serialized_columns__` of type <class 'dict'> cannot be written to HDF5 files - skipping. (Consider specifying serialize_meta=True to write all meta data) [astropy.io.misc.hdf5]\n"
     ]
    },
    {
     "name": "stdout",
     "output_type": "stream",
     "text": [
      "INFO: Constructing reference images [astroduet.lightcurve]\n",
      "INFO: Finding source in integrated diff image [astroduet.lightcurve]\n",
      "INFO: Measuring fluxes and creating light curve [astroduet.lightcurve]\n",
      "Done: _300Mpc_pos1_1800s\n",
      "INFO: Creating images [astroduet.lightcurve]\n"
     ]
    },
    {
     "name": "stderr",
     "output_type": "stream",
     "text": [
      "WARNING: table contains column(s) with defined 'unit', 'format', 'description', or 'meta' info attributes. These will be dropped since serialize_meta=False. [astropy.io.misc.hdf5]\n",
      "WARNING: Attribute `__serialized_columns__` of type <class 'dict'> cannot be written to HDF5 files - skipping. (Consider specifying serialize_meta=True to write all meta data) [astropy.io.misc.hdf5]\n"
     ]
    },
    {
     "name": "stdout",
     "output_type": "stream",
     "text": [
      "INFO: Constructing reference images [astroduet.lightcurve]\n",
      "INFO: Finding source in integrated diff image [astroduet.lightcurve]\n",
      "INFO: Measuring fluxes and creating light curve [astroduet.lightcurve]\n",
      "INFO: Creating images [astroduet.lightcurve]\n"
     ]
    },
    {
     "name": "stderr",
     "output_type": "stream",
     "text": [
      "WARNING: table contains column(s) with defined 'unit', 'format', 'description', or 'meta' info attributes. These will be dropped since serialize_meta=False. [astropy.io.misc.hdf5]\n",
      "WARNING: Attribute `__serialized_columns__` of type <class 'dict'> cannot be written to HDF5 files - skipping. (Consider specifying serialize_meta=True to write all meta data) [astropy.io.misc.hdf5]\n"
     ]
    },
    {
     "name": "stdout",
     "output_type": "stream",
     "text": [
      "INFO: Constructing reference images [astroduet.lightcurve]\n",
      "INFO: Finding source in integrated diff image [astroduet.lightcurve]\n",
      "INFO: Measuring fluxes and creating light curve [astroduet.lightcurve]\n",
      "Done: _300Mpc_pos1_3000s\n",
      "INFO: Creating images [astroduet.lightcurve]\n"
     ]
    },
    {
     "name": "stderr",
     "output_type": "stream",
     "text": [
      "WARNING: table contains column(s) with defined 'unit', 'format', 'description', or 'meta' info attributes. These will be dropped since serialize_meta=False. [astropy.io.misc.hdf5]\n",
      "WARNING: Attribute `__serialized_columns__` of type <class 'dict'> cannot be written to HDF5 files - skipping. (Consider specifying serialize_meta=True to write all meta data) [astropy.io.misc.hdf5]\n"
     ]
    },
    {
     "name": "stdout",
     "output_type": "stream",
     "text": [
      "INFO: Constructing reference images [astroduet.lightcurve]\n",
      "INFO: Finding source in integrated diff image [astroduet.lightcurve]\n",
      "INFO: Measuring fluxes and creating light curve [astroduet.lightcurve]\n",
      "INFO: Creating images [astroduet.lightcurve]\n"
     ]
    },
    {
     "name": "stderr",
     "output_type": "stream",
     "text": [
      "WARNING: table contains column(s) with defined 'unit', 'format', 'description', or 'meta' info attributes. These will be dropped since serialize_meta=False. [astropy.io.misc.hdf5]\n",
      "WARNING: Attribute `__serialized_columns__` of type <class 'dict'> cannot be written to HDF5 files - skipping. (Consider specifying serialize_meta=True to write all meta data) [astropy.io.misc.hdf5]\n"
     ]
    },
    {
     "name": "stdout",
     "output_type": "stream",
     "text": [
      "INFO: Constructing reference images [astroduet.lightcurve]\n",
      "INFO: Finding source in integrated diff image [astroduet.lightcurve]\n",
      "INFO: Measuring fluxes and creating light curve [astroduet.lightcurve]\n",
      "Done: _300Mpc_pos1_4200s\n",
      "INFO: Creating images [astroduet.lightcurve]\n"
     ]
    },
    {
     "name": "stderr",
     "output_type": "stream",
     "text": [
      "WARNING: table contains column(s) with defined 'unit', 'format', 'description', or 'meta' info attributes. These will be dropped since serialize_meta=False. [astropy.io.misc.hdf5]\n",
      "WARNING: Attribute `__serialized_columns__` of type <class 'dict'> cannot be written to HDF5 files - skipping. (Consider specifying serialize_meta=True to write all meta data) [astropy.io.misc.hdf5]\n"
     ]
    },
    {
     "name": "stdout",
     "output_type": "stream",
     "text": [
      "INFO: Constructing reference images [astroduet.lightcurve]\n",
      "INFO: Finding source in integrated diff image [astroduet.lightcurve]\n",
      "INFO: Measuring fluxes and creating light curve [astroduet.lightcurve]\n",
      "INFO: Creating images [astroduet.lightcurve]\n"
     ]
    },
    {
     "name": "stderr",
     "output_type": "stream",
     "text": [
      "WARNING: table contains column(s) with defined 'unit', 'format', 'description', or 'meta' info attributes. These will be dropped since serialize_meta=False. [astropy.io.misc.hdf5]\n",
      "WARNING: Attribute `__serialized_columns__` of type <class 'dict'> cannot be written to HDF5 files - skipping. (Consider specifying serialize_meta=True to write all meta data) [astropy.io.misc.hdf5]\n"
     ]
    },
    {
     "name": "stdout",
     "output_type": "stream",
     "text": [
      "INFO: Constructing reference images [astroduet.lightcurve]\n",
      "INFO: Finding source in integrated diff image [astroduet.lightcurve]\n",
      "INFO: Measuring fluxes and creating light curve [astroduet.lightcurve]\n",
      "Done: _300Mpc_pos2_1800s\n",
      "INFO: Creating images [astroduet.lightcurve]\n"
     ]
    },
    {
     "name": "stderr",
     "output_type": "stream",
     "text": [
      "WARNING: table contains column(s) with defined 'unit', 'format', 'description', or 'meta' info attributes. These will be dropped since serialize_meta=False. [astropy.io.misc.hdf5]\n",
      "WARNING: Attribute `__serialized_columns__` of type <class 'dict'> cannot be written to HDF5 files - skipping. (Consider specifying serialize_meta=True to write all meta data) [astropy.io.misc.hdf5]\n"
     ]
    },
    {
     "name": "stdout",
     "output_type": "stream",
     "text": [
      "INFO: Constructing reference images [astroduet.lightcurve]\n",
      "INFO: Finding source in integrated diff image [astroduet.lightcurve]\n",
      "INFO: Measuring fluxes and creating light curve [astroduet.lightcurve]\n",
      "INFO: Creating images [astroduet.lightcurve]\n"
     ]
    },
    {
     "name": "stderr",
     "output_type": "stream",
     "text": [
      "WARNING: table contains column(s) with defined 'unit', 'format', 'description', or 'meta' info attributes. These will be dropped since serialize_meta=False. [astropy.io.misc.hdf5]\n",
      "WARNING: Attribute `__serialized_columns__` of type <class 'dict'> cannot be written to HDF5 files - skipping. (Consider specifying serialize_meta=True to write all meta data) [astropy.io.misc.hdf5]\n"
     ]
    },
    {
     "name": "stdout",
     "output_type": "stream",
     "text": [
      "INFO: Constructing reference images [astroduet.lightcurve]\n",
      "INFO: Finding source in integrated diff image [astroduet.lightcurve]\n",
      "INFO: Measuring fluxes and creating light curve [astroduet.lightcurve]\n",
      "Done: _300Mpc_pos2_3000s\n",
      "INFO: Creating images [astroduet.lightcurve]\n"
     ]
    },
    {
     "name": "stderr",
     "output_type": "stream",
     "text": [
      "WARNING: table contains column(s) with defined 'unit', 'format', 'description', or 'meta' info attributes. These will be dropped since serialize_meta=False. [astropy.io.misc.hdf5]\n",
      "WARNING: Attribute `__serialized_columns__` of type <class 'dict'> cannot be written to HDF5 files - skipping. (Consider specifying serialize_meta=True to write all meta data) [astropy.io.misc.hdf5]\n"
     ]
    },
    {
     "name": "stdout",
     "output_type": "stream",
     "text": [
      "INFO: Constructing reference images [astroduet.lightcurve]\n",
      "INFO: Finding source in integrated diff image [astroduet.lightcurve]\n",
      "INFO: Measuring fluxes and creating light curve [astroduet.lightcurve]\n",
      "INFO: Creating images [astroduet.lightcurve]\n"
     ]
    },
    {
     "name": "stderr",
     "output_type": "stream",
     "text": [
      "WARNING: table contains column(s) with defined 'unit', 'format', 'description', or 'meta' info attributes. These will be dropped since serialize_meta=False. [astropy.io.misc.hdf5]\n",
      "WARNING: Attribute `__serialized_columns__` of type <class 'dict'> cannot be written to HDF5 files - skipping. (Consider specifying serialize_meta=True to write all meta data) [astropy.io.misc.hdf5]\n"
     ]
    },
    {
     "name": "stdout",
     "output_type": "stream",
     "text": [
      "INFO: Constructing reference images [astroduet.lightcurve]\n",
      "INFO: Finding source in integrated diff image [astroduet.lightcurve]\n",
      "INFO: Measuring fluxes and creating light curve [astroduet.lightcurve]\n",
      "Done: _300Mpc_pos2_4200s\n",
      "INFO: Creating images [astroduet.lightcurve]\n"
     ]
    },
    {
     "name": "stderr",
     "output_type": "stream",
     "text": [
      "WARNING: table contains column(s) with defined 'unit', 'format', 'description', or 'meta' info attributes. These will be dropped since serialize_meta=False. [astropy.io.misc.hdf5]\n",
      "WARNING: Attribute `__serialized_columns__` of type <class 'dict'> cannot be written to HDF5 files - skipping. (Consider specifying serialize_meta=True to write all meta data) [astropy.io.misc.hdf5]\n"
     ]
    },
    {
     "name": "stdout",
     "output_type": "stream",
     "text": [
      "INFO: Constructing reference images [astroduet.lightcurve]\n",
      "INFO: Finding source in integrated diff image [astroduet.lightcurve]\n",
      "INFO: Measuring fluxes and creating light curve [astroduet.lightcurve]\n",
      "INFO: Creating images [astroduet.lightcurve]\n"
     ]
    },
    {
     "name": "stderr",
     "output_type": "stream",
     "text": [
      "WARNING: table contains column(s) with defined 'unit', 'format', 'description', or 'meta' info attributes. These will be dropped since serialize_meta=False. [astropy.io.misc.hdf5]\n",
      "WARNING: Attribute `__serialized_columns__` of type <class 'dict'> cannot be written to HDF5 files - skipping. (Consider specifying serialize_meta=True to write all meta data) [astropy.io.misc.hdf5]\n"
     ]
    },
    {
     "name": "stdout",
     "output_type": "stream",
     "text": [
      "INFO: Constructing reference images [astroduet.lightcurve]\n",
      "INFO: Finding source in integrated diff image [astroduet.lightcurve]\n",
      "INFO: Measuring fluxes and creating light curve [astroduet.lightcurve]\n",
      "Done: _300Mpc_pos3_1800s\n",
      "INFO: Creating images [astroduet.lightcurve]\n"
     ]
    },
    {
     "name": "stderr",
     "output_type": "stream",
     "text": [
      "WARNING: table contains column(s) with defined 'unit', 'format', 'description', or 'meta' info attributes. These will be dropped since serialize_meta=False. [astropy.io.misc.hdf5]\n",
      "WARNING: Attribute `__serialized_columns__` of type <class 'dict'> cannot be written to HDF5 files - skipping. (Consider specifying serialize_meta=True to write all meta data) [astropy.io.misc.hdf5]\n"
     ]
    },
    {
     "name": "stdout",
     "output_type": "stream",
     "text": [
      "INFO: Constructing reference images [astroduet.lightcurve]\n",
      "INFO: Finding source in integrated diff image [astroduet.lightcurve]\n",
      "INFO: Measuring fluxes and creating light curve [astroduet.lightcurve]\n",
      "INFO: Creating images [astroduet.lightcurve]\n"
     ]
    },
    {
     "name": "stderr",
     "output_type": "stream",
     "text": [
      "WARNING: table contains column(s) with defined 'unit', 'format', 'description', or 'meta' info attributes. These will be dropped since serialize_meta=False. [astropy.io.misc.hdf5]\n",
      "WARNING: Attribute `__serialized_columns__` of type <class 'dict'> cannot be written to HDF5 files - skipping. (Consider specifying serialize_meta=True to write all meta data) [astropy.io.misc.hdf5]\n"
     ]
    },
    {
     "name": "stdout",
     "output_type": "stream",
     "text": [
      "INFO: Constructing reference images [astroduet.lightcurve]\n",
      "INFO: Finding source in integrated diff image [astroduet.lightcurve]\n",
      "INFO: Measuring fluxes and creating light curve [astroduet.lightcurve]\n",
      "Done: _300Mpc_pos3_3000s\n",
      "INFO: Creating images [astroduet.lightcurve]\n"
     ]
    },
    {
     "name": "stderr",
     "output_type": "stream",
     "text": [
      "WARNING: table contains column(s) with defined 'unit', 'format', 'description', or 'meta' info attributes. These will be dropped since serialize_meta=False. [astropy.io.misc.hdf5]\n",
      "WARNING: Attribute `__serialized_columns__` of type <class 'dict'> cannot be written to HDF5 files - skipping. (Consider specifying serialize_meta=True to write all meta data) [astropy.io.misc.hdf5]\n"
     ]
    },
    {
     "name": "stdout",
     "output_type": "stream",
     "text": [
      "INFO: Constructing reference images [astroduet.lightcurve]\n",
      "INFO: Finding source in integrated diff image [astroduet.lightcurve]\n",
      "INFO: Measuring fluxes and creating light curve [astroduet.lightcurve]\n",
      "INFO: Creating images [astroduet.lightcurve]\n"
     ]
    },
    {
     "name": "stderr",
     "output_type": "stream",
     "text": [
      "WARNING: table contains column(s) with defined 'unit', 'format', 'description', or 'meta' info attributes. These will be dropped since serialize_meta=False. [astropy.io.misc.hdf5]\n",
      "WARNING: Attribute `__serialized_columns__` of type <class 'dict'> cannot be written to HDF5 files - skipping. (Consider specifying serialize_meta=True to write all meta data) [astropy.io.misc.hdf5]\n"
     ]
    },
    {
     "name": "stdout",
     "output_type": "stream",
     "text": [
      "INFO: Constructing reference images [astroduet.lightcurve]\n",
      "INFO: Finding source in integrated diff image [astroduet.lightcurve]\n",
      "INFO: Measuring fluxes and creating light curve [astroduet.lightcurve]\n",
      "Done: _300Mpc_pos3_4200s\n"
     ]
    }
   ],
   "source": [
    "# Generate the directories of images you need. \n",
    "# Creates duet-astro/notebooks/debug_imgs directory, lightcurve image tables are in individual directories beneath.\n",
    "# ***WARNING***: this generates *90* directories, around ~12MB each (~1GB total)\n",
    "# It takes ~15 minutes per distance to run, about 1 hr 15m in total\n",
    "# Want to download the data as generated below if you haven't made any changes? \n",
    "# Grab it from my Dropbox here: https://www.dropbox.com/sh/8gk0xemb2zehrc8/AAAgHqR6donORB2-594xsX1ba?dl=0\n",
    "\n",
    "# Loop through distances\n",
    "for distance in distances:\n",
    "    \n",
    "    r_eff = r_eff_init * ((100*u.Mpc)**2 / distance**2) # r_eff for spiral galaxy at distance, in pixels\n",
    "    r_eff = r_eff.value\n",
    "    \n",
    "    # Loop through three different source positions: r_eff*2, r_eff, r_eff/2\n",
    "    for x_0, pos in zip([r_eff*2, r_eff, r_eff/2], [1,2,3]):\n",
    "        # Surface brightness is independent of distance, set to 24 mag/arcsec**2\n",
    "        gal_params = {'magnitude': 24, 'r_eff': r_eff, 'n': 1, 'theta': 0, 'ellip': 0.5, 'x_0': x_0, 'y_0': 0}\n",
    "\n",
    "        # Loop through different start times (end after 1 day - we're not going to need more than that)\n",
    "        end_time = 86400. * u.s\n",
    "        for start_time in start_times:\n",
    "            \n",
    "            observing_windows = np.array([[start_time.to(u.s).value,end_time.to(u.s).value]]) * u.s\n",
    "            file_suffix = \"_{}Mpc_pos{}_{}s\".format(np.int(distance.value),pos,np.int(start_time.value))\n",
    "\n",
    "            # Get lightcurve through images with debug on so it's storing files\n",
    "            lightcurve_shock = get_lightcurve(\"shock_5e10.dat\", distance=distance, exposure=exposure, duet=duet,\n",
    "                                              observing_windows=observing_windows)\n",
    "            im_lightcurve_shock = lightcurve_through_image(lightcurve_shock, exposure=exposure, frame=frame, duet=duet,\n",
    "                                                           gal_type='custom', gal_params=gal_params,\n",
    "                                                           debug=True, debugfilename='shock'+file_suffix)\n",
    "            \n",
    "            lightcurve_blukn = get_lightcurve(\"kilonova_0.04.dat\", distance=distance, exposure=exposure, duet=duet,\n",
    "                                              observing_windows=observing_windows)\n",
    "            im_lightcurve_blukn = lightcurve_through_image(lightcurve_blukn, exposure=exposure, frame=frame, duet=duet,\n",
    "                                                           gal_type='custom', gal_params=gal_params,\n",
    "                                                           debug=True, debugfilename='blukn'+file_suffix)\n",
    "            \n",
    "            print(\"Done: \"+file_suffix)\n",
    "\n"
   ]
  },
  {
   "cell_type": "code",
   "execution_count": 22,
   "metadata": {
    "scrolled": true
   },
   "outputs": [
    {
     "name": "stderr",
     "output_type": "stream",
     "text": [
      "WARNING: path= was not specified but multiple tables are present, reading in first available table (path=default) [astropy.io.misc.hdf5]\n",
      "WARNING: path= was not specified but multiple tables are present, reading in first available table (path=default) [astropy.io.misc.hdf5]\n",
      "WARNING: path= was not specified but multiple tables are present, reading in first available table (path=default) [astropy.io.misc.hdf5]\n",
      "WARNING: path= was not specified but multiple tables are present, reading in first available table (path=default) [astropy.io.misc.hdf5]\n",
      "WARNING: path= was not specified but multiple tables are present, reading in first available table (path=default) [astropy.io.misc.hdf5]\n",
      "WARNING: path= was not specified but multiple tables are present, reading in first available table (path=default) [astropy.io.misc.hdf5]\n",
      "WARNING: path= was not specified but multiple tables are present, reading in first available table (path=default) [astropy.io.misc.hdf5]\n",
      "WARNING: path= was not specified but multiple tables are present, reading in first available table (path=default) [astropy.io.misc.hdf5]\n",
      "WARNING: path= was not specified but multiple tables are present, reading in first available table (path=default) [astropy.io.misc.hdf5]\n",
      "WARNING: path= was not specified but multiple tables are present, reading in first available table (path=default) [astropy.io.misc.hdf5]\n",
      "WARNING: path= was not specified but multiple tables are present, reading in first available table (path=default) [astropy.io.misc.hdf5]\n",
      "WARNING: path= was not specified but multiple tables are present, reading in first available table (path=default) [astropy.io.misc.hdf5]\n",
      "WARNING: path= was not specified but multiple tables are present, reading in first available table (path=default) [astropy.io.misc.hdf5]\n",
      "WARNING: path= was not specified but multiple tables are present, reading in first available table (path=default) [astropy.io.misc.hdf5]\n",
      "WARNING: path= was not specified but multiple tables are present, reading in first available table (path=default) [astropy.io.misc.hdf5]\n",
      "WARNING: path= was not specified but multiple tables are present, reading in first available table (path=default) [astropy.io.misc.hdf5]\n",
      "WARNING: path= was not specified but multiple tables are present, reading in first available table (path=default) [astropy.io.misc.hdf5]\n",
      "WARNING: path= was not specified but multiple tables are present, reading in first available table (path=default) [astropy.io.misc.hdf5]\n",
      "WARNING: path= was not specified but multiple tables are present, reading in first available table (path=default) [astropy.io.misc.hdf5]\n",
      "WARNING: path= was not specified but multiple tables are present, reading in first available table (path=default) [astropy.io.misc.hdf5]\n",
      "WARNING: No local peaks were found. [photutils.detection.core]\n",
      "WARNING: path= was not specified but multiple tables are present, reading in first available table (path=default) [astropy.io.misc.hdf5]\n",
      "WARNING: path= was not specified but multiple tables are present, reading in first available table (path=default) [astropy.io.misc.hdf5]\n",
      "WARNING: No local peaks were found. [photutils.detection.core]\n",
      "WARNING: No local peaks were found. [photutils.detection.core]\n",
      "WARNING: path= was not specified but multiple tables are present, reading in first available table (path=default) [astropy.io.misc.hdf5]\n",
      "WARNING: path= was not specified but multiple tables are present, reading in first available table (path=default) [astropy.io.misc.hdf5]\n",
      "WARNING: path= was not specified but multiple tables are present, reading in first available table (path=default) [astropy.io.misc.hdf5]\n",
      "WARNING: path= was not specified but multiple tables are present, reading in first available table (path=default) [astropy.io.misc.hdf5]\n",
      "WARNING: No local peaks were found. [photutils.detection.core]\n",
      "WARNING: No local peaks were found. [photutils.detection.core]\n",
      "WARNING: path= was not specified but multiple tables are present, reading in first available table (path=default) [astropy.io.misc.hdf5]\n",
      "WARNING: path= was not specified but multiple tables are present, reading in first available table (path=default) [astropy.io.misc.hdf5]\n",
      "WARNING: No local peaks were found. [photutils.detection.core]\n",
      "WARNING: path= was not specified but multiple tables are present, reading in first available table (path=default) [astropy.io.misc.hdf5]\n",
      "WARNING: path= was not specified but multiple tables are present, reading in first available table (path=default) [astropy.io.misc.hdf5]\n",
      "WARNING: path= was not specified but multiple tables are present, reading in first available table (path=default) [astropy.io.misc.hdf5]\n",
      "WARNING: path= was not specified but multiple tables are present, reading in first available table (path=default) [astropy.io.misc.hdf5]\n",
      "WARNING: path= was not specified but multiple tables are present, reading in first available table (path=default) [astropy.io.misc.hdf5]\n",
      "WARNING: path= was not specified but multiple tables are present, reading in first available table (path=default) [astropy.io.misc.hdf5]\n",
      "WARNING: No local peaks were found. [photutils.detection.core]\n",
      "WARNING: path= was not specified but multiple tables are present, reading in first available table (path=default) [astropy.io.misc.hdf5]\n",
      "WARNING: path= was not specified but multiple tables are present, reading in first available table (path=default) [astropy.io.misc.hdf5]\n",
      "WARNING: path= was not specified but multiple tables are present, reading in first available table (path=default) [astropy.io.misc.hdf5]\n",
      "WARNING: path= was not specified but multiple tables are present, reading in first available table (path=default) [astropy.io.misc.hdf5]\n",
      "WARNING: No local peaks were found. [photutils.detection.core]\n",
      "WARNING: No local peaks were found. [photutils.detection.core]\n",
      "WARNING: No local peaks were found. [photutils.detection.core]\n",
      "WARNING: No local peaks were found. [photutils.detection.core]\n",
      "WARNING: No local peaks were found. [photutils.detection.core]\n",
      "WARNING: No local peaks were found. [photutils.detection.core]\n",
      "WARNING: No local peaks were found. [photutils.detection.core]\n",
      "WARNING: No local peaks were found. [photutils.detection.core]\n",
      "WARNING: No local peaks were found. [photutils.detection.core]\n",
      "WARNING: No local peaks were found. [photutils.detection.core]\n",
      "WARNING: path= was not specified but multiple tables are present, reading in first available table (path=default) [astropy.io.misc.hdf5]\n",
      "WARNING: path= was not specified but multiple tables are present, reading in first available table (path=default) [astropy.io.misc.hdf5]\n",
      "WARNING: No local peaks were found. [photutils.detection.core]\n",
      "WARNING: No local peaks were found. [photutils.detection.core]\n",
      "WARNING: No local peaks were found. [photutils.detection.core]\n",
      "WARNING: No local peaks were found. [photutils.detection.core]\n",
      "WARNING: No local peaks were found. [photutils.detection.core]\n",
      "WARNING: No local peaks were found. [photutils.detection.core]\n",
      "WARNING: No local peaks were found. [photutils.detection.core]\n",
      "WARNING: No local peaks were found. [photutils.detection.core]\n",
      "WARNING: path= was not specified but multiple tables are present, reading in first available table (path=default) [astropy.io.misc.hdf5]\n",
      "WARNING: path= was not specified but multiple tables are present, reading in first available table (path=default) [astropy.io.misc.hdf5]\n",
      "WARNING: No local peaks were found. [photutils.detection.core]\n",
      "WARNING: No local peaks were found. [photutils.detection.core]\n",
      "WARNING: No local peaks were found. [photutils.detection.core]\n",
      "WARNING: No local peaks were found. [photutils.detection.core]\n",
      "WARNING: No local peaks were found. [photutils.detection.core]\n",
      "WARNING: No local peaks were found. [photutils.detection.core]\n",
      "WARNING: No local peaks were found. [photutils.detection.core]\n",
      "WARNING: path= was not specified but multiple tables are present, reading in first available table (path=default) [astropy.io.misc.hdf5]\n",
      "WARNING: path= was not specified but multiple tables are present, reading in first available table (path=default) [astropy.io.misc.hdf5]\n",
      "WARNING: No local peaks were found. [photutils.detection.core]\n",
      "WARNING: No local peaks were found. [photutils.detection.core]\n",
      "WARNING: No local peaks were found. [photutils.detection.core]\n"
     ]
    },
    {
     "name": "stderr",
     "output_type": "stream",
     "text": [
      "WARNING: No local peaks were found. [photutils.detection.core]\n",
      "WARNING: No local peaks were found. [photutils.detection.core]\n",
      "WARNING: No local peaks were found. [photutils.detection.core]\n",
      "WARNING: No local peaks were found. [photutils.detection.core]\n",
      "WARNING: No local peaks were found. [photutils.detection.core]\n",
      "WARNING: No local peaks were found. [photutils.detection.core]\n",
      "WARNING: path= was not specified but multiple tables are present, reading in first available table (path=default) [astropy.io.misc.hdf5]\n",
      "WARNING: path= was not specified but multiple tables are present, reading in first available table (path=default) [astropy.io.misc.hdf5]\n",
      "WARNING: path= was not specified but multiple tables are present, reading in first available table (path=default) [astropy.io.misc.hdf5]\n",
      "WARNING: path= was not specified but multiple tables are present, reading in first available table (path=default) [astropy.io.misc.hdf5]\n",
      "WARNING: No local peaks were found. [photutils.detection.core]\n",
      "WARNING: No local peaks were found. [photutils.detection.core]\n",
      "WARNING: path= was not specified but multiple tables are present, reading in first available table (path=default) [astropy.io.misc.hdf5]\n",
      "WARNING: path= was not specified but multiple tables are present, reading in first available table (path=default) [astropy.io.misc.hdf5]\n",
      "WARNING: No local peaks were found. [photutils.detection.core]\n",
      "WARNING: No local peaks were found. [photutils.detection.core]\n",
      "WARNING: No local peaks were found. [photutils.detection.core]\n",
      "WARNING: No local peaks were found. [photutils.detection.core]\n",
      "WARNING: path= was not specified but multiple tables are present, reading in first available table (path=default) [astropy.io.misc.hdf5]\n",
      "WARNING: path= was not specified but multiple tables are present, reading in first available table (path=default) [astropy.io.misc.hdf5]\n",
      "WARNING: No local peaks were found. [photutils.detection.core]\n",
      "WARNING: No local peaks were found. [photutils.detection.core]\n",
      "WARNING: No local peaks were found. [photutils.detection.core]\n",
      "WARNING: No local peaks were found. [photutils.detection.core]\n",
      "WARNING: No local peaks were found. [photutils.detection.core]\n",
      "WARNING: No local peaks were found. [photutils.detection.core]\n",
      "WARNING: No local peaks were found. [photutils.detection.core]\n",
      "WARNING: No local peaks were found. [photutils.detection.core]\n",
      "WARNING: No local peaks were found. [photutils.detection.core]\n",
      "WARNING: No local peaks were found. [photutils.detection.core]\n",
      "WARNING: path= was not specified but multiple tables are present, reading in first available table (path=default) [astropy.io.misc.hdf5]\n",
      "WARNING: path= was not specified but multiple tables are present, reading in first available table (path=default) [astropy.io.misc.hdf5]\n",
      "WARNING: No local peaks were found. [photutils.detection.core]\n",
      "WARNING: No local peaks were found. [photutils.detection.core]\n",
      "WARNING: No local peaks were found. [photutils.detection.core]\n",
      "WARNING: No local peaks were found. [photutils.detection.core]\n",
      "WARNING: path= was not specified but multiple tables are present, reading in first available table (path=default) [astropy.io.misc.hdf5]\n",
      "WARNING: path= was not specified but multiple tables are present, reading in first available table (path=default) [astropy.io.misc.hdf5]\n",
      "WARNING: No local peaks were found. [photutils.detection.core]\n",
      "WARNING: No local peaks were found. [photutils.detection.core]\n",
      "WARNING: No local peaks were found. [photutils.detection.core]\n",
      "WARNING: No local peaks were found. [photutils.detection.core]\n",
      "WARNING: No local peaks were found. [photutils.detection.core]\n",
      "WARNING: No local peaks were found. [photutils.detection.core]\n",
      "WARNING: No local peaks were found. [photutils.detection.core]\n",
      "WARNING: No local peaks were found. [photutils.detection.core]\n",
      "WARNING: No local peaks were found. [photutils.detection.core]\n",
      "WARNING: No local peaks were found. [photutils.detection.core]\n",
      "WARNING: path= was not specified but multiple tables are present, reading in first available table (path=default) [astropy.io.misc.hdf5]\n",
      "WARNING: path= was not specified but multiple tables are present, reading in first available table (path=default) [astropy.io.misc.hdf5]\n",
      "WARNING: No local peaks were found. [photutils.detection.core]\n",
      "WARNING: No local peaks were found. [photutils.detection.core]\n",
      "WARNING: No local peaks were found. [photutils.detection.core]\n",
      "WARNING: No local peaks were found. [photutils.detection.core]\n",
      "WARNING: No local peaks were found. [photutils.detection.core]\n",
      "WARNING: No local peaks were found. [photutils.detection.core]\n",
      "WARNING: No local peaks were found. [photutils.detection.core]\n",
      "WARNING: path= was not specified but multiple tables are present, reading in first available table (path=default) [astropy.io.misc.hdf5]\n",
      "WARNING: path= was not specified but multiple tables are present, reading in first available table (path=default) [astropy.io.misc.hdf5]\n",
      "WARNING: No local peaks were found. [photutils.detection.core]\n",
      "WARNING: path= was not specified but multiple tables are present, reading in first available table (path=default) [astropy.io.misc.hdf5]\n",
      "WARNING: path= was not specified but multiple tables are present, reading in first available table (path=default) [astropy.io.misc.hdf5]\n",
      "WARNING: No local peaks were found. [photutils.detection.core]\n",
      "WARNING: No local peaks were found. [photutils.detection.core]\n",
      "WARNING: No local peaks were found. [photutils.detection.core]\n",
      "WARNING: No local peaks were found. [photutils.detection.core]\n",
      "WARNING: No local peaks were found. [photutils.detection.core]\n",
      "WARNING: No local peaks were found. [photutils.detection.core]\n",
      "WARNING: No local peaks were found. [photutils.detection.core]\n",
      "WARNING: No local peaks were found. [photutils.detection.core]\n",
      "WARNING: No local peaks were found. [photutils.detection.core]\n",
      "WARNING: No local peaks were found. [photutils.detection.core]\n",
      "WARNING: No local peaks were found. [photutils.detection.core]\n",
      "WARNING: No local peaks were found. [photutils.detection.core]\n",
      "WARNING: No local peaks were found. [photutils.detection.core]\n",
      "WARNING: No local peaks were found. [photutils.detection.core]\n",
      "WARNING: No local peaks were found. [photutils.detection.core]\n",
      "WARNING: No local peaks were found. [photutils.detection.core]\n",
      "WARNING: No local peaks were found. [photutils.detection.core]\n",
      "WARNING: No local peaks were found. [photutils.detection.core]\n",
      "WARNING: No local peaks were found. [photutils.detection.core]\n",
      "WARNING: No local peaks were found. [photutils.detection.core]\n",
      "WARNING: path= was not specified but multiple tables are present, reading in first available table (path=default) [astropy.io.misc.hdf5]\n",
      "WARNING: path= was not specified but multiple tables are present, reading in first available table (path=default) [astropy.io.misc.hdf5]\n",
      "WARNING: No local peaks were found. [photutils.detection.core]\n",
      "WARNING: No local peaks were found. [photutils.detection.core]\n",
      "WARNING: No local peaks were found. [photutils.detection.core]\n",
      "WARNING: No local peaks were found. [photutils.detection.core]\n",
      "WARNING: No local peaks were found. [photutils.detection.core]\n",
      "WARNING: No local peaks were found. [photutils.detection.core]\n",
      "WARNING: No local peaks were found. [photutils.detection.core]\n",
      "WARNING: No local peaks were found. [photutils.detection.core]\n",
      "WARNING: No local peaks were found. [photutils.detection.core]\n",
      "WARNING: No local peaks were found. [photutils.detection.core]\n",
      "WARNING: No local peaks were found. [photutils.detection.core]\n",
      "WARNING: No local peaks were found. [photutils.detection.core]\n",
      "WARNING: path= was not specified but multiple tables are present, reading in first available table (path=default) [astropy.io.misc.hdf5]\n",
      "WARNING: path= was not specified but multiple tables are present, reading in first available table (path=default) [astropy.io.misc.hdf5]\n",
      "WARNING: No local peaks were found. [photutils.detection.core]\n",
      "WARNING: No local peaks were found. [photutils.detection.core]\n",
      "WARNING: No local peaks were found. [photutils.detection.core]\n",
      "WARNING: No local peaks were found. [photutils.detection.core]\n",
      "WARNING: No local peaks were found. [photutils.detection.core]\n",
      "WARNING: path= was not specified but multiple tables are present, reading in first available table (path=default) [astropy.io.misc.hdf5]\n",
      "WARNING: path= was not specified but multiple tables are present, reading in first available table (path=default) [astropy.io.misc.hdf5]\n",
      "WARNING: No local peaks were found. [photutils.detection.core]\n"
     ]
    },
    {
     "name": "stderr",
     "output_type": "stream",
     "text": [
      "WARNING: No local peaks were found. [photutils.detection.core]\n",
      "WARNING: No local peaks were found. [photutils.detection.core]\n",
      "WARNING: No local peaks were found. [photutils.detection.core]\n",
      "WARNING: No local peaks were found. [photutils.detection.core]\n",
      "WARNING: No local peaks were found. [photutils.detection.core]\n",
      "WARNING: No local peaks were found. [photutils.detection.core]\n",
      "WARNING: No local peaks were found. [photutils.detection.core]\n",
      "WARNING: path= was not specified but multiple tables are present, reading in first available table (path=default) [astropy.io.misc.hdf5]\n",
      "WARNING: path= was not specified but multiple tables are present, reading in first available table (path=default) [astropy.io.misc.hdf5]\n",
      "WARNING: No local peaks were found. [photutils.detection.core]\n",
      "WARNING: No local peaks were found. [photutils.detection.core]\n",
      "WARNING: No local peaks were found. [photutils.detection.core]\n",
      "WARNING: No local peaks were found. [photutils.detection.core]\n",
      "WARNING: No local peaks were found. [photutils.detection.core]\n",
      "WARNING: No local peaks were found. [photutils.detection.core]\n",
      "WARNING: No local peaks were found. [photutils.detection.core]\n",
      "WARNING: path= was not specified but multiple tables are present, reading in first available table (path=default) [astropy.io.misc.hdf5]\n",
      "WARNING: path= was not specified but multiple tables are present, reading in first available table (path=default) [astropy.io.misc.hdf5]\n",
      "WARNING: No local peaks were found. [photutils.detection.core]\n",
      "WARNING: No local peaks were found. [photutils.detection.core]\n",
      "WARNING: No local peaks were found. [photutils.detection.core]\n",
      "WARNING: No local peaks were found. [photutils.detection.core]\n",
      "WARNING: path= was not specified but multiple tables are present, reading in first available table (path=default) [astropy.io.misc.hdf5]\n",
      "WARNING: path= was not specified but multiple tables are present, reading in first available table (path=default) [astropy.io.misc.hdf5]\n",
      "WARNING: No local peaks were found. [photutils.detection.core]\n",
      "WARNING: No local peaks were found. [photutils.detection.core]\n",
      "WARNING: No local peaks were found. [photutils.detection.core]\n",
      "WARNING: No local peaks were found. [photutils.detection.core]\n",
      "WARNING: No local peaks were found. [photutils.detection.core]\n",
      "WARNING: No local peaks were found. [photutils.detection.core]\n",
      "WARNING: No local peaks were found. [photutils.detection.core]\n",
      "WARNING: No local peaks were found. [photutils.detection.core]\n",
      "WARNING: No local peaks were found. [photutils.detection.core]\n",
      "WARNING: path= was not specified but multiple tables are present, reading in first available table (path=default) [astropy.io.misc.hdf5]\n",
      "WARNING: path= was not specified but multiple tables are present, reading in first available table (path=default) [astropy.io.misc.hdf5]\n",
      "WARNING: No local peaks were found. [photutils.detection.core]\n",
      "WARNING: No local peaks were found. [photutils.detection.core]\n",
      "WARNING: path= was not specified but multiple tables are present, reading in first available table (path=default) [astropy.io.misc.hdf5]\n",
      "WARNING: path= was not specified but multiple tables are present, reading in first available table (path=default) [astropy.io.misc.hdf5]\n",
      "WARNING: No local peaks were found. [photutils.detection.core]\n",
      "WARNING: No local peaks were found. [photutils.detection.core]\n",
      "WARNING: No local peaks were found. [photutils.detection.core]\n",
      "WARNING: No local peaks were found. [photutils.detection.core]\n",
      "WARNING: No local peaks were found. [photutils.detection.core]\n",
      "WARNING: No local peaks were found. [photutils.detection.core]\n",
      "WARNING: No local peaks were found. [photutils.detection.core]\n",
      "WARNING: No local peaks were found. [photutils.detection.core]\n",
      "WARNING: No local peaks were found. [photutils.detection.core]\n",
      "WARNING: No local peaks were found. [photutils.detection.core]\n",
      "WARNING: path= was not specified but multiple tables are present, reading in first available table (path=default) [astropy.io.misc.hdf5]\n",
      "WARNING: path= was not specified but multiple tables are present, reading in first available table (path=default) [astropy.io.misc.hdf5]\n",
      "WARNING: No local peaks were found. [photutils.detection.core]\n",
      "WARNING: No local peaks were found. [photutils.detection.core]\n",
      "WARNING: No local peaks were found. [photutils.detection.core]\n",
      "WARNING: No local peaks were found. [photutils.detection.core]\n",
      "WARNING: No local peaks were found. [photutils.detection.core]\n",
      "WARNING: No local peaks were found. [photutils.detection.core]\n",
      "WARNING: No local peaks were found. [photutils.detection.core]\n",
      "WARNING: No local peaks were found. [photutils.detection.core]\n",
      "WARNING: No local peaks were found. [photutils.detection.core]\n",
      "WARNING: No local peaks were found. [photutils.detection.core]\n",
      "WARNING: No local peaks were found. [photutils.detection.core]\n",
      "WARNING: No local peaks were found. [photutils.detection.core]\n",
      "WARNING: No local peaks were found. [photutils.detection.core]\n",
      "WARNING: No local peaks were found. [photutils.detection.core]\n",
      "WARNING: No local peaks were found. [photutils.detection.core]\n",
      "WARNING: No local peaks were found. [photutils.detection.core]\n",
      "WARNING: No local peaks were found. [photutils.detection.core]\n",
      "WARNING: No local peaks were found. [photutils.detection.core]\n",
      "WARNING: No local peaks were found. [photutils.detection.core]\n",
      "WARNING: No local peaks were found. [photutils.detection.core]\n",
      "WARNING: No local peaks were found. [photutils.detection.core]\n",
      "WARNING: path= was not specified but multiple tables are present, reading in first available table (path=default) [astropy.io.misc.hdf5]\n",
      "WARNING: path= was not specified but multiple tables are present, reading in first available table (path=default) [astropy.io.misc.hdf5]\n",
      "WARNING: No local peaks were found. [photutils.detection.core]\n",
      "WARNING: No local peaks were found. [photutils.detection.core]\n",
      "WARNING: No local peaks were found. [photutils.detection.core]\n",
      "WARNING: No local peaks were found. [photutils.detection.core]\n",
      "WARNING: No local peaks were found. [photutils.detection.core]\n",
      "WARNING: No local peaks were found. [photutils.detection.core]\n",
      "WARNING: No local peaks were found. [photutils.detection.core]\n",
      "WARNING: No local peaks were found. [photutils.detection.core]\n",
      "WARNING: No local peaks were found. [photutils.detection.core]\n",
      "WARNING: No local peaks were found. [photutils.detection.core]\n",
      "WARNING: No local peaks were found. [photutils.detection.core]\n",
      "WARNING: No local peaks were found. [photutils.detection.core]\n",
      "WARNING: No local peaks were found. [photutils.detection.core]\n",
      "WARNING: No local peaks were found. [photutils.detection.core]\n",
      "WARNING: No local peaks were found. [photutils.detection.core]\n",
      "WARNING: No local peaks were found. [photutils.detection.core]\n",
      "WARNING: No local peaks were found. [photutils.detection.core]\n",
      "WARNING: No local peaks were found. [photutils.detection.core]\n",
      "WARNING: path= was not specified but multiple tables are present, reading in first available table (path=default) [astropy.io.misc.hdf5]\n",
      "WARNING: path= was not specified but multiple tables are present, reading in first available table (path=default) [astropy.io.misc.hdf5]\n",
      "WARNING: No local peaks were found. [photutils.detection.core]\n",
      "WARNING: No local peaks were found. [photutils.detection.core]\n",
      "WARNING: No local peaks were found. [photutils.detection.core]\n",
      "WARNING: No local peaks were found. [photutils.detection.core]\n",
      "WARNING: No local peaks were found. [photutils.detection.core]\n",
      "WARNING: No local peaks were found. [photutils.detection.core]\n",
      "WARNING: No local peaks were found. [photutils.detection.core]\n",
      "WARNING: No local peaks were found. [photutils.detection.core]\n",
      "WARNING: No local peaks were found. [photutils.detection.core]\n",
      "WARNING: path= was not specified but multiple tables are present, reading in first available table (path=default) [astropy.io.misc.hdf5]\n",
      "WARNING: path= was not specified but multiple tables are present, reading in first available table (path=default) [astropy.io.misc.hdf5]\n",
      "WARNING: No local peaks were found. [photutils.detection.core]\n",
      "WARNING: No local peaks were found. [photutils.detection.core]\n",
      "WARNING: No local peaks were found. [photutils.detection.core]\n",
      "WARNING: No local peaks were found. [photutils.detection.core]\n",
      "WARNING: No local peaks were found. [photutils.detection.core]\n",
      "WARNING: path= was not specified but multiple tables are present, reading in first available table (path=default) [astropy.io.misc.hdf5]\n"
     ]
    },
    {
     "name": "stderr",
     "output_type": "stream",
     "text": [
      "WARNING: path= was not specified but multiple tables are present, reading in first available table (path=default) [astropy.io.misc.hdf5]\n",
      "WARNING: No local peaks were found. [photutils.detection.core]\n",
      "WARNING: No local peaks were found. [photutils.detection.core]\n",
      "WARNING: No local peaks were found. [photutils.detection.core]\n",
      "WARNING: No local peaks were found. [photutils.detection.core]\n",
      "WARNING: No local peaks were found. [photutils.detection.core]\n",
      "WARNING: No local peaks were found. [photutils.detection.core]\n",
      "WARNING: No local peaks were found. [photutils.detection.core]\n",
      "WARNING: No local peaks were found. [photutils.detection.core]\n",
      "WARNING: path= was not specified but multiple tables are present, reading in first available table (path=default) [astropy.io.misc.hdf5]\n",
      "WARNING: path= was not specified but multiple tables are present, reading in first available table (path=default) [astropy.io.misc.hdf5]\n",
      "WARNING: No local peaks were found. [photutils.detection.core]\n",
      "WARNING: No local peaks were found. [photutils.detection.core]\n",
      "WARNING: No local peaks were found. [photutils.detection.core]\n",
      "WARNING: No local peaks were found. [photutils.detection.core]\n",
      "WARNING: No local peaks were found. [photutils.detection.core]\n"
     ]
    }
   ],
   "source": [
    "# Now that we have the files, loop through them, adding them until we reach a detection threshold of 5 sigma\n",
    "debugdir = os.path.join(os.getcwd(), 'debug_imgs')\n",
    "\n",
    "results = Table(names=('distance', 'pos', 'start_time', 'model', 'num_exp'), \n",
    "                dtype=('i2', 'i2', 'f2', 'S5', 'i2'))\n",
    "\n",
    "# Loop through distances\n",
    "for distance in distances:\n",
    "    \n",
    "    r_eff = r_eff_init * ((100*u.Mpc)**2 / distance**2) # r_eff for spiral galaxy at distance, in pixels\n",
    "    r_eff = r_eff.value\n",
    "    \n",
    "    # Loop through three different source positions: r_eff*2, r_eff, r_eff/2, called 1, 2, 3\n",
    "    for x_0, pos in zip([r_eff*2, r_eff, r_eff/2], [1,2,3]):\n",
    "        \n",
    "        # Galaxy parameters\n",
    "        gal_params = {'magnitude': 24, 'r_eff': r_eff, 'n': 1, 'theta': 0, 'ellip': 0.5, 'x_0': x_0, 'y_0': 0}\n",
    "        \n",
    "        # Generate combined reference image for this galaxy/source setup\n",
    "        nexp = 5\n",
    "        ref_image1 = construct_image(frame, exposure, duet=duet, band=duet.bandpass1,\n",
    "                                     gal_type='custom', gal_params=gal_params, sky_rate=bgd_band1, n_exp=nexp)\n",
    "        ref_image2 = construct_image(frame, exposure, duet=duet, band=duet.bandpass2,\n",
    "                                     gal_type='custom', gal_params=gal_params, sky_rate=bgd_band2, n_exp=nexp)\n",
    "        total_ref_rate = (ref_image1 + ref_image2) / (exposure * 2 * nexp)\n",
    "        ref_bkg, ref_bkg_rms_median = estimate_background(total_ref_rate, method='1D', sigma=2)\n",
    "        ref_bkgsub = total_ref_rate - ref_bkg\n",
    "        \n",
    "        # Loop through different start times\n",
    "        for start_time in start_times:\n",
    "            # Loop through different models\n",
    "            for mod in ['shock','blukn']:\n",
    "            \n",
    "                # Grab the lightcurve files we need \n",
    "                name = '{}_{}Mpc_pos{}_{}s'.format(mod,np.int(distance.value),pos,np.int(start_time.value))\n",
    "                table = Table.read(os.path.join(debugdir,name,name+'.hdf5'))\n",
    "\n",
    "                # Loop through images, summing until we get a detection\n",
    "                img_sum = np.zeros(frame) * u.ph / u.s\n",
    "                for row in table:\n",
    "                    # Add both bands and add them to total summed image\n",
    "                    img_sum += (row['imgs_D1'] + row['imgs_D2']) * u.ph / u.s\n",
    "\n",
    "                    # Convert to average rate\n",
    "                    num_exp = row.index+1\n",
    "                    img_rate = img_sum / (2 * num_exp)\n",
    "\n",
    "                    # Estimate background\n",
    "                    img_bkg, img_bkg_rms_median = estimate_background(img_rate, method='1D', sigma=2)\n",
    "                    img_bkgsub = img_rate - img_bkg\n",
    "\n",
    "                    # Make difference image\n",
    "                    diff_image = calculate_diff_image(img_rate, img_bkgsub, total_ref_rate, ref_bkgsub)\n",
    "\n",
    "                    # Run find - do we detect an image to 5 sigma?\n",
    "                    star_tbl, bkg_image, threshold = find(diff_image,psf_fwhm_pix.value,method='peaks',background='1D')\n",
    "\n",
    "                    if star_tbl[(star_tbl['x'] == (frame[0]//2)) & (star_tbl['y'] == (frame[1]//2))]: \n",
    "                        # Source successfully found! End loop\n",
    "                        break\n",
    "                \n",
    "                # Store the number of exposures that were required to detect the source in this setup\n",
    "                results.add_row((distance, pos, start_time, mod, num_exp))"
   ]
  },
  {
   "cell_type": "code",
   "execution_count": 28,
   "metadata": {},
   "outputs": [
    {
     "data": {
      "text/plain": [
       "<matplotlib.legend.Legend at 0x1c256020f0>"
      ]
     },
     "execution_count": 28,
     "metadata": {},
     "output_type": "execute_result"
    },
    {
     "data": {
      "image/png": "[encoded data removed]",
      "text/plain": [
       "<Figure size 864x864 with 1 Axes>"
      ]
     },
     "metadata": {},
     "output_type": "display_data"
    }
   ],
   "source": [
    "# Results plots - number of exposures vs distance for different models, start times, source positions\n",
    "plt.figure(figsize=(12,12))\n",
    "\n",
    "# Loop through three different source positions\n",
    "for pos,m in zip([1,2,3],['o','s','^']):\n",
    "    # Loop through different start times\n",
    "    for start_time, ls in zip(start_times,['-','--',':']):\n",
    "        # Loop through different models\n",
    "        for mod, col in zip(['shock','blukn'],['coral','skyblue']):\n",
    "\n",
    "            mask = (results['pos'] == pos) & \\\n",
    "                   (results['start_time'] == np.int(start_time.value)) & \\\n",
    "                   (results['model'] == mod)\n",
    "            \n",
    "            dist = results[mask]['distance']\n",
    "            num = results[mask]['num_exp']\n",
    "            \n",
    "            plt.plot(dist,num,marker=m,color=col,linestyle=ls,\n",
    "                     label='{}, pos {}, {}min start'.format(mod,pos,np.int(start_time.to(u.min).value)))\n",
    "\n",
    "plt.xlabel('Distance (Mpc)')\n",
    "plt.ylabel('Number of exposures for 5-sigma detection')\n",
    "plt.legend()\n"
   ]
  },
  {
   "cell_type": "code",
   "execution_count": null,
   "metadata": {},
   "outputs": [],
   "source": [
    "# Notes: \n",
    "# Why does it take more exposures to detect blue kilnovae out to ~150 Mpc than 300 Mpc? \n",
    "# - Maybe this is related to how extended the underlying galaxy ends up being?\n",
    "# - Possibly bad Sersic profiles at high distance??\n",
    "# For more statistical results, repeat each set-up multiple times and give average number of exposures required\n",
    "# - don't have to generate lightcurves out to a day though! That was definitely overkill."
   ]
  }
 ],
 "metadata": {
  "kernelspec": {
   "display_name": "Python [conda env:duet]",
   "language": "python",
   "name": "conda-env-duet-py"
  },
  "language_info": {
   "codemirror_mode": {
    "name": "ipython",
    "version": 3
   },
   "file_extension": ".py",
   "mimetype": "text/x-python",
   "name": "python",
   "nbconvert_exporter": "python",
   "pygments_lexer": "ipython3",
   "version": "3.6.8"
  }
 },
 "nbformat": 4,
 "nbformat_minor": 2
}
