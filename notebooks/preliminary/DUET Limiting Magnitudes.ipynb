{
 "cells": [
  {
   "cell_type": "code",
   "execution_count": 17,
   "metadata": {},
   "outputs": [
    {
     "name": "stdout",
     "output_type": "stream",
     "text": [
      "The autoreload extension is already loaded. To reload it, use:\n",
      "  %reload_ext autoreload\n"
     ]
    }
   ],
   "source": [
    "import astropy.units as u\n",
    "from astroduet.duet_telescope import load_telescope_parameters\n",
    "from astroduet.duet_sensitivity import src_rate, bgd_sky_qe_rate, bgd_electronics, calc_exposure\n",
    "from astroduet.bbmag import bb_abmag_fluence\n",
    "import numpy as np\n",
    "from matplotlib import pyplot as plt\n",
    "from astroduet.bbmag import bb_abmag_fluence, bb_abmag\n",
    "\n",
    "import astroduet.config as config\n",
    "from astroduet.background import background_pixel_rate\n",
    "\n",
    "\n",
    "%load_ext autoreload\n",
    "%autoreload 2\n",
    "\n",
    "\n",
    "\n",
    "\n",
    "from astropy.visualization import quantity_support\n",
    "import matplotlib\n",
    "font = {'family' : 'normal',\n",
    "        'weight' : 'bold',\n",
    "        'size'   : 22}\n",
    "\n",
    "matplotlib.rc('font', **font)"
   ]
  },
  {
   "cell_type": "code",
   "execution_count": 18,
   "metadata": {},
   "outputs": [
    {
     "name": "stdout",
     "output_type": "stream",
     "text": [
      "For 15e3 K source\n",
      "Band 1 Photometric Zero Point (Swift UVW2): 20.300000000000033 mag(AB)\n",
      "Band 1 Photometric Zero Point: 20.3305424807419 mag(AB)\n",
      "\n",
      "Band 2 Photometric Zero Point (Swift UVW2): 20.70000000000004 mag(AB)\n",
      "Band 2 Photometric Zero Point: 20.291224059720278 mag(AB)\n",
      "\n"
     ]
    }
   ],
   "source": [
    "# Band one\n",
    "duet = config.Telescope()\n",
    "bandone = duet.bandpass1\n",
    "bandtwo = duet.bandpass2\n",
    "print('For 15e3 K source')\n",
    "swiftmag = 18 * u.ABmag\n",
    "dmag = 0.1 * u.mag\n",
    "band1_caught = False\n",
    "band2_caught = False\n",
    "while not (band1_caught & band2_caught):\n",
    "    swiftmag += dmag\n",
    "    band1_fluence, band2_fluence = bb_abmag_fluence(duet = duet, swiftmag=swiftmag, bbtemp=15e3*u.K)\n",
    "    \n",
    "    band1_rate = duet.fluence_to_rate(band1_fluence)\n",
    "    band2_rate = duet.fluence_to_rate(band2_fluence)\n",
    "\n",
    "    if band1_caught is False:\n",
    "        if (band1_rate.value < 1.0):            \n",
    "            bbmag1, foo = bb_abmag(swiftmag=swiftmag, bbtemp=15e3*u.K, bandone = bandone)\n",
    "            print('Band 1 Photometric Zero Point (Swift UVW2): {}'.format(swiftmag))\n",
    "            print('Band 1 Photometric Zero Point: {}'.format(bbmag1))\n",
    "            print()\n",
    "            band1_caught = True\n",
    "        \n",
    "    if band2_caught is False:\n",
    "        if (band2_rate.value < 1.0):            \n",
    "            foo, bbmag2 = bb_abmag(swiftmag=swiftmag, bbtemp=15e3*u.K, bandtwo = bandtwo)\n",
    "            print('Band 2 Photometric Zero Point (Swift UVW2): {}'.format(swiftmag))\n",
    "            print('Band 2 Photometric Zero Point: {}'.format(bbmag2))\n",
    "            print()\n",
    "            band2_caught = True\n",
    "\n"
   ]
  },
  {
   "cell_type": "code",
   "execution_count": 24,
   "metadata": {},
   "outputs": [
    {
     "name": "stdout",
     "output_type": "stream",
     "text": [
      "\n",
      "\n",
      "B\n",
      "Stacked Bands 300.0 s 5-σ magnitude limit: 21.63054248074189 mag(AB)\n",
      "Stacked Bands 600.0 s 5-σ magnitude limit: 22.030542480741897 mag(AB)\n",
      "Stacked Bands 900.0 s 5-σ magnitude limit: 22.280542480741904 mag(AB)\n"
     ]
    }
   ],
   "source": [
    "\n",
    "# Stacked channels\n",
    "# 5-sigma limiting magnitude in 1, 2, 3, and 4 stacked frames.\n",
    "\n",
    "# Account for the fact that you're co-adding the two frames here:\n",
    "duet = config.Telescope()\n",
    "duet.read_noise = (2**0.5) * duet.read_noise\n",
    "\n",
    "\n",
    "#tot_bgd_rate = bgd_band1 + bgd_band2\n",
    "bandone = duet.bandpass1\n",
    "bandtwo = duet.bandpass2\n",
    "exposure = 300*u.s\n",
    "print()\n",
    "siglimit=5\n",
    "dmag = 0.05\n",
    "print()\n",
    "for filter_type in ['B']:\n",
    "    print(filter_type)\n",
    "    [bgd_band1, bgd_band2] = background_pixel_rate(duet, low_zodi=True, filter_type=filter_type)\n",
    "    tot_bgd_rate = bgd_band1 + bgd_band2\n",
    "\n",
    "    for nframes in [1, 2, 3]:\n",
    "        snr = 100\n",
    "        swiftmag = 20 \n",
    "        while snr > siglimit:\n",
    "            swiftmag += dmag\n",
    "            band1_fluence, band2_fluence = bb_abmag_fluence(duet =duet, swiftmag=swiftmag*u.ABmag, bbtemp=15e3*u.K, filter_type=filter_type)\n",
    "            band1_rate = duet.fluence_to_rate(band1_fluence)\n",
    "            band2_rate = duet.fluence_to_rate(band2_fluence)\n",
    "            src_rate = band1_rate + band2_rate\n",
    "\n",
    "            snr = duet.calc_snr(exposure, src_rate, tot_bgd_rate, nint=nframes)\n",
    "        bbmag1, bbmag2 = bb_abmag(swiftmag=swiftmag*u.ABmag, bbtemp=15e3*u.K, bandone = bandone, bandtwo=bandtwo)        \n",
    "        print('Stacked Bands {} {}-σ magnitude limit: {}'.format(nframes*exposure, siglimit, bbmag1))\n",
    "\n",
    "\n"
   ]
  },
  {
   "cell_type": "code",
   "execution_count": 22,
   "metadata": {},
   "outputs": [
    {
     "name": "stdout",
     "output_type": "stream",
     "text": [
      "\n",
      "\n",
      "B\n",
      "DUET1 300.0 s 5-σ magnitude limit: 21.230542480741885 mag(AB)\n",
      "DUET1 600.0 s 5-σ magnitude limit: 21.680542480741895 mag(AB)\n",
      "DUET1 900.0 s 5-σ magnitude limit: 21.880542480741898 mag(AB)\n"
     ]
    }
   ],
   "source": [
    "\n",
    "# DUET1\n",
    "# 5-sigma limiting magnitude in 1, 2, 3, and 4 stacked frames.\n",
    "\n",
    "duet = config.Telescope()\n",
    "\n",
    "\n",
    "#tot_bgd_rate = bgd_band1 + bgd_band2\n",
    "bandone = duet.bandpass1\n",
    "bandtwo = duet.bandpass2\n",
    "exposure = 300*u.s\n",
    "print()\n",
    "siglimit=5\n",
    "dmag = 0.05\n",
    "print()\n",
    "for filter_type in ['B']:\n",
    "    print(filter_type)\n",
    "    [bgd_band1, bgd_band2] = background_pixel_rate(duet, low_zodi=True, filter_type=filter_type)\n",
    "    tot_bgd_rate = bgd_band1\n",
    "\n",
    "    for nframes in [1, 2, 3]:\n",
    "        snr = 100\n",
    "        swiftmag = 20 \n",
    "        while snr > siglimit:\n",
    "            swiftmag += dmag\n",
    "            band1_fluence, band2_fluence = bb_abmag_fluence(duet =duet, swiftmag=swiftmag*u.ABmag, bbtemp=15e3*u.K, filter_type=filter_type)\n",
    "            band1_rate = duet.fluence_to_rate(band1_fluence)\n",
    "            band2_rate = duet.fluence_to_rate(band2_fluence)\n",
    "            src_rate = band1_rate \n",
    "\n",
    "            snr = duet.calc_snr(exposure, src_rate, tot_bgd_rate, nint=nframes)\n",
    "        bbmag1, bbmag2 = bb_abmag(swiftmag=swiftmag*u.ABmag, bbtemp=15e3*u.K, bandone = bandone, bandtwo=bandtwo)        \n",
    "        print('DUET1 {} {}-σ magnitude limit: {}'.format(nframes*exposure, siglimit, bbmag1))\n",
    "\n",
    "\n",
    "\n"
   ]
  },
  {
   "cell_type": "code",
   "execution_count": 23,
   "metadata": {},
   "outputs": [
    {
     "name": "stdout",
     "output_type": "stream",
     "text": [
      "\n",
      "\n",
      "B\n",
      "DUET1 300.0 s 5-σ magnitude limit: 21.28054248074189 mag(AB)\n",
      "DUET1 600.0 s 5-σ magnitude limit: 21.680542480741895 mag(AB)\n",
      "DUET1 900.0 s 5-σ magnitude limit: 21.930542480741895 mag(AB)\n"
     ]
    }
   ],
   "source": [
    "\n",
    "# DUET1\n",
    "# 5-sigma limiting magnitude in 1, 2, 3, and 4 stacked frames.\n",
    "\n",
    "duet = config.Telescope()\n",
    "\n",
    "\n",
    "#tot_bgd_rate = bgd_band1 + bgd_band2\n",
    "bandone = duet.bandpass1\n",
    "bandtwo = duet.bandpass2\n",
    "exposure = 300*u.s\n",
    "print()\n",
    "siglimit=5\n",
    "dmag = 0.05\n",
    "print()\n",
    "for filter_type in ['B']:\n",
    "    print(filter_type)\n",
    "    [bgd_band1, bgd_band2] = background_pixel_rate(duet, low_zodi=True, filter_type=filter_type)\n",
    "    tot_bgd_rate = bgd_band2\n",
    "\n",
    "    for nframes in [1, 2, 3]:\n",
    "        snr = 100\n",
    "        swiftmag = 20 \n",
    "        while snr > siglimit:\n",
    "            swiftmag += dmag\n",
    "            band1_fluence, band2_fluence = bb_abmag_fluence(duet =duet, swiftmag=swiftmag*u.ABmag, bbtemp=15e3*u.K, filter_type=filter_type)\n",
    "            band1_rate = duet.fluence_to_rate(band1_fluence)\n",
    "            band2_rate = duet.fluence_to_rate(band2_fluence)\n",
    "            src_rate = band2_rate \n",
    "\n",
    "            snr = duet.calc_snr(exposure, src_rate, tot_bgd_rate, nint=nframes)\n",
    "        bbmag1, bbmag2 = bb_abmag(swiftmag=swiftmag*u.ABmag, bbtemp=15e3*u.K, bandone = bandone, bandtwo=bandtwo)        \n",
    "        print('DUET1 {} {}-σ magnitude limit: {}'.format(nframes*exposure, siglimit, bbmag1))\n",
    "\n",
    "\n",
    "\n",
    "\n"
   ]
  },
  {
   "cell_type": "code",
   "execution_count": null,
   "metadata": {},
   "outputs": [],
   "source": [
    "\n",
    "# Stacked channels\n",
    "# 5-sigma limiting magnitude in 1, 2, 3, and 4 stacked frames.\n",
    "\n",
    "# Account for the fact that you're co-adding the two frames here:\n",
    "duet = config.Telescope()\n",
    "duet.read_noise = (2**0.5) * duet.read_noise\n",
    "\n",
    "\n",
    "#tot_bgd_rate = bgd_band1 + bgd_band2\n",
    "bandone = duet.bandpass1\n",
    "bandtwo = duet.bandpass2\n",
    "exposure = 300*u.s\n",
    "print()\n",
    "siglimit=5\n",
    "dmag = 0.05\n",
    "print()\n",
    "for filter_type in ['C', 'B', 'A']:\n",
    "    print(filter_type)\n",
    "    [bgd_band1, bgd_band2] = background_pixel_rate(duet, high_zodi=True, filter_type=filter_type)\n",
    "    tot_bgd_rate = bgd_band1 + bgd_band2\n",
    "\n",
    "    for nframes in [3]:\n",
    "        snr = 100\n",
    "        swiftmag = 20 \n",
    "        while snr > siglimit:\n",
    "            swiftmag += dmag\n",
    "            band1_fluence, band2_fluence = bb_abmag_fluence(duet =duet, swiftmag=swiftmag*u.ABmag, bbtemp=15e3*u.K, filter_type=filter_type)\n",
    "            band1_rate = duet.fluence_to_rate(band1_fluence)\n",
    "            band2_rate = duet.fluence_to_rate(band2_fluence)\n",
    "            src_rate = band1_rate + band2_rate\n",
    "\n",
    "            snr = duet.calc_snr(exposure, src_rate, tot_bgd_rate, nint=nframes)\n",
    "        bbmag1, bbmag2 = bb_abmag(swiftmag=swiftmag*u.ABmag, bbtemp=15e3*u.K, bandone = bandone, bandtwo=bandtwo)        \n",
    "        print('Stacked Bands {} {}-σ magnitude limit: {}'.format(nframes*exposure, siglimit, bbmag1))\n",
    "\n",
    "\n",
    "\n"
   ]
  },
  {
   "cell_type": "code",
   "execution_count": null,
   "metadata": {},
   "outputs": [],
   "source": [
    "# Individual channels\n",
    "# 5-sigma limiting magnitude in 1, 2, 3, and 4 stacked frames.\n",
    "# Assume read noise is 3 e-\n",
    "duet = config.Telescope()\n",
    "duet.read_noise=3\n",
    "\n",
    "[bgd_band1, bgd_band2] = background_pixel_rate(duet, low_zodi=True)\n",
    "print('Sky background rate per pixel band1: {}'.format(bgd_band1))\n",
    "print('Sky background rate per pixel band2: {}'.format(bgd_band2))\n",
    "\n",
    "bandone = duet.bandpass1\n",
    "bandtwo = duet.bandpass2\n",
    "exposure = 300*u.s\n",
    "print()\n",
    "siglimit=5\n",
    "dmag = 0.05\n",
    "print()\n",
    "for nframes in np.arange(1, 5):\n",
    "    snr = 100\n",
    "    swiftmag = 20 \n",
    "    while snr > siglimit:\n",
    "        swiftmag += dmag\n",
    "        band1_fluence, foo = bb_abmag_fluence(duet =duet, swiftmag=swiftmag*u.ABmag, bbtemp=15e3*u.K)\n",
    "        band1_rate = duet.fluence_to_rate(band1_fluence)\n",
    "        snr = duet.calc_snr(exposure, band1_rate, bgd_band1, nint=nframes)\n",
    "    bbmag1, foo = bb_abmag(swiftmag=swiftmag*u.ABmag, bbtemp=15e3*u.K, bandone = bandone)\n",
    "    print('Band 1 {} {}-σ magnitude limit: {}'.format(nframes*exposure, siglimit, bbmag1))\n",
    "print()\n",
    "\n",
    "for nframes in np.arange(1, 5):\n",
    "    snr = 100\n",
    "    swiftmag = 20 \n",
    "    while snr > siglimit:\n",
    "        swiftmag += dmag\n",
    "        foo, band2_fluence = bb_abmag_fluence(duet =duet, swiftmag=swiftmag*u.ABmag, bbtemp=15e3*u.K)\n",
    "        band2_rate = duet.fluence_to_rate(band2_fluence)\n",
    "        snr = duet.calc_snr(exposure, band2_rate, bgd_band2, nint=nframes)\n",
    "    foo, bbmag2 = bb_abmag(swiftmag=swiftmag*u.ABmag, bbtemp=15e3*u.K, bandtwo = bandtwo)\n",
    "    print('Band 2 {} {}-σ magnitude limit: {}'.format(nframes*exposure, siglimit, bbmag2))\n",
    "print()\n",
    "\n",
    "\n",
    "\n",
    "# Stacked channels\n",
    "# 5-sigma limiting magnitude in 1, 2, 3, and 4 stacked frames.\n",
    "\n",
    "# Account for the fact that you're co-adding the two frames here:\n",
    "duet.read_noise = (2**0.5) * 3\n",
    "\n",
    "\n",
    "tot_bgd_rate = bgd_band1 + bgd_band2\n",
    "bandone = duet.bandpass1\n",
    "bandtwo = duet.bandpass2\n",
    "exposure = 300*u.s\n",
    "print()\n",
    "siglimit=5\n",
    "dmag = 0.05\n",
    "print()\n",
    "for filter_type in ['C', 'B', 'A']:\n",
    "    for nframes in np.arange(1, 3):\n",
    "        snr = 100\n",
    "        swiftmag = 20 \n",
    "        while snr > siglimit:\n",
    "            swiftmag += dmag\n",
    "            band1_fluence, band2_fluence = bb_abmag_fluence(duet =duet, swiftmag=swiftmag*u.ABmag, bbtemp=15e3*u.K, filter_type=filter_type)\n",
    "            band1_rate = duet.fluence_to_rate(band1_fluence)\n",
    "            band2_rate = duet.fluence_to_rate(band2_fluence)\n",
    "            src_rate = band1_rate + band2_rate\n",
    "\n",
    "            snr = duet.calc_snr(exposure, src_rate, tot_bgd_rate, nint=nframes)\n",
    "        bbmag1, bbmag2 = bb_abmag(swiftmag=swiftmag*u.ABmag, bbtemp=15e3*u.K, bandone = bandone, bandtwo=bandtwo)\n",
    "        print('Stacked Bands {} {}-σ magnitude limit: {}'.format(nframes*exposure, siglimit, bbmag1))\n",
    "    print()\n",
    "\n",
    "\n",
    "\n"
   ]
  },
  {
   "cell_type": "code",
   "execution_count": null,
   "metadata": {},
   "outputs": [],
   "source": [
    "# Same as last cell, but for \"reduced_baseline\" configuration.\n",
    "\n",
    "# Individual channels\n",
    "# 5-sigma limiting magnitude in 1, 2, 3, and 4 stacked frames.\n",
    "# Assume read noise is 3 e-\n",
    "duet = config.Telescope(config='reduced_baseline')\n",
    "duet.read_noise=3\n",
    "\n",
    "[bgd_band1, bgd_band2] = background_pixel_rate(duet, low_zodi=True)\n",
    "print('Sky background rate per pixel band1: {}'.format(bgd_band1))\n",
    "print('Sky background rate per pixel band2: {}'.format(bgd_band2))\n",
    "\n",
    "bandone = duet.bandpass1\n",
    "bandtwo = duet.bandpass2\n",
    "exposure = 300*u.s\n",
    "print()\n",
    "siglimit=5\n",
    "dmag = 0.05\n",
    "print()\n",
    "for nframes in np.arange(1, 5):\n",
    "    snr = 100\n",
    "    swiftmag = 20 \n",
    "    while snr > siglimit:\n",
    "        swiftmag += dmag\n",
    "        band1_fluence, foo = bb_abmag_fluence(duet =duet, swiftmag=swiftmag*u.ABmag, bbtemp=15e3*u.K)\n",
    "        band1_rate = duet.fluence_to_rate(band1_fluence)\n",
    "        snr = duet.calc_snr(exposure, band1_rate, bgd_band1, nint=nframes)\n",
    "    bbmag1, foo = bb_abmag(swiftmag=swiftmag*u.ABmag, bbtemp=15e3*u.K, bandone = bandone)\n",
    "    print('Band 1 {} {}-σ magnitude limit: {}'.format(nframes*exposure, siglimit, bbmag1))\n",
    "print()\n",
    "\n",
    "for nframes in np.arange(1, 5):\n",
    "    snr = 100\n",
    "    swiftmag = 20 \n",
    "    while snr > siglimit:\n",
    "        swiftmag += dmag\n",
    "        foo, band2_fluence = bb_abmag_fluence(duet =duet, swiftmag=swiftmag*u.ABmag, bbtemp=15e3*u.K)\n",
    "        band2_rate = duet.fluence_to_rate(band2_fluence)\n",
    "        snr = duet.calc_snr(exposure, band2_rate, bgd_band2, nint=nframes)\n",
    "    foo, bbmag2 = bb_abmag(swiftmag=swiftmag*u.ABmag, bbtemp=15e3*u.K, bandtwo = bandtwo)\n",
    "    print('Band 2 {} {}-σ magnitude limit: {}'.format(nframes*exposure, siglimit, bbmag2))\n",
    "print()\n",
    "\n",
    "\n",
    "\n",
    "# Stacked channels\n",
    "# 5-sigma limiting magnitude in 1, 2, 3, and 4 stacked frames.\n",
    "# Account for the fact that you're co-adding the two frames here:\n",
    "duet.read_noise = (2**0.5) * 3\n",
    "\n",
    "\n",
    "tot_bgd_rate = bgd_band1 + bgd_band2\n",
    "bandone = duet.bandpass1\n",
    "bandtwo = duet.bandpass2\n",
    "exposure = 300*u.s\n",
    "print()\n",
    "siglimit=5\n",
    "dmag = 0.05\n",
    "print()\n",
    "for nframes in np.arange(1, 5):\n",
    "    snr = 100\n",
    "    swiftmag = 20 \n",
    "    while snr > siglimit:\n",
    "        swiftmag += dmag\n",
    "        band1_fluence, band2_fluence = bb_abmag_fluence(duet=duet, swiftmag=swiftmag*u.ABmag, bbtemp=15e3*u.K)\n",
    "        band1_rate = duet.fluence_to_rate(band1_fluence)\n",
    "        band2_rate = duet.fluence_to_rate(band2_fluence)\n",
    "        src_rate = band1_rate + band2_rate\n",
    "        \n",
    "        snr = duet.calc_snr(exposure, src_rate, tot_bgd_rate, nint=nframes)\n",
    "    bbmag1, bbmag2 = bb_abmag(swiftmag=swiftmag*u.ABmag, bbtemp=15e3*u.K, bandone = bandone, bandtwo=bandtwo)\n",
    "    print('Stacked Bands {} {}-σ magnitude limit: {}'.format(nframes*exposure, siglimit, bbmag1))\n",
    "print()\n",
    "\n",
    "\n",
    "\n",
    "\n",
    "\n"
   ]
  },
  {
   "cell_type": "code",
   "execution_count": null,
   "metadata": {},
   "outputs": [],
   "source": [
    "# FOM: Time to 22 ABmag for this configuration for DUET1\n",
    "# Old FOM for this \n",
    "duet = config.Telescope(config='baseline')\n",
    "duet.read_noise = 3\n",
    "\n",
    "bandone = duet.bandpass1\n",
    "bandtwo = duet.bandpass2\n",
    "\n",
    "siglimit=10\n",
    "swiftmag = 21\n",
    "dmag = 0.05\n",
    "bbmag1 = 5*u.ABmag\n",
    "bbmag_target = 22*u.ABmag\n",
    "while bbmag1 < bbmag_target:\n",
    "    swiftmag+=dmag\n",
    "    bbmag1, bbmag2 = bb_abmag(swiftmag=swiftmag*u.ABmag, bbtemp=15e3*u.K, bandone = bandone, bandtwo=bandtwo)\n",
    "\n",
    "\n",
    "# Low Zodi, 10-sigma case\n",
    "[bgd_band1, bgd_band2] = background_pixel_rate(duet, low_zodi=True)\n",
    "band1_fluence, foo = bb_abmag_fluence(duet = duet, swiftmag=swiftmag*u.ABmag, bbtemp=15e3*u.K)\n",
    "band1_rate = duet.fluence_to_rate(band1_fluence)\n",
    "req_exp = calc_exposure(siglimit, band1_rate, bgd_band1, duet.read_noise, duet.neff)\n",
    "print('Low-Zodi {}-sig, {} seconds'.format(siglimit, req_exp.value))\n",
    "\n",
    "\n",
    "# High Zodi, 10-sigma case.\n",
    "siglimit=10\n",
    "[bgd_band1, bgd_band2] = background_pixel_rate(duet, high_zodi=True)\n",
    "band1_fluence, foo = bb_abmag_fluence(duet = duet, swiftmag=swiftmag*u.ABmag, bbtemp=15e3*u.K)\n",
    "band1_rate = duet.fluence_to_rate(band1_fluence)\n",
    "req_exp = calc_exposure(siglimit, band1_rate, bgd_band1, duet.read_noise, duet.neff)\n",
    "print('High-Zodi {}-sig, {} seconds'.format(siglimit, req_exp.value))\n",
    "\n",
    "# High Zodi, 5-sigma case\n",
    "siglimit=5\n",
    "[bgd_band1, bgd_band2] = background_pixel_rate(duet, high_zodi=True)\n",
    "band1_fluence, foo = bb_abmag_fluence(duet = duet, swiftmag=swiftmag*u.ABmag, bbtemp=15e3*u.K)\n",
    "band1_rate = duet.fluence_to_rate(band1_fluence)\n",
    "\n",
    "req_exp = calc_exposure(siglimit, band1_rate, bgd_band1, duet.read_noise, duet.neff)\n",
    "print('High-Zodi {}-sig, {} seconds'.format(siglimit, req_exp.value))\n",
    "\n"
   ]
  },
  {
   "cell_type": "code",
   "execution_count": null,
   "metadata": {},
   "outputs": [],
   "source": [
    "# FOM: Time to 22 ABmag for this configuration for DUET1\n",
    "# Old FOM for this \n",
    "duet = config.Telescope(config='reduced_baseline')\n",
    "duet.read_noise = 3\n",
    "\n",
    "\n",
    "bandone = duet.bandpass1\n",
    "bandtwo = duet.bandpass2\n",
    "\n",
    "siglimit=10\n",
    "swiftmag = 21\n",
    "dmag = 0.05\n",
    "bbmag1 = 5*u.ABmag\n",
    "bbmag_target = 22*u.ABmag\n",
    "while bbmag1 < bbmag_target:\n",
    "    swiftmag+=dmag\n",
    "    bbmag1, bbmag2 = bb_abmag(swiftmag=swiftmag*u.ABmag, bbtemp=15e3*u.K, bandone = bandone, bandtwo=bandtwo)\n",
    "\n",
    "\n",
    "# Low Zodi, 10-sigma case\n",
    "[bgd_band1, bgd_band2] = background_pixel_rate(duet, low_zodi=True)\n",
    "band1_fluence, foo = bb_abmag_fluence(duet = duet, swiftmag=swiftmag*u.ABmag, bbtemp=15e3*u.K)\n",
    "band1_rate = duet.fluence_to_rate(band1_fluence)\n",
    "req_exp = calc_exposure(siglimit, band1_rate, bgd_band1, duet.read_noise, duet.neff)\n",
    "print('Low-Zodi {}-sig, {} seconds'.format(siglimit, req_exp.value))\n",
    "\n",
    "\n",
    "# High Zodi, 10-sigma case.\n",
    "siglimit=10\n",
    "[bgd_band1, bgd_band2] = background_pixel_rate(duet, high_zodi=True)\n",
    "band1_fluence, foo = bb_abmag_fluence(duet = duet, swiftmag=swiftmag*u.ABmag, bbtemp=15e3*u.K)\n",
    "band1_rate = duet.fluence_to_rate(band1_fluence)\n",
    "req_exp = calc_exposure(siglimit, band1_rate, bgd_band1, duet.read_noise, duet.neff)\n",
    "print('High-Zodi {}-sig, {} seconds'.format(siglimit, req_exp.value))\n",
    "\n",
    "# High Zodi, 5-sigma case\n",
    "siglimit=5\n",
    "[bgd_band1, bgd_band2] = background_pixel_rate(duet, high_zodi=True)\n",
    "band1_fluence, foo = bb_abmag_fluence(duet = duet, swiftmag=swiftmag*u.ABmag, bbtemp=15e3*u.K)\n",
    "band1_rate = duet.fluence_to_rate(band1_fluence)\n",
    "\n",
    "req_exp = calc_exposure(siglimit, band1_rate, bgd_band1, duet.read_noise, duet.neff)\n",
    "print('High-Zodi {}-sig, {} seconds'.format(siglimit, req_exp.value))\n",
    "\n",
    "\n"
   ]
  },
  {
   "cell_type": "code",
   "execution_count": 8,
   "metadata": {},
   "outputs": [
    {
     "data": {
      "text/plain": [
       "{'eff_wave': <Quantity 280.56077333 nm>,\n",
       " 'eff_width': <Quantity 51.25641246 nm>}"
      ]
     },
     "execution_count": 8,
     "metadata": {},
     "output_type": "execute_result"
    }
   ],
   "source": [
    "duet.band2\n"
   ]
  },
  {
   "cell_type": "code",
   "execution_count": 9,
   "metadata": {},
   "outputs": [
    {
     "data": {
      "text/latex": [
       "$[254.93257,~306.18898] \\; \\mathrm{nm}$"
      ],
      "text/plain": [
       "<Quantity [254.9325671 , 306.18897956] nm>"
      ]
     },
     "execution_count": 9,
     "metadata": {},
     "output_type": "execute_result"
    }
   ],
   "source": [
    "duet.bandpass2"
   ]
  },
  {
   "cell_type": "code",
   "execution_count": 10,
   "metadata": {},
   "outputs": [
    {
     "data": {
      "text/latex": [
       "$[183.13463,~214.14254] \\; \\mathrm{nm}$"
      ],
      "text/plain": [
       "<Quantity [183.13463401, 214.1425365 ] nm>"
      ]
     },
     "execution_count": 10,
     "metadata": {},
     "output_type": "execute_result"
    }
   ],
   "source": [
    "duet.bandpass1"
   ]
  },
  {
   "cell_type": "code",
   "execution_count": 12,
   "metadata": {},
   "outputs": [
    {
     "data": {
      "text/plain": [
       "{'eff_wave': <Quantity 280.56077333 nm>,\n",
       " 'eff_width': <Quantity 51.25641246 nm>}"
      ]
     },
     "execution_count": 12,
     "metadata": {},
     "output_type": "execute_result"
    }
   ],
   "source": [
    "duet.band2"
   ]
  },
  {
   "cell_type": "code",
   "execution_count": 14,
   "metadata": {},
   "outputs": [],
   "source": [
    "duet.pixel = 6.55*u.arcsec\n"
   ]
  },
  {
   "cell_type": "code",
   "execution_count": 15,
   "metadata": {},
   "outputs": [
    {
     "data": {
      "text/latex": [
       "$6.55 \\; \\mathrm{{}^{\\prime\\prime}}$"
      ],
      "text/plain": [
       "<Quantity 6.55 arcsec>"
      ]
     },
     "execution_count": 15,
     "metadata": {},
     "output_type": "execute_result"
    }
   ],
   "source": [
    "duet.pixel"
   ]
  },
  {
   "cell_type": "code",
   "execution_count": 16,
   "metadata": {},
   "outputs": [
    {
     "data": {
      "text/plain": [
       "0.9643416672473358"
      ]
     },
     "execution_count": 16,
     "metadata": {},
     "output_type": "execute_result"
    }
   ],
   "source": [
    "(6.55/6.67)**2"
   ]
  },
  {
   "cell_type": "code",
   "execution_count": null,
   "metadata": {},
   "outputs": [],
   "source": []
  }
 ],
 "metadata": {
  "anaconda-cloud": {},
  "kernelspec": {
   "display_name": "Python 3",
   "language": "python",
   "name": "python3"
  },
  "language_info": {
   "codemirror_mode": {
    "name": "ipython",
    "version": 3
   },
   "file_extension": ".py",
   "mimetype": "text/x-python",
   "name": "python",
   "nbconvert_exporter": "python",
   "pygments_lexer": "ipython3",
   "version": "3.6.7"
  }
 },
 "nbformat": 4,
 "nbformat_minor": 2
}
