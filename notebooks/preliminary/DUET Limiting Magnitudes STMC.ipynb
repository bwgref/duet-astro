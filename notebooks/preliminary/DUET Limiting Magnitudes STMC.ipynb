{
 "cells": [
  {
   "cell_type": "code",
   "execution_count": 6,
   "metadata": {},
   "outputs": [
    {
     "name": "stdout",
     "output_type": "stream",
     "text": [
      "The autoreload extension is already loaded. To reload it, use:\n",
      "  %reload_ext autoreload\n"
     ]
    }
   ],
   "source": [
    "import astropy.units as u\n",
    "from astroduet.duet_telescope import load_telescope_parameters\n",
    "from astroduet.duet_sensitivity import src_rate, bgd_sky_qe_rate, bgd_electronics, calc_exposure\n",
    "from astroduet.bbmag import bb_abmag_fluence\n",
    "import numpy as np\n",
    "from matplotlib import pyplot as plt\n",
    "from astroduet.bbmag import bb_abmag_fluence, bb_abmag\n",
    "\n",
    "import astroduet.config as config\n",
    "from astroduet.background import background_pixel_rate\n",
    "\n",
    "\n",
    "%load_ext autoreload\n",
    "%autoreload 2\n",
    "\n",
    "from astropy.visualization import quantity_support\n",
    "import matplotlib\n",
    "font = {'family' : 'normal',\n",
    "        'weight' : 'bold',\n",
    "        'size'   : 22}\n",
    "\n",
    "matplotlib.rc('font', **font)"
   ]
  },
  {
   "cell_type": "code",
   "execution_count": 7,
   "metadata": {},
   "outputs": [
    {
     "name": "stdout",
     "output_type": "stream",
     "text": [
      "\n",
      "\n",
      "B\n",
      "Band1 300.0 s 5-σ magnitude limit: 21.730542480741892 mag(AB)\n",
      "Rates:  0.26115657255881525 ph / s 0.01753365098332382 ph / s\n",
      "78.34697176764458 ph 5.260095294997146 ph\n",
      "\n"
     ]
    }
   ],
   "source": [
    "\n",
    "# Band1\n",
    "# 5-sigma limiting magnitude in 1, 2, and 3 stacked frames.\n",
    "\n",
    "# Account for the fact that you're co-adding the two frames here:\n",
    "duet = config.Telescope()\n",
    "\n",
    "\n",
    "#tot_bgd_rate = bgd_band1 + bgd_band2\n",
    "bandone = duet.bandpass1\n",
    "bandtwo = duet.bandpass2\n",
    "exposure = 300*u.s\n",
    "print()\n",
    "siglimit=5\n",
    "dmag = 0.05\n",
    "print()\n",
    "for filter_type in ['B']:\n",
    "    print(filter_type)\n",
    "    [bgd_band1, bgd_band2] = background_pixel_rate(duet, low_zodi=True, filter_type=filter_type)\n",
    "    tot_bgd_rate = bgd_band1\n",
    "\n",
    "    for nframes in [1]:\n",
    "        snr = 100\n",
    "        swiftmag = 20 \n",
    "        while snr > siglimit:\n",
    "            swiftmag += dmag\n",
    "            band1_fluence, band2_fluence = bb_abmag_fluence(duet =duet, swiftmag=swiftmag*u.ABmag, bbtemp=15e3*u.K, filter_type=filter_type)\n",
    "            band1_rate = duet.fluence_to_rate(band1_fluence)\n",
    "            band2_rate = duet.fluence_to_rate(band2_fluence)\n",
    "            src_rate = band1_rate\n",
    "\n",
    "            snr = duet.calc_snr(exposure, src_rate, tot_bgd_rate, nint=nframes)\n",
    "        bbmag1, bbmag2 = bb_abmag(swiftmag=swiftmag*u.ABmag, bbtemp=15e3*u.K, bandone = bandone, bandtwo=bandtwo) \n",
    "        \n",
    "        print('Band1 {} {}-σ magnitude limit: {}'.format(nframes*exposure, siglimit, bbmag1))\n",
    "        print('Rates: ', src_rate, tot_bgd_rate)\n",
    "        print(src_rate*exposure, tot_bgd_rate*exposure)\n",
    "        print()\n",
    "\n",
    "\n"
   ]
  },
  {
   "cell_type": "code",
   "execution_count": 8,
   "metadata": {},
   "outputs": [
    {
     "name": "stdout",
     "output_type": "stream",
     "text": [
      "\n",
      "\n",
      "B\n",
      "Band2 300.0 s 5-σ magnitude limit: 21.141980251219504 mag(AB)\n"
     ]
    }
   ],
   "source": [
    "\n",
    "# Band2\n",
    "# 5-sigma limiting magnitude in 1, 2, and 3 stacked frames.\n",
    "\n",
    "duet = config.Telescope()\n",
    "\n",
    "\n",
    "#tot_bgd_rate = bgd_band1 + bgd_band2\n",
    "bandone = duet.bandpass1\n",
    "bandtwo = duet.bandpass2\n",
    "exposure = 300*u.s\n",
    "print()\n",
    "siglimit=5\n",
    "dmag = 0.05\n",
    "print()\n",
    "for filter_type in ['B']:\n",
    "    print(filter_type)\n",
    "    [bgd_band1, bgd_band2] = background_pixel_rate(duet, low_zodi=True, filter_type=filter_type)\n",
    "    tot_bgd_rate = bgd_band2\n",
    "\n",
    "    for nframes in [1]:\n",
    "        snr = 100\n",
    "        swiftmag = 20 \n",
    "        while snr > siglimit:\n",
    "            swiftmag += dmag\n",
    "            band1_fluence, band2_fluence = bb_abmag_fluence(duet =duet, swiftmag=swiftmag*u.ABmag, bbtemp=15e3*u.K, filter_type=filter_type)\n",
    "            band1_rate = duet.fluence_to_rate(band1_fluence)\n",
    "            band2_rate = duet.fluence_to_rate(band2_fluence)\n",
    "            src_rate = band2_rate\n",
    "\n",
    "            snr = duet.calc_snr(exposure, src_rate, tot_bgd_rate, nint=nframes)\n",
    "        bbmag1, bbmag2 = bb_abmag(swiftmag=swiftmag*u.ABmag, bbtemp=15e3*u.K, bandone = bandone, bandtwo=bandtwo)        \n",
    "        print('Band2 {} {}-σ magnitude limit: {}'.format(nframes*exposure, siglimit, bbmag2))\n",
    "\n",
    "\n",
    "\n"
   ]
  },
  {
   "cell_type": "code",
   "execution_count": 9,
   "metadata": {},
   "outputs": [
    {
     "name": "stdout",
     "output_type": "stream",
     "text": [
      "\n",
      "\n",
      "B\n",
      "Stacked Bands 300.0 s 5-σ magnitude limit: 22.030542480741897 mag(AB)\n"
     ]
    }
   ],
   "source": [
    "\n",
    "# Stacked channels\n",
    "# 5-sigma limiting magnitude in 1, 2, 3, and 4 stacked frames.\n",
    "\n",
    "# Account for the fact that you're co-adding the two frames here:\n",
    "duet = config.Telescope()\n",
    "duet.read_noise = (2**0.5) * duet.read_noise\n",
    "\n",
    "\n",
    "#tot_bgd_rate = bgd_band1 + bgd_band2\n",
    "bandone = duet.bandpass1\n",
    "bandtwo = duet.bandpass2\n",
    "exposure = 300*u.s\n",
    "print()\n",
    "siglimit=5\n",
    "dmag = 0.05\n",
    "print()\n",
    "for filter_type in ['B']:\n",
    "    print(filter_type)\n",
    "    [bgd_band1, bgd_band2] = background_pixel_rate(duet, low_zodi=True, filter_type=filter_type)\n",
    "    tot_bgd_rate = bgd_band1 + bgd_band2\n",
    "\n",
    "    for nframes in [1]:\n",
    "        snr = 100\n",
    "        swiftmag = 20 \n",
    "        while snr > siglimit:\n",
    "            swiftmag += dmag\n",
    "            band1_fluence, band2_fluence = bb_abmag_fluence(duet =duet, swiftmag=swiftmag*u.ABmag, bbtemp=15e3*u.K, filter_type=filter_type)\n",
    "            band1_rate = duet.fluence_to_rate(band1_fluence)\n",
    "            band2_rate = duet.fluence_to_rate(band2_fluence)\n",
    "            src_rate = band1_rate + band2_rate\n",
    "\n",
    "            snr = duet.calc_snr(exposure, src_rate, tot_bgd_rate, nint=nframes)\n",
    "        bbmag1, bbmag2 = bb_abmag(swiftmag=swiftmag*u.ABmag, bbtemp=15e3*u.K, bandone = bandone, bandtwo=bandtwo)        \n",
    "        print('Stacked Bands {} {}-σ magnitude limit: {}'.format(nframes*exposure, siglimit, bbmag1))\n",
    "\n",
    "\n",
    "\n"
   ]
  },
  {
   "cell_type": "code",
   "execution_count": 11,
   "metadata": {},
   "outputs": [
    {
     "name": "stdout",
     "output_type": "stream",
     "text": [
      "Low-Zodi 5-sig, 415.24932433627276 seconds\n",
      "High-Zodi 10-sig, 1736.3936879277696 seconds\n",
      "High-Zodi 5-sig, 539.4962128620656 seconds\n"
     ]
    }
   ],
   "source": [
    "# FOM: Time to 22 ABmag for this configuration for DUET1\n",
    "# Old FOM for this \n",
    "duet = config.Telescope()\n",
    "\n",
    "\n",
    "bandone = duet.bandpass1\n",
    "bandtwo = duet.bandpass2\n",
    "\n",
    "siglimit=5\n",
    "swiftmag = 20\n",
    "dmag = 0.05\n",
    "bbmag1 = 5*u.ABmag\n",
    "bbmag_target = 22*u.ABmag\n",
    "while bbmag1 < bbmag_target:\n",
    "    swiftmag+=dmag\n",
    "    bbmag1, bbmag2 = bb_abmag(swiftmag=swiftmag*u.ABmag, bbtemp=15e3*u.K, bandone = bandone, bandtwo=bandtwo)\n",
    "\n",
    "\n",
    "# Low Zodi, 10-sigma case\n",
    "[bgd_band1, bgd_band2] = background_pixel_rate(duet, low_zodi=True)\n",
    "band1_fluence, foo = bb_abmag_fluence(duet = duet, swiftmag=swiftmag*u.ABmag, bbtemp=15e3*u.K)\n",
    "band1_rate = duet.fluence_to_rate(band1_fluence)\n",
    "req_exp = calc_exposure(siglimit, band1_rate, bgd_band1, duet.read_noise, duet.neff)\n",
    "print('Low-Zodi {}-sig, {} seconds'.format(siglimit, req_exp.value))\n",
    "\n",
    "\n",
    "# High Zodi, 10-sigma case.\n",
    "siglimit=10\n",
    "[bgd_band1, bgd_band2] = background_pixel_rate(duet, high_zodi=True)\n",
    "band1_fluence, foo = bb_abmag_fluence(duet = duet, swiftmag=swiftmag*u.ABmag, bbtemp=15e3*u.K)\n",
    "band1_rate = duet.fluence_to_rate(band1_fluence)\n",
    "req_exp = calc_exposure(siglimit, band1_rate, bgd_band1, duet.read_noise, duet.neff)\n",
    "print('High-Zodi {}-sig, {} seconds'.format(siglimit, req_exp.value))\n",
    "\n",
    "# High Zodi, 5-sigma case\n",
    "siglimit=5\n",
    "[bgd_band1, bgd_band2] = background_pixel_rate(duet, high_zodi=True)\n",
    "band1_fluence, foo = bb_abmag_fluence(duet = duet, swiftmag=swiftmag*u.ABmag, bbtemp=15e3*u.K)\n",
    "band1_rate = duet.fluence_to_rate(band1_fluence)\n",
    "\n",
    "req_exp = calc_exposure(siglimit, band1_rate, bgd_band1, duet.read_noise, duet.neff)\n",
    "print('High-Zodi {}-sig, {} seconds'.format(siglimit, req_exp.value))\n",
    "\n",
    "\n"
   ]
  },
  {
   "cell_type": "code",
   "execution_count": null,
   "metadata": {},
   "outputs": [],
   "source": []
  }
 ],
 "metadata": {
  "anaconda-cloud": {},
  "kernelspec": {
   "display_name": "Python 3",
   "language": "python",
   "name": "python3"
  },
  "language_info": {
   "codemirror_mode": {
    "name": "ipython",
    "version": 3
   },
   "file_extension": ".py",
   "mimetype": "text/x-python",
   "name": "python",
   "nbconvert_exporter": "python",
   "pygments_lexer": "ipython3",
   "version": "3.6.7"
  }
 },
 "nbformat": 4,
 "nbformat_minor": 2
}
