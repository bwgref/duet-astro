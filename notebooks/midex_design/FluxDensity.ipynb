{
 "cells": [
  {
   "cell_type": "code",
   "execution_count": 2,
   "metadata": {},
   "outputs": [],
   "source": [
    "import astropy.units as u\n",
    "import astropy.constants as cr\n",
    "from astropy.modeling import models\n",
    "from astropy.modeling.blackbody import FLAM\n",
    "import numpy as np\n",
    "import matplotlib.pyplot as plt"
   ]
  },
  {
   "cell_type": "code",
   "execution_count": 3,
   "metadata": {},
   "outputs": [],
   "source": [
    "wav = np.arange(1000,9000) * u.AA # Wavelength scale in 1 Angstrom steps"
   ]
  },
  {
   "cell_type": "code",
   "execution_count": 4,
   "metadata": {},
   "outputs": [
    {
     "name": "stdout",
     "output_type": "stream",
     "text": [
      "erg / (Angstrom cm2 s)\n"
     ]
    }
   ],
   "source": [
    "# Compute AB magnitude in band:\n",
    "fuv_band = [120, 180]*u.nm\n",
    "\n",
    "# Set target AB magnitude:\n",
    "target = 22*u.ABmag\n",
    "# Convert to FLAM units\n",
    "flux_conv = target.to(FLAM, equivalencies=u.spectral_density(wav))\n",
    "print(flux_conv.unit)\n",
    "\n"
   ]
  },
  {
   "cell_type": "code",
   "execution_count": 5,
   "metadata": {},
   "outputs": [
    {
     "data": {
      "image/png": "[encoded data removed]",
      "text/plain": [
       "<Figure size 432x288 with 1 Axes>"
      ]
     },
     "metadata": {
      "needs_background": "light"
     },
     "output_type": "display_data"
    }
   ],
   "source": [
    "# This is what AB mags look like, flat in Fnu:\n",
    "plt.plot(wav, flux_conv)\n",
    "plt.show()"
   ]
  },
  {
   "cell_type": "code",
   "execution_count": 6,
   "metadata": {},
   "outputs": [
    {
     "name": "stdout",
     "output_type": "stream",
     "text": [
      "ph / (cm2 s)\n"
     ]
    }
   ],
   "source": [
    "# Convert to photons per bin:\n",
    "\n",
    "dw = 1*u.AA\n",
    "ph_energy = (cr.h.cgs * cr.c.cgs / wav.cgs) / u.ph\n",
    "\n",
    "# Convert to photon flux.\n",
    "ph_flux = flux_conv * dw / ph_energy\n",
    "print(ph_flux.unit)"
   ]
  },
  {
   "cell_type": "code",
   "execution_count": 7,
   "metadata": {},
   "outputs": [
    {
     "data": {
      "image/png": "[encoded data removed]",
      "text/plain": [
       "<Figure size 432x288 with 1 Axes>"
      ]
     },
     "metadata": {
      "needs_background": "light"
     },
     "output_type": "display_data"
    }
   ],
   "source": [
    "plt.plot(wav, ph_flux)\n",
    "plt.show()"
   ]
  },
  {
   "cell_type": "code",
   "execution_count": 8,
   "metadata": {},
   "outputs": [
    {
     "name": "stdout",
     "output_type": "stream",
     "text": [
      "0.0035224613056080347 ph / (cm2 s)\n"
     ]
    }
   ],
   "source": [
    "# Compute in-band rate:\n",
    "fluence = ph_flux[(wav >= fuv_band[0].to(u.AA)) & (wav <= fuv_band[1].to(u.AA))].sum()\n",
    "print(fluence)"
   ]
  },
  {
   "cell_type": "code",
   "execution_count": 10,
   "metadata": {},
   "outputs": [],
   "source": [
    "epd = 50 * u.cm\n",
    "area = np.pi * (0.5*epd)**2\n",
    "reflectivity = 0.9\n",
    "mirrors = 3\n",
    "dichroic = 0.4\n",
    "qe = 0.5\n",
    "\n",
    "rate = fluence * area * (reflectivity**mirrors) * dichroic * qe"
   ]
  },
  {
   "cell_type": "code",
   "execution_count": 11,
   "metadata": {},
   "outputs": [
    {
     "name": "stdout",
     "output_type": "stream",
     "text": [
      "1.0084018763030105 ph / s\n"
     ]
    }
   ],
   "source": [
    "print(rate) # This is 22 AB mag, so we can futz this up and down just scaling like magnitudes"
   ]
  },
  {
   "cell_type": "code",
   "execution_count": 16,
   "metadata": {},
   "outputs": [
    {
     "data": {
      "text/latex": [
       "$0.0363624 \\; \\mathrm{\\frac{1}{ph^{1/2}}}$"
      ],
      "text/plain": [
       "<Quantity 0.0363624 1 / ph(1/2)>"
      ]
     },
     "execution_count": 16,
     "metadata": {},
     "output_type": "execute_result"
    }
   ],
   "source": [
    "cts = 600 * rate * u.s\n",
    "np.sqrt(cts) / cts"
   ]
  },
  {
   "cell_type": "code",
   "execution_count": 17,
   "metadata": {},
   "outputs": [
    {
     "data": {
      "text/latex": [
       "$27.500935 \\; \\mathrm{ph^{1/2}}$"
      ],
      "text/plain": [
       "<Quantity 27.50093489 ph(1/2)>"
      ]
     },
     "execution_count": 17,
     "metadata": {},
     "output_type": "execute_result"
    }
   ],
   "source": [
    "np.sqrt(cts)"
   ]
  },
  {
   "cell_type": "code",
   "execution_count": null,
   "metadata": {},
   "outputs": [],
   "source": []
  }
 ],
 "metadata": {
  "kernelspec": {
   "display_name": "Python 3",
   "language": "python",
   "name": "python3"
  },
  "language_info": {
   "codemirror_mode": {
    "name": "ipython",
    "version": 3
   },
   "file_extension": ".py",
   "mimetype": "text/x-python",
   "name": "python",
   "nbconvert_exporter": "python",
   "pygments_lexer": "ipython3",
   "version": "3.7.4"
  }
 },
 "nbformat": 4,
 "nbformat_minor": 4
}
