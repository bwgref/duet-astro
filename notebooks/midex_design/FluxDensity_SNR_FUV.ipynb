{
 "cells": [
  {
   "cell_type": "code",
   "execution_count": 1,
   "metadata": {},
   "outputs": [],
   "source": [
    "import astropy.units as u\n",
    "import astropy.constants as cr\n",
    "from astropy.modeling import models\n",
    "from astropy.modeling.blackbody import FLAM\n",
    "import numpy as np\n",
    "import matplotlib.pyplot as plt\n",
    "from astroduet.duet_sensitivity import calc_snr"
   ]
  },
  {
   "cell_type": "code",
   "execution_count": 2,
   "metadata": {},
   "outputs": [],
   "source": [
    "wav = np.arange(1000,9000) * u.AA # Wavelength scale in 1 Angstrom steps"
   ]
  },
  {
   "cell_type": "code",
   "execution_count": 3,
   "metadata": {},
   "outputs": [
    {
     "name": "stdout",
     "output_type": "stream",
     "text": [
      "Bandpass: [145. 175.] nm\n",
      "Photon fluence from    22.00 mag(AB) source: 1.63e-03 ph / (cm2 s)\n"
     ]
    }
   ],
   "source": [
    "# Compute AB magnitude in band:\n",
    "center=160 # nm\n",
    "width = 30 # nm\n",
    "fuv_band = [(center-width*0.5), (center+width*0.5)]*u.nm\n",
    "print(f'Bandpass: {fuv_band}')\n",
    "\n",
    "# Set target AB magnitude:\n",
    "target = 22*u.ABmag\n",
    "# Convert to FLAM units\n",
    "flux_conv = target.to(FLAM, equivalencies=u.spectral_density(wav))\n",
    "# Convert to photons per bin:\n",
    "\n",
    "dw = 1*u.AA\n",
    "ph_energy = (cr.h.cgs * cr.c.cgs / wav.cgs) / u.ph\n",
    "\n",
    "# Convert to photon fluence.\n",
    "ph_flux = flux_conv * dw / ph_energy\n",
    "\n",
    "# Compute in-band rate:\n",
    "fluence = ph_flux[(wav >= fuv_band[0].to(u.AA)) & (wav <= fuv_band[1].to(u.AA))].sum()\n",
    "print(f'Photon fluence from {target:8.2f} source: {fluence:8.2e}')"
   ]
  },
  {
   "cell_type": "code",
   "execution_count": 4,
   "metadata": {},
   "outputs": [
    {
     "data": {
      "image/png": "[encoded data removed]",
      "text/plain": [
       "<Figure size 576x432 with 1 Axes>"
      ]
     },
     "metadata": {
      "needs_background": "light"
     },
     "output_type": "display_data"
    }
   ],
   "source": [
    "# Check Zodi background rate in this band:\n",
    "\n",
    "from astroduet.zodi import load_zodi\n",
    "\n",
    "# Turn off airglow lines, use \"high Zodi\" level by default (77)\n",
    "zodi = load_zodi(airglow=False, scale = 900)\n",
    "wave = zodi['wavelength']\n",
    "flux = zodi['flux']\n",
    "\n",
    "\n",
    "ax = plt.figure(figsize=(8, 6)).subplots()\n",
    "\n",
    "ax.scatter(wave.to(u.nm), flux)\n",
    "ax.set_xlabel('λ (nm)')\n",
    "ax.set_ylabel('Flux Density')\n",
    "ax.set_xlim(100, 300)\n",
    "ax.set_ylim(1e-3, 50e3)\n",
    "ax.set_yscale('Log')\n",
    "ax.axvline(fuv_band[0].value, color = 'red', linestyle = '--')\n",
    "ax.axvline(fuv_band[1].value, color = 'red', linestyle = '--')\n",
    "\n",
    "\n",
    "plt.show()\n"
   ]
  },
  {
   "cell_type": "code",
   "execution_count": 5,
   "metadata": {},
   "outputs": [
    {
     "name": "stdout",
     "output_type": "stream",
     "text": [
      "AB mag per arcsec2:    26.46 mag(AB)\n"
     ]
    }
   ],
   "source": [
    "width = 1 * u.AA\n",
    "int_inband =  flux[(wave > fuv_band[0].to(u.AA)) * (wave < fuv_band[1].to(u.AA))].sum()\n",
    "int_inband = int_inband.to(u.ph / (u.cm**2 * u.s * u.arcsec**2 * u.AA))\n",
    "# Convert to per arcsec2\n",
    "\n",
    "pix = 1*u.arcsec\n",
    "pix_area = pix*pix\n",
    "pix_int = pix_area * int_inband\n",
    "\n",
    "\n",
    "\n",
    "pix_ab = pix_int.to(u.ABmag, equivalencies=u.spectral_density(160*u.nm))\n",
    "print(f'AB mag per arcsec2: {pix_ab:8.2f}')\n",
    "\n",
    "bandpass = fuv_band[1] - fuv_band[0]\n",
    "pix_fluence = pix_int * bandpass.to(u.AA)\n",
    "\n"
   ]
  },
  {
   "cell_type": "code",
   "execution_count": 6,
   "metadata": {},
   "outputs": [
    {
     "name": "stdout",
     "output_type": "stream",
     "text": [
      "Efficiency    11.66 (%)\n",
      "EPD Area:  1963.50 cm2\n",
      "Effective area:   229.02 cm2\n",
      "Eta:    11.66 (%)\n"
     ]
    }
   ],
   "source": [
    "# WAGs\n",
    "epd = 50 * u.cm\n",
    "area = np.pi*(epd*0.5)**2\n",
    "reflectivity = 0.9\n",
    "mirrors = 3\n",
    "dichroic = 0.4\n",
    "qe = 0.4\n",
    "\n",
    "efficiency = (reflectivity**mirrors) * dichroic * qe\n",
    "\n",
    "print(f'Efficiency {100*efficiency:8.2f} (%)')\n",
    "eff_area = area * efficiency\n",
    "print(f'EPD Area: {area:8.2f}')\n",
    "print(f'Effective area: {eff_area:8.2f}')\n",
    "print(f'Eta: {100*eff_area / area:8.2f} (%)')\n",
    "\n",
    "\n",
    "from astroduet.utils import get_neff\n",
    "psf_size = 0.6*u.arcsec\n",
    "pixel_size = 1.0 *u.arcsec\n",
    "dark_current = 0.01 * u.ph / u.s # e- per sec\n",
    "neff = get_neff(psf_size, pixel_size)\n",
    "read_noise = 3. # electrons"
   ]
  },
  {
   "cell_type": "code",
   "execution_count": 7,
   "metadata": {},
   "outputs": [
    {
     "name": "stdout",
     "output_type": "stream",
     "text": [
      "EPD:    50.00 cm\n",
      "In-band Zodi background rate per pixel: 6.16e-03 ph / s\n",
      "\n",
      "For AB mag 25.00 mag(AB), in 600.0 s, SNR is  1.65\n",
      "For AB mag 24.80 mag(AB), in 600.0 s, SNR is  1.95\n",
      "For AB mag 24.60 mag(AB), in 600.0 s, SNR is  2.29\n",
      "For AB mag 24.40 mag(AB), in 600.0 s, SNR is  2.69\n",
      "For AB mag 24.20 mag(AB), in 600.0 s, SNR is  3.14\n",
      "For AB mag 24.00 mag(AB), in 600.0 s, SNR is  3.65\n",
      "For AB mag 23.80 mag(AB), in 600.0 s, SNR is  4.23\n",
      "For AB mag 23.60 mag(AB), in 600.0 s, SNR is  4.89\n",
      "For AB mag 23.40 mag(AB), in 600.0 s, SNR is  5.62\n",
      "For AB mag 23.20 mag(AB), in 600.0 s, SNR is  6.43\n",
      "For AB mag 23.00 mag(AB), in 600.0 s, SNR is  7.33\n",
      "For AB mag 22.80 mag(AB), in 600.0 s, SNR is  8.32\n",
      "For AB mag 22.60 mag(AB), in 600.0 s, SNR is  9.41\n",
      "For AB mag 22.40 mag(AB), in 600.0 s, SNR is 10.60\n",
      "For AB mag 22.20 mag(AB), in 600.0 s, SNR is 11.90\n"
     ]
    }
   ],
   "source": [
    "texp = 600*u.s\n",
    "\n",
    "bgd_rate = pix_fluence * eff_area\n",
    "print(f'EPD: {epd:8.2f}')\n",
    "print(f'In-band Zodi background rate per pixel: {bgd_rate:8.2e}')\n",
    "print()\n",
    "tot_bgd = bgd_rate * 2 + dark_current\n",
    "\n",
    "\n",
    "for t in np.arange(25, 22, -0.2):\n",
    "\n",
    "# Set target AB magnitude:\n",
    "    target = t*u.ABmag\n",
    "    # Convert to FLAM units\n",
    "    flux_conv = target.to(FLAM, equivalencies=u.spectral_density(wav))\n",
    "    # Convert to photons per bin:\n",
    "\n",
    "    dw = 1*u.AA\n",
    "    ph_energy = (cr.h.cgs * cr.c.cgs / wav.cgs) / u.ph\n",
    "\n",
    "    # Convert to photon fluence.\n",
    "    ph_flux = flux_conv * dw / ph_energy\n",
    "\n",
    "    # Compute in-band rate:\n",
    "    fluence = ph_flux[(wav >= fuv_band[0].to(u.AA)) & (wav <= fuv_band[1].to(u.AA))].sum()\n",
    "    src_rate = fluence * eff_area\n",
    "    snr = calc_snr(texp.value, src_rate.value, tot_bgd.value, read_noise, neff)\n",
    "    print(f'For AB mag {target:5.2f}, in {texp:5.1f}, SNR is {snr:5.2f}')"
   ]
  },
  {
   "cell_type": "code",
   "execution_count": 8,
   "metadata": {},
   "outputs": [
    {
     "name": "stdout",
     "output_type": "stream",
     "text": [
      "Efficiency    11.66 (%)\n",
      "EPD Area:  4417.86 cm2\n",
      "Effective area:   515.30 cm2\n",
      "Eta:    11.66 (%)\n"
     ]
    }
   ],
   "source": [
    "# WAGs\n",
    "epd = 75 * u.cm\n",
    "area = np.pi*(epd*0.5)**2\n",
    "reflectivity = 0.9\n",
    "mirrors = 3\n",
    "dichroic = 0.4\n",
    "qe = 0.4\n",
    "\n",
    "efficiency = (reflectivity**mirrors) * dichroic * qe\n",
    "\n",
    "print(f'Efficiency {100*efficiency:8.2f} (%)')\n",
    "eff_area = area * efficiency\n",
    "print(f'EPD Area: {area:8.2f}')\n",
    "print(f'Effective area: {eff_area:8.2f}')\n",
    "print(f'Eta: {100*eff_area / area:8.2f} (%)')\n",
    "\n",
    "\n",
    "from astroduet.utils import get_neff\n",
    "psf_size = 0.6*u.arcsec\n",
    "pixel_size = 1.0 *u.arcsec\n",
    "dark_current = 0.01 * u.ph / u.s # e- per sec\n",
    "neff = get_neff(psf_size, pixel_size)\n",
    "read_noise = 3. # electrons"
   ]
  },
  {
   "cell_type": "code",
   "execution_count": 9,
   "metadata": {},
   "outputs": [
    {
     "name": "stdout",
     "output_type": "stream",
     "text": [
      "EPD:    75.00 cm\n",
      "In-band Zodi background rate per pixel: 1.39e-02 ph / s\n",
      "\n",
      "For AB mag 25.00 mag(AB), in 600.0 s, SNR is  2.96\n",
      "For AB mag 24.80 mag(AB), in 600.0 s, SNR is  3.47\n",
      "For AB mag 24.60 mag(AB), in 600.0 s, SNR is  4.04\n",
      "For AB mag 24.40 mag(AB), in 600.0 s, SNR is  4.70\n",
      "For AB mag 24.20 mag(AB), in 600.0 s, SNR is  5.43\n",
      "For AB mag 24.00 mag(AB), in 600.0 s, SNR is  6.26\n",
      "For AB mag 23.80 mag(AB), in 600.0 s, SNR is  7.17\n",
      "For AB mag 23.60 mag(AB), in 600.0 s, SNR is  8.19\n",
      "For AB mag 23.40 mag(AB), in 600.0 s, SNR is  9.32\n",
      "For AB mag 23.20 mag(AB), in 600.0 s, SNR is 10.56\n",
      "For AB mag 23.00 mag(AB), in 600.0 s, SNR is 11.92\n",
      "For AB mag 22.80 mag(AB), in 600.0 s, SNR is 13.40\n",
      "For AB mag 22.60 mag(AB), in 600.0 s, SNR is 15.02\n",
      "For AB mag 22.40 mag(AB), in 600.0 s, SNR is 16.79\n",
      "For AB mag 22.20 mag(AB), in 600.0 s, SNR is 18.72\n"
     ]
    }
   ],
   "source": [
    "texp = 600*u.s\n",
    "\n",
    "bgd_rate = pix_fluence * eff_area\n",
    "print(f'EPD: {epd:8.2f}')\n",
    "print(f'In-band Zodi background rate per pixel: {bgd_rate:8.2e}')\n",
    "print()\n",
    "\n",
    "tot_bgd = bgd_rate * 2 + dark_current\n",
    "\n",
    "\n",
    "for t in np.arange(25, 22, -0.2):\n",
    "\n",
    "# Set target AB magnitude:\n",
    "    target = t*u.ABmag\n",
    "    # Convert to FLAM units\n",
    "    flux_conv = target.to(FLAM, equivalencies=u.spectral_density(wav))\n",
    "    # Convert to photons per bin:\n",
    "\n",
    "    dw = 1*u.AA\n",
    "    ph_energy = (cr.h.cgs * cr.c.cgs / wav.cgs) / u.ph\n",
    "\n",
    "    # Convert to photon fluence.\n",
    "    ph_flux = flux_conv * dw / ph_energy\n",
    "\n",
    "    # Compute in-band rate:\n",
    "    fluence = ph_flux[(wav >= fuv_band[0].to(u.AA)) & (wav <= fuv_band[1].to(u.AA))].sum()\n",
    "    src_rate = fluence * eff_area\n",
    "    snr = calc_snr(texp.value, src_rate.value, tot_bgd.value, read_noise, neff)\n",
    "    print(f'For AB mag {target:5.2f}, in {texp:5.1f}, SNR is {snr:5.2f}')"
   ]
  },
  {
   "cell_type": "code",
   "execution_count": 10,
   "metadata": {},
   "outputs": [
    {
     "name": "stdout",
     "output_type": "stream",
     "text": [
      "Efficiency    11.66 (%)\n",
      "EPD Area:  1963.50 cm2\n",
      "Effective area:   229.02 cm2\n",
      "Eta:    11.66 (%)\n",
      "EPD:    50.00 cm\n",
      "In-band Zodi background rate per pixel: 6.16e-03 ph / s\n",
      "\n",
      "For AB mag 25.00 mag(AB), in 600.0 s, SNR is  2.01\n",
      "For AB mag 24.80 mag(AB), in 600.0 s, SNR is  2.35\n",
      "For AB mag 24.60 mag(AB), in 600.0 s, SNR is  2.74\n",
      "For AB mag 24.40 mag(AB), in 600.0 s, SNR is  3.18\n",
      "For AB mag 24.20 mag(AB), in 600.0 s, SNR is  3.67\n",
      "For AB mag 24.00 mag(AB), in 600.0 s, SNR is  4.22\n",
      "For AB mag 23.80 mag(AB), in 600.0 s, SNR is  4.84\n",
      "For AB mag 23.60 mag(AB), in 600.0 s, SNR is  5.52\n",
      "For AB mag 23.40 mag(AB), in 600.0 s, SNR is  6.27\n",
      "For AB mag 23.20 mag(AB), in 600.0 s, SNR is  7.09\n",
      "For AB mag 23.00 mag(AB), in 600.0 s, SNR is  8.00\n",
      "For AB mag 22.80 mag(AB), in 600.0 s, SNR is  8.99\n",
      "For AB mag 22.60 mag(AB), in 600.0 s, SNR is 10.07\n",
      "For AB mag 22.40 mag(AB), in 600.0 s, SNR is 11.24\n",
      "For AB mag 22.20 mag(AB), in 600.0 s, SNR is 12.53\n"
     ]
    }
   ],
   "source": [
    "# Turn off read noise\n",
    "epd = 50 * u.cm\n",
    "area = np.pi*(epd*0.5)**2\n",
    "reflectivity = 0.9\n",
    "mirrors = 3\n",
    "dichroic = 0.4\n",
    "qe = 0.4\n",
    "\n",
    "efficiency = (reflectivity**mirrors) * dichroic * qe\n",
    "\n",
    "print(f'Efficiency {100*efficiency:8.2f} (%)')\n",
    "eff_area = area * efficiency\n",
    "print(f'EPD Area: {area:8.2f}')\n",
    "print(f'Effective area: {eff_area:8.2f}')\n",
    "print(f'Eta: {100*eff_area / area:8.2f} (%)')\n",
    "\n",
    "\n",
    "from astroduet.utils import get_neff\n",
    "psf_size = 0.6*u.arcsec\n",
    "pixel_size = 1.0 *u.arcsec\n",
    "dark_current = 0.01 * u.ph / u.s # e- per sec\n",
    "neff = get_neff(psf_size, pixel_size)\n",
    "read_noise = 0. # electrons\n",
    "\n",
    "texp = 600*u.s\n",
    "\n",
    "bgd_rate = pix_fluence * eff_area\n",
    "print(f'EPD: {epd:8.2f}')\n",
    "print(f'In-band Zodi background rate per pixel: {bgd_rate:8.2e}')\n",
    "print()\n",
    "\n",
    "tot_bgd = bgd_rate * 2 + dark_current\n",
    "\n",
    "\n",
    "for t in np.arange(25, 22, -0.2):\n",
    "\n",
    "# Set target AB magnitude:\n",
    "    target = t*u.ABmag\n",
    "    # Convert to FLAM units\n",
    "    flux_conv = target.to(FLAM, equivalencies=u.spectral_density(wav))\n",
    "    # Convert to photons per bin:\n",
    "\n",
    "    dw = 1*u.AA\n",
    "    ph_energy = (cr.h.cgs * cr.c.cgs / wav.cgs) / u.ph\n",
    "\n",
    "    # Convert to photon fluence.\n",
    "    ph_flux = flux_conv * dw / ph_energy\n",
    "\n",
    "    # Compute in-band rate:\n",
    "    fluence = ph_flux[(wav >= fuv_band[0].to(u.AA)) & (wav <= fuv_band[1].to(u.AA))].sum()\n",
    "    src_rate = fluence * eff_area\n",
    "    snr = calc_snr(texp.value, src_rate.value, tot_bgd.value, read_noise, neff)\n",
    "    print(f'For AB mag {target:5.2f}, in {texp:5.1f}, SNR is {snr:5.2f}')"
   ]
  },
  {
   "cell_type": "code",
   "execution_count": 11,
   "metadata": {},
   "outputs": [
    {
     "name": "stdout",
     "output_type": "stream",
     "text": [
      "Efficiency    11.66 (%)\n",
      "EPD Area:  1963.50 cm2\n",
      "Effective area:   229.02 cm2\n",
      "Eta:    11.66 (%)\n",
      "EPD:    50.00 cm\n",
      "In-band Zodi background rate per pixel: 6.16e-03 ph / s\n",
      "\n",
      "For AB mag 25.00 mag(AB), in 600.0 s, SNR is  1.87\n",
      "For AB mag 24.80 mag(AB), in 600.0 s, SNR is  2.19\n",
      "For AB mag 24.60 mag(AB), in 600.0 s, SNR is  2.56\n",
      "For AB mag 24.40 mag(AB), in 600.0 s, SNR is  2.98\n",
      "For AB mag 24.20 mag(AB), in 600.0 s, SNR is  3.46\n",
      "For AB mag 24.00 mag(AB), in 600.0 s, SNR is  4.00\n",
      "For AB mag 23.80 mag(AB), in 600.0 s, SNR is  4.61\n",
      "For AB mag 23.60 mag(AB), in 600.0 s, SNR is  5.28\n",
      "For AB mag 23.40 mag(AB), in 600.0 s, SNR is  6.03\n",
      "For AB mag 23.20 mag(AB), in 600.0 s, SNR is  6.85\n",
      "For AB mag 23.00 mag(AB), in 600.0 s, SNR is  7.76\n",
      "For AB mag 22.80 mag(AB), in 600.0 s, SNR is  8.75\n",
      "For AB mag 22.60 mag(AB), in 600.0 s, SNR is  9.83\n",
      "For AB mag 22.40 mag(AB), in 600.0 s, SNR is 11.02\n",
      "For AB mag 22.20 mag(AB), in 600.0 s, SNR is 12.31\n"
     ]
    }
   ],
   "source": [
    "# Turn off dark current\n",
    "epd = 50 * u.cm\n",
    "area = np.pi*(epd*0.5)**2\n",
    "reflectivity = 0.9\n",
    "mirrors = 3\n",
    "dichroic = 0.4\n",
    "qe = 0.4\n",
    "\n",
    "efficiency = (reflectivity**mirrors) * dichroic * qe\n",
    "\n",
    "print(f'Efficiency {100*efficiency:8.2f} (%)')\n",
    "eff_area = area * efficiency\n",
    "print(f'EPD Area: {area:8.2f}')\n",
    "print(f'Effective area: {eff_area:8.2f}')\n",
    "print(f'Eta: {100*eff_area / area:8.2f} (%)')\n",
    "\n",
    "\n",
    "from astroduet.utils import get_neff\n",
    "psf_size = 0.6*u.arcsec\n",
    "pixel_size = 1.0 *u.arcsec\n",
    "dark_current = 0 * u.ph / u.s # e- per sec\n",
    "neff = get_neff(psf_size, pixel_size)\n",
    "read_noise = 3. # electrons\n",
    "\n",
    "texp = 600*u.s\n",
    "\n",
    "bgd_rate = pix_fluence * eff_area\n",
    "print(f'EPD: {epd:8.2f}')\n",
    "print(f'In-band Zodi background rate per pixel: {bgd_rate:8.2e}')\n",
    "print()\n",
    "\n",
    "tot_bgd = bgd_rate * 2 + dark_current\n",
    "\n",
    "\n",
    "for t in np.arange(25, 22, -0.2):\n",
    "\n",
    "# Set target AB magnitude:\n",
    "    target = t*u.ABmag\n",
    "    # Convert to FLAM units\n",
    "    flux_conv = target.to(FLAM, equivalencies=u.spectral_density(wav))\n",
    "    # Convert to photons per bin:\n",
    "\n",
    "    dw = 1*u.AA\n",
    "    ph_energy = (cr.h.cgs * cr.c.cgs / wav.cgs) / u.ph\n",
    "\n",
    "    # Convert to photon fluence.\n",
    "    ph_flux = flux_conv * dw / ph_energy\n",
    "\n",
    "    # Compute in-band rate:\n",
    "    fluence = ph_flux[(wav >= fuv_band[0].to(u.AA)) & (wav <= fuv_band[1].to(u.AA))].sum()\n",
    "    src_rate = fluence * eff_area\n",
    "    snr = calc_snr(texp.value, src_rate.value, tot_bgd.value, read_noise, neff)\n",
    "    print(f'For AB mag {target:5.2f}, in {texp:5.1f}, SNR is {snr:5.2f}')"
   ]
  },
  {
   "cell_type": "code",
   "execution_count": null,
   "metadata": {},
   "outputs": [],
   "source": []
  }
 ],
 "metadata": {
  "kernelspec": {
   "display_name": "Python 3",
   "language": "python",
   "name": "python3"
  },
  "language_info": {
   "codemirror_mode": {
    "name": "ipython",
    "version": 3
   },
   "file_extension": ".py",
   "mimetype": "text/x-python",
   "name": "python",
   "nbconvert_exporter": "python",
   "pygments_lexer": "ipython3",
   "version": "3.7.8"
  }
 },
 "nbformat": 4,
 "nbformat_minor": 4
}
