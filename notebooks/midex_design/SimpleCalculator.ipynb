{
 "cells": [
  {
   "cell_type": "code",
   "execution_count": 4,
   "metadata": {},
   "outputs": [],
   "source": [
    "## GO DOWN TO THE BOTTOM OF THIS PAGE\n",
    "\n",
    "from astroduet.bbmag import bb_abmag, bb_abmag_fluence\n",
    "import astropy.units as ur\n",
    "\n"
   ]
  },
  {
   "cell_type": "code",
   "execution_count": 5,
   "metadata": {},
   "outputs": [
    {
     "name": "stdout",
     "output_type": "stream",
     "text": [
      "\n",
      "Compute ABmags in TD bands for blackbody\n",
      "Blackbody temperature: 20000.0 K\n",
      "Reference UVW2-band magnitude: 25.0 mag(AB)\n",
      "Band one: [120. 180.] nm\n",
      "Band two: [180. 280.] nm\n",
      "Distance: 10.0 pc\n",
      "Flux density band one: 0.0004389061843634471 erg / (Angstrom cm2 s)\n",
      "Flux density band two: 0.00029752710160622844 erg / (Angstrom cm2 s)\n",
      "Flux density Swift: 0.0003556698779755909 erg / (Angstrom cm2 s)\n",
      "Distance modulus: 0.0 mag\n",
      "Raw ABmag band one: -9.894333788635599 mag(AB)\n",
      "Raw ABmag band two: -10.400403751643468 mag(AB)\n",
      "Raw ABmag Swift: -10.323580926623904 mag(AB)\n",
      "Offset from Swift band: 35.323580926623904 mag\n",
      "ABmag band one: 25.429247137988305 mag(AB)\n",
      "ABmag band two: 24.923177174980438 mag(AB)\n",
      "\n"
     ]
    },
    {
     "name": "stderr",
     "output_type": "stream",
     "text": [
      "WARNING: AstropyDeprecationWarning: BlackBody provides the same capabilities [astroduet.bbmag]\n",
      "WARNING: AstropyDeprecationWarning: BlackBody provides the same capabilities [astropy.modeling.blackbody]\n"
     ]
    },
    {
     "data": {
      "text/plain": [
       "(<Magnitude 25.42924714 mag(AB)>, <Magnitude 24.92317717 mag(AB)>)"
      ]
     },
     "execution_count": 5,
     "metadata": {},
     "output_type": "execute_result"
    }
   ],
   "source": [
    "bb_abmag(swiftmag=25*ur.ABmag, diag=True, bandone=[120., 180]*ur.nm, bandtwo=[180, 280]*ur.nm)"
   ]
  },
  {
   "cell_type": "code",
   "execution_count": 6,
   "metadata": {},
   "outputs": [
    {
     "name": "stderr",
     "output_type": "stream",
     "text": [
      "WARNING: AstropyDeprecationWarning: BlackBody provides the same capabilities [warnings]\n",
      "WARNING: AstropyDeprecationWarning: BlackBody provides the same capabilities [astropy.modeling.blackbody]\n"
     ]
    }
   ],
   "source": [
    "import astropy.constants as cr\n",
    "from astropy.modeling import models\n",
    "from astropy.modeling.blackbody import FLAM\n",
    "import numpy as np\n",
    "\n",
    "bbtemp = 20e3*ur.K\n",
    "umag = 22*ur.ABmag\n",
    "swiftmag = 22*ur.ABmag\n",
    "dist = 10*ur.pc\n",
    "ref = 'swift'\n",
    "dist0 = 10*ur.pc\n",
    "bolflux =1.*ur.erg/(ur.cm**2 * ur.s)\n",
    "\n",
    "bandu = [340,380]*ur.nm # For comparison purposes\n",
    "bandsw = [172.53,233.57]*ur.nm # Swift UVW2 effective band (lambda_eff +/- 0.5 width_eff)\n",
    "\n",
    "wav = np.arange(1000,9000) * ur.AA # Wavelength scale in 1 Angstrom steps\n",
    "bb = models.BlackBody1D(temperature=bbtemp,bolometric_flux=bolflux) # Load the blackbody model\n",
    "flux = bb(wav).to(FLAM, ur.spectral_density(wav))\n",
    "\n",
    "# Get Swift reference AB mag\n",
    "fluxden_sw = np.mean(flux[(wav >= bandsw[0].to(ur.AA)) & (wav <= bandsw[1].to(ur.AA))])\n",
    "magsw = fluxden_sw.to(ur.ABmag, equivalencies=ur.spectral_density(np.mean(bandsw)))\n",
    "\n",
    "# Conver to flux AB mags across the band.\n",
    "flux_ab = flux.to(ur.ABmag, equivalencies = ur.spectral_density(wav))\n",
    "\n",
    "# Distance modulus\n",
    "distmod = (5*np.log10(dist/dist0)).value*ur.mag\n",
    "\n",
    "# Set up input:\n",
    "magoff = swiftmag - magsw\n",
    "\n",
    "# Apply the distance modulus and the Swift reference offset\n",
    "if (bolflux == 1.*ur.erg/(ur.cm**2 * ur.s)):\n",
    "    flux_mag = flux_ab + magoff + distmod\n",
    "else:\n",
    "    flux_mag = flux_ab\n",
    "\n",
    "# Convert back to flux\n",
    "flux_conv = flux_mag.to(FLAM, equivalencies=ur.spectral_density(wav))\n",
    "dw = 1*ur.AA\n",
    "ph_energy = (cr.h.cgs * cr.c.cgs / wav.cgs) / ur.ph\n",
    "\n",
    "# Convert to photon flux.\n",
    "ph_flux = flux_conv * dw / ph_energy\n",
    "\n",
    "# # Apply filters, QE, etc.\n",
    "# band1_fluence = duet.apply_filters(wav, ph_flux, diag=diag, **kwargs).sum()\n",
    "# band2_fluence = duet.apply_filters(wav, ph_flux, band = 2, diag=diag, **kwargs).sum()\n"
   ]
  },
  {
   "cell_type": "code",
   "execution_count": 7,
   "metadata": {},
   "outputs": [],
   "source": [
    "import matplotlib.pyplot as plt"
   ]
  },
  {
   "cell_type": "code",
   "execution_count": 8,
   "metadata": {},
   "outputs": [
    {
     "name": "stdout",
     "output_type": "stream",
     "text": [
      "3.894961468778157e-06 ph / (cm2 s)\n",
      "3.945512077422105e-06 ph / (cm2 s)\n"
     ]
    },
    {
     "data": {
      "image/png": "[encoded data removed]",
      "text/plain": [
       "<Figure size 432x288 with 1 Axes>"
      ]
     },
     "metadata": {
      "needs_background": "light"
     },
     "output_type": "display_data"
    }
   ],
   "source": [
    "ax = plt.figure().subplots()\n",
    "ax.scatter(wav, ph_flux)\n",
    "ax.set_xlim(1200, 2800)\n",
    "\n",
    "mean_fuv = ph_flux[(wav>1200*ur.AA)&(wav<1800*ur.AA)].mean()\n",
    "mean_nuv = ph_flux[(wav>1800*ur.AA)&(wav<2800*ur.AA)].mean()\n",
    "\n",
    "\n",
    "print(mean_fuv)\n",
    "print(mean_nuv)\n"
   ]
  },
  {
   "cell_type": "code",
   "execution_count": 9,
   "metadata": {},
   "outputs": [
    {
     "name": "stdout",
     "output_type": "stream",
     "text": [
      "0.00039455120774221046 ph / (cm2 s)\n",
      "0.00023369768812668941 ph / (cm2 s)\n"
     ]
    }
   ],
   "source": [
    "# About 3e-6 per A. So for 60 A effective width\n",
    "dw_nuv = 100.\n",
    "est_nuv = mean_nuv *dw_nuv\n",
    "\n",
    "dw_fuv = 60.\n",
    "est_fuv = dw_fuv * mean_fuv\n",
    "print(est_nuv) # DUET about 4.1e-4, so close enough\n",
    "print(est_fuv)"
   ]
  },
  {
   "cell_type": "code",
   "execution_count": 10,
   "metadata": {},
   "outputs": [],
   "source": [
    "epd = 50 * ur.cm\n",
    "area = np.pi*(epd*0.5)**2\n",
    "\n",
    "exposure = 600*ur.s\n",
    "\n",
    "refl_eff = 0.9\n",
    "mirrors = 3.0\n",
    "dichroic = 0.7\n",
    "qe_fuv = 0.4\n",
    "qe_nuv = 0.6\n"
   ]
  },
  {
   "cell_type": "code",
   "execution_count": 11,
   "metadata": {},
   "outputs": [
    {
     "name": "stdout",
     "output_type": "stream",
     "text": [
      "4.770237210041985e-05 ph / (cm2 s)\n",
      "0.09366338859342857 ph / s\n",
      "56.19803315605714 ph\n"
     ]
    }
   ],
   "source": [
    "# FUV estimate\n",
    "\n",
    "fuv_fluence = est_fuv * (refl_eff**mirrors) * dichroic * qe_fuv\n",
    "fuv_rate = fuv_fluence * area\n",
    "fuv_cts = fuv_rate * exposure\n",
    "\n",
    "\n",
    "print(fuv_fluence)\n",
    "print(fuv_rate)\n",
    "print(fuv_cts)\n"
   ]
  },
  {
   "cell_type": "code",
   "execution_count": 14,
   "metadata": {},
   "outputs": [
    {
     "name": "stdout",
     "output_type": "stream",
     "text": [
      "0.00010872331990785897 ph / (cm2 s)\n",
      "0.21347773943526416 ph / s\n",
      "128.0866436611585 ph\n"
     ]
    }
   ],
   "source": [
    "# NUV estimate\n",
    "mirrors = 4\n",
    "nuv_fluence = est_nuv * (refl_eff**mirrors) * dichroic * qe_nuv\n",
    "nuv_rate = nuv_fluence * area\n",
    "nuv_cts = nuv_rate * exposure\n",
    "\n",
    "\n",
    "print(nuv_fluence)\n",
    "print(nuv_rate)\n",
    "print(nuv_cts)"
   ]
  },
  {
   "cell_type": "code",
   "execution_count": 23,
   "metadata": {},
   "outputs": [],
   "source": [
    "from astroduet.duet_sensitivity import src_rate"
   ]
  },
  {
   "cell_type": "code",
   "execution_count": 40,
   "metadata": {},
   "outputs": [
    {
     "name": "stdout",
     "output_type": "stream",
     "text": [
      "\n",
      "Source Computation Integrating over PSF\n",
      "Telescope Diameter: 50.0 cm\n",
      "Fλ 7.667224588696511e-17 erg / (Angstrom cm2 s)\n",
      "ReceivedPower: 56.377904744034566 eV / s\n",
      "Photons per second:  6.820777017130489 1 / s\n",
      "Photons per second per cm2:  0.0034737932096125137 1 / (cm2 s)\n",
      "Fλ ABmag 22.0 mag(AB)\n",
      "Eff λ 150.0 nm\n",
      "Bandpass: 60.0 nm\n",
      "Collecting Area: 1963.4954084936207 cm2\n",
      "\n",
      "6.820777017130489 1 / s\n"
     ]
    }
   ],
   "source": []
  },
  {
   "cell_type": "code",
   "execution_count": 55,
   "metadata": {},
   "outputs": [
    {
     "name": "stdout",
     "output_type": "stream",
     "text": [
      "0.03525524974813344 1 / s\n",
      "10.576574924440031\n",
      "0.05748138545891323 1 / s\n",
      "17.24441563767397\n"
     ]
    }
   ],
   "source": [
    "refl_eff = 0.8\n",
    "mirrors = 3.0\n",
    "dichroic = 0.4\n",
    "qe_fuv = 0.4\n",
    "qe_nuv = 0.6\n",
    "exp = 300*ur.s\n",
    "\n",
    "\n",
    "rate, rate_e = src_rate(diameter=50*ur.cm, band= [120, 180]*ur.nm, ABmag=25*ur.ABmag)\n",
    "eff_rate = rate * qe_fuv * (refl_eff**mirrors)*dichroic\n",
    "print(eff_rate)\n",
    "print(eff_rate * exp)\n",
    "\n",
    "\n",
    "rate, rate_e = src_rate(diameter=50*ur.cm, band= [180, 280]*ur.nm, ABmag=25*ur.ABmag)\n",
    "eff_rate = rate * qe_nuv * (refl_eff**mirrors)*dichroic\n",
    "print(eff_rate)\n",
    "print(eff_rate * exp)\n",
    "\n",
    "\n",
    "\n"
   ]
  },
  {
   "cell_type": "code",
   "execution_count": null,
   "metadata": {},
   "outputs": [],
   "source": [
    "#"
   ]
  }
 ],
 "metadata": {
  "kernelspec": {
   "display_name": "Python 3",
   "language": "python",
   "name": "python3"
  },
  "language_info": {
   "codemirror_mode": {
    "name": "ipython",
    "version": 3
   },
   "file_extension": ".py",
   "mimetype": "text/x-python",
   "name": "python",
   "nbconvert_exporter": "python",
   "pygments_lexer": "ipython3",
   "version": "3.7.4"
  }
 },
 "nbformat": 4,
 "nbformat_minor": 4
}
