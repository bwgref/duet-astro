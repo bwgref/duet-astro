{
 "cells": [
  {
   "cell_type": "code",
   "execution_count": 6,
   "metadata": {},
   "outputs": [
    {
     "name": "stdout",
     "output_type": "stream",
     "text": [
      "The autoreload extension is already loaded. To reload it, use:\n",
      "  %reload_ext autoreload\n"
     ]
    }
   ],
   "source": [
    "import astropy.units as u\n",
    "from astroduet.duet_telescope import load_telescope_parameters\n",
    "from astroduet.duet_sensitivity import src_rate, bgd_sky_qe_rate, bgd_electronics, calc_exposure\n",
    "from astroduet.bbmag import bb_abmag_fluence\n",
    "import numpy as np\n",
    "from matplotlib import pyplot as plt\n",
    "from astroduet.bbmag import bb_abmag_fluence, bb_abmag\n",
    "\n",
    "import astroduet.config as config\n",
    "from astroduet.background import background_pixel_rate\n",
    "\n",
    "\n",
    "%load_ext autoreload\n",
    "%autoreload 2\n",
    "\n",
    "\n",
    "\n",
    "\n",
    "from astropy.visualization import quantity_support\n",
    "import matplotlib\n",
    "font = {'family' : 'normal',\n",
    "        'weight' : 'bold',\n",
    "        'size'   : 22}\n",
    "\n",
    "matplotlib.rc('font', **font)"
   ]
  },
  {
   "cell_type": "code",
   "execution_count": 7,
   "metadata": {},
   "outputs": [
    {
     "name": "stdout",
     "output_type": "stream",
     "text": [
      "For 15e3 K source\n"
     ]
    },
    {
     "name": "stderr",
     "output_type": "stream",
     "text": [
      "WARNING: AstropyDeprecationWarning: BlackBody provides the same capabilities [astroduet.bbmag]\n",
      "WARNING: AstropyDeprecationWarning: BlackBody provides the same capabilities [astropy.modeling.blackbody]\n",
      "WARNING: AstropyDeprecationWarning: BlackBody provides the same capabilities [astroduet.bbmag]\n"
     ]
    },
    {
     "name": "stdout",
     "output_type": "stream",
     "text": [
      "Band 1 Photometric Zero Point (Swift UVW2): 21.40000000000005 mag(AB)\n",
      "Band 1 Photometric Zero Point: 21.430542455797394 mag(AB)\n",
      "\n",
      "Band 2 Photometric Zero Point (Swift UVW2): 21.700000000000053 mag(AB)\n",
      "Band 2 Photometric Zero Point: 21.29198070324437 mag(AB)\n",
      "\n"
     ]
    }
   ],
   "source": [
    "# Band one\n",
    "duet = config.Telescope(config='midex')\n",
    "bandone = duet.bandpass1\n",
    "bandtwo = duet.bandpass2\n",
    "print('For 15e3 K source')\n",
    "swiftmag = 18 * u.ABmag\n",
    "dmag = 0.1 * u.mag\n",
    "band1_caught = False\n",
    "band2_caught = False\n",
    "while not (band1_caught & band2_caught):\n",
    "    swiftmag += dmag\n",
    "    band1_fluence, band2_fluence = bb_abmag_fluence(duet = duet, swiftmag=swiftmag, bbtemp=15e3*u.K)\n",
    "    \n",
    "    band1_rate = duet.fluence_to_rate(band1_fluence)\n",
    "    band2_rate = duet.fluence_to_rate(band2_fluence)\n",
    "\n",
    "    if band1_caught is False:\n",
    "        if (band1_rate.value < 1.0):            \n",
    "            bbmag1, foo = bb_abmag(swiftmag=swiftmag, bbtemp=15e3*u.K, bandone = bandone)\n",
    "            print('Band 1 Photometric Zero Point (Swift UVW2): {}'.format(swiftmag))\n",
    "            print('Band 1 Photometric Zero Point: {}'.format(bbmag1))\n",
    "            print()\n",
    "            band1_caught = True\n",
    "        \n",
    "    if band2_caught is False:\n",
    "        if (band2_rate.value < 1.0):            \n",
    "            foo, bbmag2 = bb_abmag(swiftmag=swiftmag, bbtemp=15e3*u.K, bandtwo = bandtwo)\n",
    "            print('Band 2 Photometric Zero Point (Swift UVW2): {}'.format(swiftmag))\n",
    "            print('Band 2 Photometric Zero Point: {}'.format(bbmag2))\n",
    "            print()\n",
    "            band2_caught = True"
   ]
  },
  {
   "cell_type": "code",
   "execution_count": 5,
   "metadata": {},
   "outputs": [
    {
     "name": "stdout",
     "output_type": "stream",
     "text": [
      "4\n",
      "\n",
      "\n",
      "B\n"
     ]
    },
    {
     "name": "stderr",
     "output_type": "stream",
     "text": [
      "WARNING: AstropyDeprecationWarning: BlackBody provides the same capabilities [astroduet.bbmag]\n",
      "WARNING: AstropyDeprecationWarning: BlackBody provides the same capabilities [astropy.modeling.blackbody]\n",
      "WARNING: AstropyDeprecationWarning: BlackBody provides the same capabilities [astroduet.bbmag]\n"
     ]
    },
    {
     "name": "stdout",
     "output_type": "stream",
     "text": [
      "DUET1 Band 300.0 s 5-σ magnitude limit:    22.33 mag(AB)\n",
      "DUET1 Band 600.0 s 5-σ magnitude limit:    22.78 mag(AB)\n",
      "DUET1 Band 900.0 s 5-σ magnitude limit:    23.03 mag(AB)\n",
      "DUET1 Band 1200.0 s 5-σ magnitude limit:    23.18 mag(AB)\n",
      "DUET1 Band 1500.0 s 5-σ magnitude limit:    23.33 mag(AB)\n",
      "DUET1 Band 1800.0 s 5-σ magnitude limit:    23.43 mag(AB)\n",
      "DUET1 Band 2100.0 s 5-σ magnitude limit:    23.53 mag(AB)\n"
     ]
    }
   ],
   "source": [
    "# Stacked channels\n",
    "# 5-sigma limiting magnitude in 1, 2, 3, and 4 stacked frames.\n",
    "\n",
    "# Account for the fact that you're co-adding the two frames here:\n",
    "duet = config.Telescope(config='midex')\n",
    "\n",
    "print(duet.read_noise)\n",
    "\n",
    "bandone = duet.bandpass1\n",
    "bandtwo = duet.bandpass2\n",
    "exposure = 300*u.s\n",
    "print()\n",
    "siglimit=5\n",
    "dmag = 0.05\n",
    "print()\n",
    "for filter_type in ['B']:\n",
    "    print(filter_type)\n",
    "    [bgd_band1, bgd_band2] = background_pixel_rate(duet, low_zodi=True, filter_type=filter_type)\n",
    "    tot_bgd_rate = bgd_band1 #+ bgd_band2\n",
    "\n",
    "    for nframes in [1, 2, 3, 4, 5, 6, 7]:\n",
    "        snr = 100\n",
    "        swiftmag = 20 \n",
    "        while snr > siglimit:\n",
    "            swiftmag += dmag\n",
    "            band1_fluence, band2_fluence = bb_abmag_fluence(duet =duet, swiftmag=swiftmag*u.ABmag, bbtemp=15e3*u.K, filter_type=filter_type)\n",
    "            band1_rate = duet.fluence_to_rate(band1_fluence)\n",
    "#            band2_rate = duet.fluence_to_rate(band2_fluence)\n",
    "            src_rate = band1_rate #+ band2_rate\n",
    "\n",
    "            snr = duet.calc_snr(exposure, src_rate, tot_bgd_rate, nint=nframes)\n",
    "        bbmag1, bbmag2 = bb_abmag(swiftmag=swiftmag*u.ABmag, bbtemp=15e3*u.K, bandone = bandone, bandtwo=bandtwo)        \n",
    "        print(f'DUET1 Band {nframes*exposure} {siglimit}-σ magnitude limit: {bbmag1:8.2f}')"
   ]
  },
  {
   "cell_type": "code",
   "execution_count": 6,
   "metadata": {},
   "outputs": [
    {
     "name": "stdout",
     "output_type": "stream",
     "text": [
      "4\n",
      "0.0\n",
      "\n",
      "\n",
      "B\n"
     ]
    },
    {
     "name": "stderr",
     "output_type": "stream",
     "text": [
      "WARNING: AstropyDeprecationWarning: BlackBody provides the same capabilities [astroduet.bbmag]\n",
      "WARNING: AstropyDeprecationWarning: BlackBody provides the same capabilities [astropy.modeling.blackbody]\n",
      "WARNING: AstropyDeprecationWarning: BlackBody provides the same capabilities [astroduet.bbmag]\n"
     ]
    },
    {
     "name": "stdout",
     "output_type": "stream",
     "text": [
      "DUET1 Band 300.0 s 5-σ magnitude limit:    23.48 mag(AB)\n",
      "DUET1 Band 600.0 s 5-σ magnitude limit:    24.18 mag(AB)\n",
      "DUET1 Band 900.0 s 5-σ magnitude limit:    24.58 mag(AB)\n",
      "DUET1 Band 1200.0 s 5-σ magnitude limit:    24.83 mag(AB)\n",
      "DUET1 Band 1500.0 s 5-σ magnitude limit:    25.03 mag(AB)\n",
      "DUET1 Band 1800.0 s 5-σ magnitude limit:    25.18 mag(AB)\n",
      "DUET1 Band 2100.0 s 5-σ magnitude limit:    25.33 mag(AB)\n"
     ]
    }
   ],
   "source": [
    "# Stacked channels\n",
    "# 5-sigma limiting magnitude in 1, 2, 3, and 4 stacked frames.\n",
    "\n",
    "# Account for the fact that you're co-adding the two frames here:\n",
    "duet = config.Telescope(config='midex')\n",
    "print(duet.read_noise)\n",
    "duet.read_noise = (2**0.5) * duet.read_noise\n",
    "duet.read_noise = 0.\n",
    "\n",
    "print(duet.read_noise)\n",
    "\n",
    "bandone = duet.bandpass1\n",
    "bandtwo = duet.bandpass2\n",
    "exposure = 300*u.s\n",
    "print()\n",
    "siglimit=5\n",
    "dmag = 0.05\n",
    "print()\n",
    "for filter_type in ['B']:\n",
    "    print(filter_type)\n",
    "    [bgd_band1, bgd_band2] = background_pixel_rate(duet, low_zodi=True, filter_type=filter_type)\n",
    "    tot_bgd_rate = bgd_band1 #+ bgd_band2\n",
    "\n",
    "    for nframes in [1, 2, 3, 4, 5, 6, 7]:\n",
    "        snr = 100\n",
    "        swiftmag = 20 \n",
    "        while snr > siglimit:\n",
    "            swiftmag += dmag\n",
    "            band1_fluence, band2_fluence = bb_abmag_fluence(duet =duet, swiftmag=swiftmag*u.ABmag, bbtemp=15e3*u.K, filter_type=filter_type)\n",
    "            band1_rate = duet.fluence_to_rate(band1_fluence)\n",
    "#            band2_rate = duet.fluence_to_rate(band2_fluence)\n",
    "            src_rate = band1_rate #+ band2_rate\n",
    "\n",
    "            snr = duet.calc_snr(exposure, src_rate, tot_bgd_rate, nint=nframes)\n",
    "        bbmag1, bbmag2 = bb_abmag(swiftmag=swiftmag*u.ABmag, bbtemp=15e3*u.K, bandone = bandone, bandtwo=bandtwo)        \n",
    "        print(f'DUET1 Band {nframes*exposure} {siglimit}-σ magnitude limit: {bbmag1:8.2f}')"
   ]
  },
  {
   "cell_type": "code",
   "execution_count": 4,
   "metadata": {},
   "outputs": [
    {
     "name": "stdout",
     "output_type": "stream",
     "text": [
      "\n",
      "\n",
      "B\n"
     ]
    },
    {
     "name": "stderr",
     "output_type": "stream",
     "text": [
      "WARNING: AstropyDeprecationWarning: BlackBody provides the same capabilities [astroduet.bbmag]\n",
      "WARNING: AstropyDeprecationWarning: BlackBody provides the same capabilities [astropy.modeling.blackbody]\n",
      "WARNING: AstropyDeprecationWarning: BlackBody provides the same capabilities [astroduet.bbmag]\n"
     ]
    },
    {
     "name": "stdout",
     "output_type": "stream",
     "text": [
      "DUET1 Band 300.0 s 5-σ magnitude limit: 23.330542455797392 mag(AB)\n",
      "DUET1 Band 600.0 s 5-σ magnitude limit: 23.830542455797406 mag(AB)\n",
      "DUET1 Band 900.0 s 5-σ magnitude limit: 24.130542455797404 mag(AB)\n",
      "DUET1 Band 1200.0 s 5-σ magnitude limit: 24.28054245579741 mag(AB)\n",
      "DUET1 Band 1500.0 s 5-σ magnitude limit: 24.430542455797415 mag(AB)\n",
      "DUET1 Band 1800.0 s 5-σ magnitude limit: 24.580542455797413 mag(AB)\n",
      "DUET1 Band 2100.0 s 5-σ magnitude limit: 24.680542455797415 mag(AB)\n"
     ]
    }
   ],
   "source": [
    "# Stacked channels\n",
    "# 5-sigma limiting magnitude in 1, 2, 3, and 4 stacked frames.\n",
    "\n",
    "# Account for the fact that you're co-adding the two frames here:\n",
    "duet = config.Telescope(config='midex')\n",
    "duet.read_noise = 2.\n",
    "\n",
    "\n",
    "bandone = duet.bandpass1\n",
    "bandtwo = duet.bandpass2\n",
    "exposure = 300*u.s\n",
    "print()\n",
    "siglimit=5\n",
    "dmag = 0.05\n",
    "print()\n",
    "for filter_type in ['B']:\n",
    "    print(filter_type)\n",
    "    [bgd_band1, bgd_band2] = background_pixel_rate(duet, low_zodi=True, filter_type=filter_type)\n",
    "    tot_bgd_rate = bgd_band1 #+ bgd_band2\n",
    "\n",
    "    for nframes in [1, 2, 3, 4, 5, 6, 7]:\n",
    "        snr = 100\n",
    "        swiftmag = 20 \n",
    "        while snr > siglimit:\n",
    "            swiftmag += dmag\n",
    "            band1_fluence, band2_fluence = bb_abmag_fluence(duet =duet, swiftmag=swiftmag*u.ABmag, bbtemp=15e3*u.K, filter_type=filter_type)\n",
    "            band1_rate = duet.fluence_to_rate(band1_fluence)\n",
    "#            band2_rate = duet.fluence_to_rate(band2_fluence)\n",
    "            src_rate = band1_rate #+ band2_rate\n",
    "\n",
    "            snr = duet.calc_snr(exposure, src_rate, tot_bgd_rate, nint=nframes)\n",
    "        bbmag1, bbmag2 = bb_abmag(swiftmag=swiftmag*u.ABmag, bbtemp=15e3*u.K, bandone = bandone, bandtwo=bandtwo)        \n",
    "        print('DUET1 Band {} {}-σ magnitude limit: {}'.format(nframes*exposure, siglimit, bbmag1))"
   ]
  },
  {
   "cell_type": "code",
   "execution_count": 8,
   "metadata": {},
   "outputs": [
    {
     "name": "stdout",
     "output_type": "stream",
     "text": [
      "-----\n",
      "        DUET Telescope State: midex\n",
      "        Physical Entrance Pupil: 50.0 cm\n",
      "        Effective EPD: 40.0 cm\n",
      "        Effective Area: 1256.6370614359173 cm2\n",
      "        \n",
      "        Pixel size: 1.0 arcsec\n",
      "        Pointing RMS: 2.5 arcsec\n",
      "        Effective PSF FWHM: 2.0 arcsec\n",
      "        N_eff: 10.16620230134607\n",
      "\n",
      "        Band 1: {'eff_wave': <Quantity 198.63858525 nm>, 'eff_width': <Quantity 31.00790249 nm>}\n",
      "        Bandpass 1: [183.13463401 214.1425365 ] nm\n",
      "        Band 2: {'eff_wave': <Quantity 280.34471808 nm>, 'eff_width': <Quantity 41.64586798 nm>}\n",
      "        Bandpass 2: [259.5217841  301.16765207] nm\n",
      "\n",
      "        Dark current: 0.0014 ph / s\n",
      "        Read noise (RMS per read): 4\n",
      "        -----\n",
      "        \n"
     ]
    }
   ],
   "source": [
    "duet = config.Telescope(config='midex')\n",
    "info = duet.info()"
   ]
  },
  {
   "cell_type": "code",
   "execution_count": 9,
   "metadata": {},
   "outputs": [
    {
     "name": "stdout",
     "output_type": "stream",
     "text": [
      "FoV    11.65 deg2\n"
     ]
    }
   ],
   "source": [
    "# Midex size:\n",
    "side = ((1024) * 12 * duet.pixel).to(u.deg).value\n",
    "fov = side**2\n",
    "print(f'FoV {fov:8.2f} deg2')"
   ]
  },
  {
   "cell_type": "code",
   "execution_count": 10,
   "metadata": {},
   "outputs": [
    {
     "name": "stdout",
     "output_type": "stream",
     "text": [
      "Sky Area: 41252.96\n",
      "Number of tiles (50% buffer):  3540.77\n",
      "Number of tiles (50% buffer):  5311.16\n",
      "Days to complete:    22.13 d\n"
     ]
    }
   ],
   "source": [
    "sky_survey = ( 4 * np.pi * (180/np.pi)**2)\n",
    "print(f'Sky Area: {sky_survey:8.2f}')\n",
    "tiles = 1.*(sky_survey / fov)\n",
    "print(f'Number of tiles (50% buffer): {tiles:8.2f}')\n",
    "\n",
    "\n",
    "tiles = 1.5*(sky_survey / fov)\n",
    "print(f'Number of tiles (50% buffer): {tiles:8.2f}')\n",
    "\n",
    "duration = 1.2*(tiles * 300 * u.s).to(u.d)\n",
    "print(f'Days to complete: {duration:8.2f}')\n",
    "\n"
   ]
  },
  {
   "cell_type": "code",
   "execution_count": 18,
   "metadata": {},
   "outputs": [
    {
     "name": "stdout",
     "output_type": "stream",
     "text": [
      "700.0\n",
      "0.2946642857142857\n"
     ]
    }
   ],
   "source": [
    "n = 1.4\n",
    "d = 500 # mm\n",
    "f = d * n\n",
    "\n",
    "print(f) # 650 mm\n",
    "p = 206265 / f\n",
    "print(p * 1e-3)\n",
    "\n",
    "\n"
   ]
  },
  {
   "cell_type": "code",
   "execution_count": 23,
   "metadata": {},
   "outputs": [
    {
     "name": "stdout",
     "output_type": "stream",
     "text": [
      "206265.0\n",
      "412.53\n"
     ]
    }
   ],
   "source": [
    "p = 1 # 1 arcsec per pixel\n",
    "d = 500 # mm\n",
    "f = 206265 / p # mm\n",
    "print(f)\n",
    "n = f / d\n",
    "print(n)\n",
    "\n"
   ]
  },
  {
   "cell_type": "code",
   "execution_count": null,
   "metadata": {},
   "outputs": [],
   "source": []
  }
 ],
 "metadata": {
  "anaconda-cloud": {},
  "kernelspec": {
   "display_name": "Python 3",
   "language": "python",
   "name": "python3"
  },
  "language_info": {
   "codemirror_mode": {
    "name": "ipython",
    "version": 3
   },
   "file_extension": ".py",
   "mimetype": "text/x-python",
   "name": "python",
   "nbconvert_exporter": "python",
   "pygments_lexer": "ipython3",
   "version": "3.7.8"
  }
 },
 "nbformat": 4,
 "nbformat_minor": 4
}
