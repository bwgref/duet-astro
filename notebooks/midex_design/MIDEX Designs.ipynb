{
 "cells": [
  {
   "cell_type": "code",
   "execution_count": 15,
   "metadata": {},
   "outputs": [],
   "source": [
    "from astropy import units as u\n",
    "from astropy.units import imperial as imp"
   ]
  },
  {
   "cell_type": "code",
   "execution_count": 5,
   "metadata": {},
   "outputs": [],
   "source": [
    "def uvex_report(d=50*u.cm, n=4, pixel_um = 10*u.um, npix = 12*(1024)):\n",
    "    '''\n",
    "    \n",
    "    Report on telescope specs\n",
    "    \n",
    "    Parameters\n",
    "    ----------\n",
    "    d:         diameter - astropy units (default is 50*u.cm)\n",
    "   \n",
    "    n:         f/# - float\n",
    "    \n",
    "    pixel_um:  pixel size - astropy units (default is 10*u.um)\n",
    "    \n",
    "    npix:      Number of pixels on a side. Default is 12k (12*1024)\n",
    "    \n",
    "    \n",
    "    '''\n",
    "    \n",
    "    print('------')\n",
    "    print('Inputs')\n",
    "    print(f'EPD: {d:8.2f}')\n",
    "    print(f'f/# {n:8.2f}')\n",
    "    print(f'Pixel size {pixel_um:8.2f}')\n",
    "    print(f'Numer of pixels (1-side, in 1024): {npix/1024:8.2f}')\n",
    "    print('-----')\n",
    "    print('Results')\n",
    "    focal_length = d*n\n",
    "    print(f'Focal length: {focal_length.to(u.m)} ') # 2.0 m\n",
    "    \n",
    "    p = 206265* u.arcsec / focal_length.to(u.mm) # arcsec / mm\n",
    "    print(f'Plate scale (arcsec per mm): {p:8.2f}')\n",
    "    pixel = pixel_um.to(u.mm) * p\n",
    "    print(f'Pixel size {pixel:8.2f}')\n",
    "    \n",
    "    pixel_area = (pixel.to(u.deg))**2\n",
    "    \n",
    "    print(f'FoV {npix * npix * pixel_area:8.2f}')\n",
    "    print('-----')\n",
    "    return\n",
    "\n"
   ]
  },
  {
   "cell_type": "code",
   "execution_count": 24,
   "metadata": {},
   "outputs": [
    {
     "name": "stdout",
     "output_type": "stream",
     "text": [
      "------\n",
      "Inputs\n",
      "EPD:    50.00 cm\n",
      "f/#     4.00\n",
      "Pixel size    10.00 um\n",
      "Numer of pixels (1-side, in 1024):    12.00\n",
      "-----\n",
      "Results\n",
      "Focal length: 2.0 m \n",
      "Plate scale (arcsec per mm):   103.13 arcsec / mm\n",
      "Pixel size     1.03 arcsec\n",
      "FoV    12.39 deg2\n",
      "-----\n",
      "\n",
      "------\n",
      "Inputs\n",
      "EPD:    50.00 cm\n",
      "f/#     3.00\n",
      "Pixel size    10.00 um\n",
      "Numer of pixels (1-side, in 1024):    12.00\n",
      "-----\n",
      "Results\n",
      "Focal length: 1.5 m \n",
      "Plate scale (arcsec per mm):   137.51 arcsec / mm\n",
      "Pixel size     1.38 arcsec\n",
      "FoV    22.03 deg2\n",
      "-----\n",
      "\n",
      "------\n",
      "Inputs\n",
      "EPD:    50.00 cm\n",
      "f/#     2.50\n",
      "Pixel size    10.00 um\n",
      "Numer of pixels (1-side, in 1024):    12.00\n",
      "-----\n",
      "Results\n",
      "Focal length: 1.25 m \n",
      "Plate scale (arcsec per mm):   165.01 arcsec / mm\n",
      "Pixel size     1.65 arcsec\n",
      "FoV    31.72 deg2\n",
      "-----\n",
      "\n"
     ]
    }
   ],
   "source": [
    "# 50 cm, f/4\n",
    "uvex_report()\n",
    "print()\n",
    "# 50 cm, f/3\n",
    "uvex_report(n=3)\n",
    "print()\n",
    "# 50 cm, f/3\n",
    "uvex_report(n=2.5)\n",
    "print()\n",
    "\n",
    "\n"
   ]
  },
  {
   "cell_type": "code",
   "execution_count": 25,
   "metadata": {},
   "outputs": [
    {
     "name": "stdout",
     "output_type": "stream",
     "text": [
      "------\n",
      "Inputs\n",
      "EPD:    80.00 cm\n",
      "f/#     4.00\n",
      "Pixel size    10.00 um\n",
      "Numer of pixels (1-side, in 1024):    12.00\n",
      "-----\n",
      "Results\n",
      "Focal length: 3.2 m \n",
      "Plate scale (arcsec per mm):    64.46 arcsec / mm\n",
      "Pixel size     0.64 arcsec\n",
      "FoV     4.84 deg2\n",
      "-----\n",
      "\n",
      "------\n",
      "Inputs\n",
      "EPD:    80.00 cm\n",
      "f/#     3.00\n",
      "Pixel size    10.00 um\n",
      "Numer of pixels (1-side, in 1024):    12.00\n",
      "-----\n",
      "Results\n",
      "Focal length: 2.4 m \n",
      "Plate scale (arcsec per mm):    85.94 arcsec / mm\n",
      "Pixel size     0.86 arcsec\n",
      "FoV     8.61 deg2\n",
      "-----\n",
      "------\n",
      "Inputs\n",
      "EPD:    80.00 cm\n",
      "f/#     2.00\n",
      "Pixel size    10.00 um\n",
      "Numer of pixels (1-side, in 1024):    12.00\n",
      "-----\n",
      "Results\n",
      "Focal length: 1.6 m \n",
      "Plate scale (arcsec per mm):   128.92 arcsec / mm\n",
      "Pixel size     1.29 arcsec\n",
      "FoV    19.36 deg2\n",
      "-----\n"
     ]
    }
   ],
   "source": [
    "# 80 cm, f/4\n",
    "uvex_report(d=80*u.cm)\n",
    "print()\n",
    "# 80 cm, f/3\n",
    "uvex_report(d=80*u.cm, n = 3)\n",
    "# 80 cm, f/3\n",
    "uvex_report(d=80*u.cm, n = 2)\n",
    "\n",
    "\n"
   ]
  },
  {
   "cell_type": "code",
   "execution_count": 4,
   "metadata": {},
   "outputs": [
    {
     "name": "stdout",
     "output_type": "stream",
     "text": [
      "------\n",
      "Inputs\n",
      "EPD:    50.00 cm\n",
      "f/#     4.00\n",
      "Pixel size    10.00 um\n",
      "Numer of pixels (1-side, in 1024):     8.00\n",
      "-----\n",
      "Results\n",
      "Focal length: 2.0 m \n",
      "Plate scale (arcsec per mm):   103.13 arcsec / mm\n",
      "Pixel size     1.03 arcsec\n",
      "FoV     5.51 deg2\n",
      "-----\n",
      "\n",
      "------\n",
      "Inputs\n",
      "EPD:    50.00 cm\n",
      "f/#     3.00\n",
      "Pixel size    10.00 um\n",
      "Numer of pixels (1-side, in 1024):     8.00\n",
      "-----\n",
      "Results\n",
      "Focal length: 1.5 m \n",
      "Plate scale (arcsec per mm):   137.51 arcsec / mm\n",
      "Pixel size     1.38 arcsec\n",
      "FoV     9.79 deg2\n",
      "-----\n",
      "\n",
      "------\n",
      "Inputs\n",
      "EPD:    80.00 cm\n",
      "f/#     4.00\n",
      "Pixel size    10.00 um\n",
      "Numer of pixels (1-side, in 1024):     8.00\n",
      "-----\n",
      "Results\n",
      "Focal length: 3.2 m \n",
      "Plate scale (arcsec per mm):    64.46 arcsec / mm\n",
      "Pixel size     0.64 arcsec\n",
      "FoV     2.15 deg2\n",
      "-----\n",
      "\n",
      "------\n",
      "Inputs\n",
      "EPD:    80.00 cm\n",
      "f/#     3.00\n",
      "Pixel size    10.00 um\n",
      "Numer of pixels (1-side, in 1024):     8.00\n",
      "-----\n",
      "Results\n",
      "Focal length: 2.4 m \n",
      "Plate scale (arcsec per mm):    85.94 arcsec / mm\n",
      "Pixel size     0.86 arcsec\n",
      "FoV     3.82 deg2\n",
      "-----\n"
     ]
    }
   ],
   "source": [
    "npix = 8 * (1024)\n",
    "# 50 cm, f/4\n",
    "uvex_report(npix=npix)\n",
    "print()\n",
    "# 50 cm, f/3\n",
    "uvex_report(n=3, npix=npix)\n",
    "print()\n",
    "# 80 cm, f/4\n",
    "uvex_report(d=80*u.cm, npix=npix)\n",
    "print()\n",
    "# 80 cm, f/3\n",
    "uvex_report(d=80*u.cm, n = 3, npix=npix)\n",
    "\n"
   ]
  },
  {
   "cell_type": "code",
   "execution_count": 61,
   "metadata": {},
   "outputs": [
    {
     "name": "stdout",
     "output_type": "stream",
     "text": [
      "------\n",
      "Inputs\n",
      "EPD:    50.00 cm\n",
      "f/#     4.00\n",
      "Pixel size    16.00 um\n",
      "Numer of pixels (1-side, in 1024):    12.00\n",
      "-----\n",
      "Results\n",
      "Focal length: 2.0 m \n",
      "Plate scale (arcsec per mm):   103.13 arcsec / mm\n",
      "Pixel size     1.65 arcsec\n",
      "FoV    31.72 deg2\n",
      "-----\n",
      "\n",
      "------\n",
      "Inputs\n",
      "EPD:    50.00 cm\n",
      "f/#     3.00\n",
      "Pixel size    16.00 um\n",
      "Numer of pixels (1-side, in 1024):    12.00\n",
      "-----\n",
      "Results\n",
      "Focal length: 1.5 m \n",
      "Plate scale (arcsec per mm):   137.51 arcsec / mm\n",
      "Pixel size     2.20 arcsec\n",
      "FoV    56.40 deg2\n",
      "-----\n",
      "\n",
      "------\n",
      "Inputs\n",
      "EPD:    80.00 cm\n",
      "f/#     4.00\n",
      "Pixel size    16.00 um\n",
      "Numer of pixels (1-side, in 1024):    12.00\n",
      "-----\n",
      "Results\n",
      "Focal length: 3.2 m \n",
      "Plate scale (arcsec per mm):    64.46 arcsec / mm\n",
      "Pixel size     1.03 arcsec\n",
      "FoV    12.39 deg2\n",
      "-----\n",
      "\n",
      "------\n",
      "Inputs\n",
      "EPD:    80.00 cm\n",
      "f/#     3.00\n",
      "Pixel size    16.00 um\n",
      "Numer of pixels (1-side, in 1024):    12.00\n",
      "-----\n",
      "Results\n",
      "Focal length: 2.4 m \n",
      "Plate scale (arcsec per mm):    85.94 arcsec / mm\n",
      "Pixel size     1.38 arcsec\n",
      "FoV    22.03 deg2\n",
      "-----\n"
     ]
    }
   ],
   "source": [
    "# 50 cm, f/4\n",
    "uvex_report(pixel_um=16*u.um)\n",
    "print()\n",
    "# 50 cm, f/3\n",
    "uvex_report(n=3,pixel_um=16*u.um)\n",
    "print()\n",
    "# 80 cm, f/4\n",
    "uvex_report(d=80*u.cm,pixel_um=16*u.um)\n",
    "print()\n",
    "# 80 cm, f/3\n",
    "uvex_report(d=80*u.cm, n = 3,pixel_um=16*u.um)\n",
    "\n"
   ]
  },
  {
   "cell_type": "code",
   "execution_count": 6,
   "metadata": {},
   "outputs": [
    {
     "name": "stdout",
     "output_type": "stream",
     "text": [
      "41252.96124941928\n",
      "3353.8992885706725\n"
     ]
    }
   ],
   "source": [
    "from numpy import pi\n",
    "sky = 4 * pi * (180 / pi)**2\n",
    "print(sky)\n",
    "\n",
    "# Dumb math:\n",
    "\n",
    "fields = sky / 12.3\n",
    "print(fields)\n"
   ]
  },
  {
   "cell_type": "code",
   "execution_count": 3,
   "metadata": {},
   "outputs": [],
   "source": [
    "import astropy.units as u"
   ]
  },
  {
   "cell_type": "code",
   "execution_count": 11,
   "metadata": {},
   "outputs": [
    {
     "name": "stdout",
     "output_type": "stream",
     "text": [
      "757.3824 s\n"
     ]
    }
   ],
   "source": [
    "eff_fields = 5000\n",
    "duration = 2 * u.yr\n",
    "eff = 0.6 \n",
    "exposure = duration * eff\n",
    "# Even split between fields\n",
    "field_dur = exposure / eff_fields\n",
    "visits = 10\n",
    "# At least 10 visits per field\n",
    "visit_dur = field_dur / visits\n",
    "print(visit_dur.to(u.s))\n"
   ]
  },
  {
   "cell_type": "code",
   "execution_count": 17,
   "metadata": {},
   "outputs": [],
   "source": [
    "from astroduet.duet_sensitivity import src_rate, bgd_sky_rate"
   ]
  },
  {
   "cell_type": "code",
   "execution_count": 53,
   "metadata": {},
   "outputs": [
    {
     "name": "stdout",
     "output_type": "stream",
     "text": [
      "\n",
      "Source Computation Integrating over PSF\n",
      "Telescope Diameter: 50.0 cm\n",
      "Fλ 4.472717886480401e-18 erg / (Angstrom cm2 s)\n",
      "ReceivedPower: 2.4118132625196465 eV / s\n",
      "Photons per second:  0.30346033906552655 1 / s\n",
      "Photons per second per cm2:  0.00015455108158278765 1 / (cm2 s)\n",
      "Fλ ABmag 25.0 mag(AB)\n",
      "Eff λ 156.0 nm\n",
      "Bandpass: 44.0 nm\n",
      "Collecting Area: 1963.4954084936207 cm2\n",
      "\n"
     ]
    }
   ],
   "source": [
    "# Assume 0.9 efficiency per reflection:\n",
    "efficiency = (0.8)**3\n",
    "diameter = 50*u.cm\n",
    "duration = 300*u.s\n",
    "\n",
    "fuv = [134., 178.]*u.nm\n",
    "nuv = [180., 220.]*u.nm\n",
    "ph_rate, elec_rate = src_rate(ABmag=25*u.ABmag, band = fuv , efficiency=efficiency, diameter=diameter, diag=True)\n"
   ]
  },
  {
   "cell_type": "code",
   "execution_count": 54,
   "metadata": {},
   "outputs": [
    {
     "name": "stdout",
     "output_type": "stream",
     "text": [
      "46.61150808046489\n"
     ]
    }
   ],
   "source": [
    "print(ph_rate * duration * efficiency)\n"
   ]
  },
  {
   "cell_type": "code",
   "execution_count": 34,
   "metadata": {},
   "outputs": [],
   "source": [
    "from astroduet.duet_sensitivity import compute_snr"
   ]
  },
  {
   "cell_type": "code",
   "execution_count": 34,
   "metadata": {},
   "outputs": [
    {
     "name": "stdout",
     "output_type": "stream",
     "text": [
      "------\n",
      "Inputs\n",
      "EPD:    75.00 cm\n",
      "f/#     2.80\n",
      "Pixel size    10.00 um\n",
      "Numer of pixels (1-side, in 1024):    12.00\n",
      "-----\n",
      "Results\n",
      "Focal length: 2.1 m \n",
      "Plate scale (arcsec per mm):    98.22 arcsec / mm\n",
      "Pixel size     0.98 arcsec\n",
      "FoV    11.24 deg2\n",
      "-----\n"
     ]
    }
   ],
   "source": [
    "# 75 cm, f/3\n",
    "uvex_report(d=75*u.cm, n = 2.8)\n",
    "\n"
   ]
  },
  {
   "cell_type": "code",
   "execution_count": 20,
   "metadata": {},
   "outputs": [
    {
     "data": {
      "text/latex": [
       "$471.678 \\; \\mathrm{cm}$"
      ],
      "text/plain": [
       "<Quantity 471.678 cm>"
      ]
     },
     "execution_count": 20,
     "metadata": {},
     "output_type": "execute_result"
    }
   ],
   "source": [
    "faring_height = (111.8+73.9) *imp.inch\n",
    "\n",
    "faring_height.to(u.cm) # 4.7 m height\n",
    "\n"
   ]
  },
  {
   "cell_type": "code",
   "execution_count": null,
   "metadata": {},
   "outputs": [],
   "source": []
  }
 ],
 "metadata": {
  "kernelspec": {
   "display_name": "Python 3",
   "language": "python",
   "name": "python3"
  },
  "language_info": {
   "codemirror_mode": {
    "name": "ipython",
    "version": 3
   },
   "file_extension": ".py",
   "mimetype": "text/x-python",
   "name": "python",
   "nbconvert_exporter": "python",
   "pygments_lexer": "ipython3",
   "version": "3.7.4"
  }
 },
 "nbformat": 4,
 "nbformat_minor": 4
}
