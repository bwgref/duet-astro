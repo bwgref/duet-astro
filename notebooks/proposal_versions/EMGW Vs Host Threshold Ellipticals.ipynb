{
 "cells": [
  {
   "cell_type": "code",
   "execution_count": 1,
   "metadata": {},
   "outputs": [],
   "source": [
    "import astropy.units as u\n",
    "import numpy as np\n",
    "from matplotlib import pyplot as plt\n",
    "from astroduet.bbmag import bb_abmag_fluence, bb_abmag\n",
    "\n",
    "import astroduet.config as config\n",
    "from astroduet.background import background_pixel_rate\n",
    "from astroduet.utils import duet_abmag_to_fluence\n",
    "\n",
    "\n",
    "%load_ext autoreload\n",
    "%autoreload 2\n",
    "\n",
    "from astropy.visualization import quantity_support\n",
    "import matplotlib\n",
    "font = {'family' : 'normal',\n",
    "        'weight' : 'bold',\n",
    "        'size'   : 22}\n",
    "\n",
    "matplotlib.rc('font', **font)\n",
    "\n",
    "# Account for the fact that you're co-adding the two frames here:\n",
    "duet = config.Telescope(config='minimum_mass_requirement')\n",
    "\n"
   ]
  },
  {
   "cell_type": "code",
   "execution_count": 2,
   "metadata": {},
   "outputs": [
    {
     "name": "stdout",
     "output_type": "stream",
     "text": [
      "0.3913039939914652 ph / s\n",
      "0.44584359485418784 ph / s\n"
     ]
    }
   ],
   "source": [
    "# From Marianne:\n",
    "\n",
    "# Using the median surface brightnesses from Bai:\n",
    "\n",
    "# Elliptical, D1: 0.56 ph/s/pixel\n",
    "# Elliptical, D2: 0.64 ph/s/pixel\n",
    "# Spiral, D1: 2.09 ph/s/pixel\n",
    "# Spiral, D2: 1.68 ph/s/pixel\n",
    "\n",
    "pixel_area = duet.pixel * duet.pixel\n",
    "\n",
    "mean_elliptical_duet1 =  24.94535864867936 * u.ABmag \n",
    "mean_elliptical_duet2 = 24.730938046220277 * u.ABmag\n",
    "\n",
    "mean_spiral_duet1 = 23.684754905932877 * u.ABmag\n",
    "mean_spiral_duet2 = 23.827616937816682 * u.ABmag\n",
    "\n",
    "\n",
    "rate1 = pixel_area.value * duet.fluence_to_rate(duet_abmag_to_fluence(mean_elliptical_duet1, 1))\n",
    "#rate1 = pixel_area.value * duet.fluence_to_rate(duet_abmag_to_fluence(mean_spiral_duet1, 1))\n",
    "\n",
    "\n",
    "print(rate1)\n",
    "\n",
    "rate2 = pixel_area.value * duet.fluence_to_rate(duet_abmag_to_fluence(mean_elliptical_duet2, 2))\n",
    "#rate2 = pixel_area.value * duet.fluence_to_rate(duet_abmag_to_fluence(mean_spiral_duet2, 2))\n",
    "\n",
    "\n",
    "print(rate2)\n",
    "\n"
   ]
  },
  {
   "cell_type": "code",
   "execution_count": 3,
   "metadata": {},
   "outputs": [
    {
     "name": "stdout",
     "output_type": "stream",
     "text": [
      "\n",
      "\n",
      "Band1 2400.0 s 5-σ magnitude limit: 21.04368761357808 mag(AB)\n",
      "4.963328428275087\n",
      "Band2 2400.0 s 5-σ magnitude limit: 20.809882231071192 mag(AB)\n",
      "4.984659994825974\n",
      "\n"
     ]
    }
   ],
   "source": [
    "\n",
    "# Band1\n",
    "# 5-sigma limiting magnitude in 1 and 5 stacked frames.\n",
    "\n",
    "# Account for the fact that you're co-adding the two frames here:\n",
    "duet = config.Telescope(config='minimum_mass_threshold')\n",
    "\n",
    "bandone = duet.bandpass1\n",
    "bandtwo = duet.bandpass2\n",
    "\n",
    "surf_scale = 1.0\n",
    "\n",
    "exposure = 300*u.s\n",
    "print()\n",
    "siglimit=5\n",
    "dmag = 0.01\n",
    "print()\n",
    "[bgd_band1, bgd_band2] = background_pixel_rate(duet, med_zodi=True)\n",
    "\n",
    "\n",
    "tot_bgd_rate = bgd_band1  + rate1 * surf_scale\n",
    "\n",
    "for nframes in [8]:\n",
    "    snr = 100\n",
    "    swiftmag = 20.5\n",
    "    while snr > siglimit:\n",
    "        swiftmag += dmag\n",
    "        band1_fluence, band2_fluence = bb_abmag_fluence(duet =duet, swiftmag=swiftmag*u.ABmag, bbtemp=12e3*u.K)\n",
    "        band1_rate = duet.fluence_to_rate(band1_fluence)\n",
    "        band2_rate = duet.fluence_to_rate(band2_fluence)\n",
    "        src_rate = band1_rate\n",
    "\n",
    "        snr = duet.calc_snr(exposure, src_rate, tot_bgd_rate, nint=nframes)\n",
    "    bbmag1, bbmag2 = bb_abmag(swiftmag=swiftmag*u.ABmag, bbtemp=12e3*u.K, bandone = bandone, bandtwo=bandtwo) \n",
    "    print('Band1 {} {}-σ magnitude limit: {}'.format(nframes*exposure, siglimit, bbmag1))\n",
    "    print(snr)\n",
    "duet1_limit = bbmag1\n",
    "\n",
    "tot_bgd_rate = bgd_band2  + rate2*surf_scale\n",
    "for nframes in [8]:\n",
    "    snr = 100\n",
    "    swiftmag = 20.8\n",
    "    while snr > siglimit:\n",
    "        swiftmag += dmag\n",
    "        band1_fluence, band2_fluence = bb_abmag_fluence(duet =duet, swiftmag=swiftmag*u.ABmag, bbtemp=12e3*u.K)\n",
    "        band1_rate = duet.fluence_to_rate(band1_fluence)\n",
    "        band2_rate = duet.fluence_to_rate(band2_fluence)\n",
    "        src_rate = band2_rate\n",
    "\n",
    "        snr = duet.calc_snr(exposure, src_rate, tot_bgd_rate, nint=nframes)\n",
    "    bbmag1, bbmag2 = bb_abmag(swiftmag=swiftmag*u.ABmag, bbtemp=12e3*u.K, bandone = bandone, bandtwo=bandtwo) \n",
    "\n",
    "    print('Band2 {} {}-σ magnitude limit: {}'.format(nframes*exposure, siglimit, bbmag2))\n",
    "    print(snr)\n",
    "    print()\n",
    "\n",
    "\n",
    "duet2_limit = bbmag2"
   ]
  },
  {
   "cell_type": "code",
   "execution_count": 4,
   "metadata": {},
   "outputs": [],
   "source": [
    "from astroduet import models"
   ]
  },
  {
   "cell_type": "code",
   "execution_count": 5,
   "metadata": {},
   "outputs": [
    {
     "data": {
      "text/plain": [
       "['shock_2.5e10.dat',\n",
       " 'shock_5e10.dat',\n",
       " 'shock_1e11.dat',\n",
       " 'kilonova_0.01.dat',\n",
       " 'kilonova_0.02.dat',\n",
       " 'kilonova_0.04.dat']"
      ]
     },
     "execution_count": 5,
     "metadata": {},
     "output_type": "execute_result"
    }
   ],
   "source": [
    "sims = models.Simulations()\n",
    "sims.emgw_simulations"
   ]
  },
  {
   "cell_type": "code",
   "execution_count": 6,
   "metadata": {},
   "outputs": [
    {
     "name": "stdout",
     "output_type": "stream",
     "text": [
      "99.94058346276215 Mpc\n",
      "136.52496087538955 Mpc\n"
     ]
    },
    {
     "name": "stderr",
     "output_type": "stream",
     "text": [
      "/Users/bwgref/science/local/anaconda/envs/duet/lib/python3.6/site-packages/matplotlib/font_manager.py:1241: UserWarning: findfont: Font family ['normal'] not found. Falling back to DejaVu Sans.\n",
      "  (prop.get_family(), self.defaultFamily[fontext]))\n"
     ]
    },
    {
     "data": {
      "image/png": "[encoded data removed]",
      "text/plain": [
       "<Figure size 432x288 with 1 Axes>"
      ]
     },
     "metadata": {
      "needs_background": "light"
     },
     "output_type": "display_data"
    },
    {
     "data": {
      "image/png": "[encoded data removed]",
      "text/plain": [
       "<Figure size 432x288 with 1 Axes>"
      ]
     },
     "metadata": {
      "needs_background": "light"
     },
     "output_type": "display_data"
    },
    {
     "name": "stdout",
     "output_type": "stream",
     "text": [
      "234.32549497223738 Mpc\n",
      "250.0495551970911 Mpc\n"
     ]
    },
    {
     "data": {
      "image/png": "[encoded data removed]",
      "text/plain": [
       "<Figure size 432x288 with 1 Axes>"
      ]
     },
     "metadata": {
      "needs_background": "light"
     },
     "output_type": "display_data"
    },
    {
     "data": {
      "image/png": "[encoded data removed]",
      "text/plain": [
       "<Figure size 432x288 with 1 Axes>"
      ]
     },
     "metadata": {
      "needs_background": "light"
     },
     "output_type": "display_data"
    }
   ],
   "source": [
    "target = 0.2 *u.day\n",
    "\n",
    "lc = models.load_model_ABmag('kilonova_0.02.dat', dist = 10*u.pc)\n",
    "duet1_abmag_at_5hr = np.interp(target.to(u.s).value, lc[0].to(u.s).value, lc[1])\n",
    "duet2_abmag_at_5hr = np.interp(target.to(u.s).value, lc[0].to(u.s).value, lc[2])\n",
    "\n",
    "hrs = lc[0].to(u.hr)\n",
    "\n",
    "\n",
    "plt.figure()\n",
    "plt.plot(hrs, lc[1])\n",
    "plt.plot(hrs, lc[2])\n",
    "plt.ylim([-12, -15])\n",
    "plt.xlim([0, 10])\n",
    "plt.xlabel('Hours')\n",
    "\n",
    "plt.figure()\n",
    "\n",
    "dist1 = 10 * 10**((duet1_limit.value - duet1_abmag_at_5hr) / 5)*u.pc\n",
    "print(dist1.to(u.Mpc))\n",
    "dist2 = 10 * 10**((duet2_limit.value - duet2_abmag_at_5hr) / 5)*u.pc\n",
    "print(dist2.to(u.Mpc))\n",
    "\n",
    "\n",
    "lc1 = models.load_model_ABmag('kilonova_0.02.dat', dist = dist1)\n",
    "plt.plot(hrs, lc1[1])\n",
    "\n",
    "lc2 = models.load_model_ABmag('kilonova_0.02.dat', dist = dist2)\n",
    "plt.plot(hrs, lc2[2])\n",
    "\n",
    "plt.axhline(duet1_limit.value, linestyle = ':')\n",
    "plt.axhline(duet2_limit.value, linestyle = ':')\n",
    "\n",
    "plt.axvline(target.to(u.hr).value, linestyle=':')\n",
    "plt.ylim([24, 17])\n",
    "plt.xlim([0, 10])\n",
    "plt.xlabel('Hours')\n",
    "plt.show()\n",
    "\n",
    "\n",
    "\n",
    "\n",
    "lc = models.load_model_ABmag('shock_5e10.dat', dist = 10*u.pc)\n",
    "duet1_abmag_at_5hr = np.interp(target.to(u.s).value, lc[0].to(u.s).value, lc[1])\n",
    "duet2_abmag_at_5hr = np.interp(target.to(u.s).value, lc[0].to(u.s).value, lc[2])\n",
    "\n",
    "hrs = lc[0].to(u.hr)\n",
    "\n",
    "\n",
    "\n",
    "plt.figure()\n",
    "plt.plot(hrs, lc[1])\n",
    "plt.plot(hrs, lc[2])\n",
    "plt.ylim([-12, -18])\n",
    "plt.xlim([0, 10])\n",
    "plt.xlabel('Hours')\n",
    "\n",
    "plt.figure()\n",
    "\n",
    "dist1 = 10 * 10**((duet1_limit.value - duet1_abmag_at_5hr) / 5)*u.pc\n",
    "print(dist1.to(u.Mpc))\n",
    "dist2 = 10 * 10**((duet2_limit.value - duet2_abmag_at_5hr) / 5)*u.pc\n",
    "print(dist2.to(u.Mpc))\n",
    "\n",
    "\n",
    "lc1 = models.load_model_ABmag('shock_5e10.dat', dist = dist1)\n",
    "plt.plot(hrs, lc1[1])\n",
    "\n",
    "lc2 = models.load_model_ABmag('shock_5e10.dat', dist = dist2)\n",
    "plt.plot(hrs, lc2[2])\n",
    "\n",
    "plt.axhline(duet1_limit.value, linestyle = ':')\n",
    "plt.axhline(duet2_limit.value, linestyle = ':')\n",
    "\n",
    "plt.axvline(target.to(u.hr).value, linestyle=':')\n",
    "plt.ylim([24, 17])\n",
    "plt.xlim([0, 10])\n",
    "plt.xlabel('Hours')\n",
    "plt.show()\n",
    "\n",
    "\n",
    "\n"
   ]
  },
  {
   "cell_type": "code",
   "execution_count": null,
   "metadata": {},
   "outputs": [],
   "source": []
  }
 ],
 "metadata": {
  "kernelspec": {
   "display_name": "Python 3",
   "language": "python",
   "name": "python3"
  },
  "language_info": {
   "codemirror_mode": {
    "name": "ipython",
    "version": 3
   },
   "file_extension": ".py",
   "mimetype": "text/x-python",
   "name": "python",
   "nbconvert_exporter": "python",
   "pygments_lexer": "ipython3",
   "version": "3.6.7"
  }
 },
 "nbformat": 4,
 "nbformat_minor": 2
}
