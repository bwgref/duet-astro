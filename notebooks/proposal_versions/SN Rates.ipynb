{
 "cells": [
  {
   "cell_type": "code",
   "execution_count": 6,
   "metadata": {
    "collapsed": false
   },
   "outputs": [],
   "source": [
    "from astropy import units as u\n",
    "from numpy import pi"
   ]
  },
  {
   "cell_type": "code",
   "execution_count": 27,
   "metadata": {
    "collapsed": false
   },
   "outputs": [],
   "source": [
    "fov = (56 * u.deg * u.deg).to(u.sr).value\n",
    "frac_sky = fov / (4*pi)"
   ]
  },
  {
   "cell_type": "code",
   "execution_count": 28,
   "metadata": {
    "collapsed": true
   },
   "outputs": [],
   "source": [
    "rate = 0.447e-04 # per Mpc / year"
   ]
  },
  {
   "cell_type": "code",
   "execution_count": 29,
   "metadata": {
    "collapsed": false
   },
   "outputs": [
    {
     "data": {
      "text/plain": [
       "54.90131941512641"
      ]
     },
     "execution_count": 29,
     "metadata": {},
     "output_type": "execute_result"
    }
   ],
   "source": [
    "dist = 600\n",
    "vol = (4/3)*pi*(dist)**3\n",
    "vol*frac_sky*rate"
   ]
  },
  {
   "cell_type": "code",
   "execution_count": 42,
   "metadata": {
    "collapsed": false
   },
   "outputs": [
    {
     "name": "stdout",
     "output_type": "stream",
     "text": [
      "630.9573444801929\n"
     ]
    },
    {
     "data": {
      "text/plain": [
       "63.84531449575429"
      ]
     },
     "execution_count": 42,
     "metadata": {},
     "output_type": "execute_result"
    }
   ],
   "source": [
    "abs_mag = -17\n",
    "limit = 22\n",
    "dist = 10**((limit - abs_mag)/5) * 10/1e6\n",
    "print(dist)\n",
    "vol = (4/3)*pi*(dist)**3\n",
    "vol*frac_sky*rate"
   ]
  }
 ],
 "metadata": {
  "kernelspec": {
   "display_name": "Python (duet)",
   "language": "python",
   "name": "duet"
  },
  "language_info": {
   "codemirror_mode": {
    "name": "ipython",
    "version": 3
   },
   "file_extension": ".py",
   "mimetype": "text/x-python",
   "name": "python",
   "nbconvert_exporter": "python",
   "pygments_lexer": "ipython3",
   "version": "3.6.7"
  }
 },
 "nbformat": 4,
 "nbformat_minor": 2
}
