{
 "cells": [
  {
   "cell_type": "code",
   "execution_count": 1,
   "metadata": {},
   "outputs": [],
   "source": [
    "%load_ext autoreload\n",
    "%autoreload 2\n",
    "import astropy.units as u\n",
    "\n",
    "from astroduet import models\n",
    "from astropy.coordinates import Distance\n",
    "\n",
    "\n",
    "sims = models.Simulations()\n",
    "\n",
    "import numpy as np\n",
    "from matplotlib import pyplot as plt\n",
    "from astropy.visualization import quantity_support\n",
    "import matplotlib\n",
    "font = {'family' : 'sans',\n",
    "        'weight' : 'bold',\n",
    "        'size'   : 18}\n",
    "\n",
    "matplotlib.rc('font', **font)\n",
    "\n",
    "\n",
    "from astroduet import models\n",
    "import numpy as np"
   ]
  },
  {
   "cell_type": "code",
   "execution_count": 104,
   "metadata": {},
   "outputs": [
    {
     "name": "stdout",
     "output_type": "stream",
     "text": [
      "Parsing and storing: rsg400\n",
      "Parsing and storing: rsg450\n",
      "Parsing and storing: rsg500\n",
      "Parsing and storing: rsg550\n",
      "Parsing and storing: rsg600\n",
      "Parsing and storing: rsg650\n",
      "Parsing and storing: rsg700\n",
      "Parsing and storing: rsg750\n",
      "Parsing and storing: rsg800\n"
     ]
    },
    {
     "ename": "KeyboardInterrupt",
     "evalue": "",
     "output_type": "error",
     "traceback": [
      "\u001b[0;31m---------------------------------------------------------------------------\u001b[0m",
      "\u001b[0;31mKeyboardInterrupt\u001b[0m                         Traceback (most recent call last)",
      "\u001b[0;32m<ipython-input-104-54795f6386ed>\u001b[0m in \u001b[0;36m<module>\u001b[0;34m\u001b[0m\n\u001b[1;32m      1\u001b[0m \u001b[0msims\u001b[0m \u001b[0;34m=\u001b[0m \u001b[0mmodels\u001b[0m\u001b[0;34m.\u001b[0m\u001b[0mSimulations\u001b[0m\u001b[0;34m(\u001b[0m\u001b[0;34m)\u001b[0m\u001b[0;34m\u001b[0m\u001b[0;34m\u001b[0m\u001b[0m\n\u001b[0;32m----> 2\u001b[0;31m \u001b[0msims\u001b[0m\u001b[0;34m.\u001b[0m\u001b[0mparse_sne_rsg\u001b[0m\u001b[0;34m(\u001b[0m\u001b[0;34m)\u001b[0m\u001b[0;34m\u001b[0m\u001b[0;34m\u001b[0m\u001b[0m\n\u001b[0m",
      "\u001b[0;32m~/science/local/git/duet-astro/astroduet/models.py\u001b[0m in \u001b[0;36mparse_sne_rsg\u001b[0;34m(self, diag, list_of_simulations)\u001b[0m\n\u001b[1;32m    169\u001b[0m             \u001b[0mprint\u001b[0m\u001b[0;34m(\u001b[0m\u001b[0;34m'Parsing and storing: {}'\u001b[0m\u001b[0;34m.\u001b[0m\u001b[0mformat\u001b[0m\u001b[0;34m(\u001b[0m\u001b[0msname\u001b[0m\u001b[0;34m)\u001b[0m\u001b[0;34m)\u001b[0m\u001b[0;34m\u001b[0m\u001b[0;34m\u001b[0m\u001b[0m\n\u001b[1;32m    170\u001b[0m             \u001b[0moutfile\u001b[0m \u001b[0;34m=\u001b[0m \u001b[0mdatadir\u001b[0m\u001b[0;34m+\u001b[0m\u001b[0;34m'/'\u001b[0m\u001b[0;34m+\u001b[0m\u001b[0msname\u001b[0m\u001b[0;34m+\u001b[0m\u001b[0;34m'_lightcurve_DUET.fits'\u001b[0m\u001b[0;34m\u001b[0m\u001b[0;34m\u001b[0m\u001b[0m\n\u001b[0;32m--> 171\u001b[0;31m             \u001b[0mshock_lc\u001b[0m \u001b[0;34m=\u001b[0m \u001b[0mconvert_model\u001b[0m\u001b[0;34m(\u001b[0m\u001b[0mdatadir\u001b[0m \u001b[0;34m+\u001b[0m \u001b[0;34m'/'\u001b[0m \u001b[0;34m+\u001b[0m \u001b[0mshockf\u001b[0m\u001b[0;34m,\u001b[0m \u001b[0mname\u001b[0m\u001b[0;34m=\u001b[0m\u001b[0msname\u001b[0m\u001b[0;34m)\u001b[0m\u001b[0;34m\u001b[0m\u001b[0;34m\u001b[0m\u001b[0m\n\u001b[0m\u001b[1;32m    172\u001b[0m \u001b[0;34m\u001b[0m\u001b[0m\n\u001b[1;32m    173\u001b[0m             \u001b[0mshock_lc\u001b[0m\u001b[0;34m.\u001b[0m\u001b[0mwrite\u001b[0m\u001b[0;34m(\u001b[0m\u001b[0moutfile\u001b[0m\u001b[0;34m,\u001b[0m \u001b[0mformat\u001b[0m\u001b[0;34m=\u001b[0m\u001b[0;34m'fits'\u001b[0m\u001b[0;34m,\u001b[0m \u001b[0moverwrite\u001b[0m\u001b[0;34m=\u001b[0m\u001b[0;32mTrue\u001b[0m\u001b[0;34m)\u001b[0m\u001b[0;34m\u001b[0m\u001b[0;34m\u001b[0m\u001b[0m\n",
      "\u001b[0;32m~/science/local/git/duet-astro/astroduet/models.py\u001b[0m in \u001b[0;36mconvert_model\u001b[0;34m(filename, name, duet)\u001b[0m\n\u001b[1;32m    347\u001b[0m \u001b[0;34m\u001b[0m\u001b[0m\n\u001b[1;32m    348\u001b[0m         band1_fluence, band2_fluence = bb_abmag_fluence(bbtemp=t,\n\u001b[0;32m--> 349\u001b[0;31m             bolflux=bf)\n\u001b[0m\u001b[1;32m    350\u001b[0m \u001b[0;34m\u001b[0m\u001b[0m\n\u001b[1;32m    351\u001b[0m         \u001b[0mshock_lc\u001b[0m\u001b[0;34m[\u001b[0m\u001b[0mk\u001b[0m\u001b[0;34m]\u001b[0m\u001b[0;34m[\u001b[0m\u001b[0;34m'mag_D1'\u001b[0m\u001b[0;34m]\u001b[0m \u001b[0;34m=\u001b[0m \u001b[0mband1_mag\u001b[0m\u001b[0;34m\u001b[0m\u001b[0;34m\u001b[0m\u001b[0m\n",
      "\u001b[0;32m~/science/local/git/duet-astro/astroduet/bbmag.py\u001b[0m in \u001b[0;36mbb_abmag_fluence\u001b[0;34m(val, duet, **kwargs)\u001b[0m\n\u001b[1;32m    323\u001b[0m \u001b[0;34m\u001b[0m\u001b[0m\n\u001b[1;32m    324\u001b[0m     \u001b[0;31m# Apply filters, QE, etc.\u001b[0m\u001b[0;34m\u001b[0m\u001b[0;34m\u001b[0m\u001b[0;34m\u001b[0m\u001b[0m\n\u001b[0;32m--> 325\u001b[0;31m     \u001b[0mband1_fluence\u001b[0m \u001b[0;34m=\u001b[0m \u001b[0mduet\u001b[0m\u001b[0;34m.\u001b[0m\u001b[0mapply_filters\u001b[0m\u001b[0;34m(\u001b[0m\u001b[0mwav\u001b[0m\u001b[0;34m,\u001b[0m \u001b[0mph_flux\u001b[0m\u001b[0;34m,\u001b[0m \u001b[0mdiag\u001b[0m\u001b[0;34m=\u001b[0m\u001b[0mdiag\u001b[0m\u001b[0;34m,\u001b[0m \u001b[0;34m**\u001b[0m\u001b[0mkwargs\u001b[0m\u001b[0;34m)\u001b[0m\u001b[0;34m.\u001b[0m\u001b[0msum\u001b[0m\u001b[0;34m(\u001b[0m\u001b[0;34m)\u001b[0m\u001b[0;34m\u001b[0m\u001b[0;34m\u001b[0m\u001b[0m\n\u001b[0m\u001b[1;32m    326\u001b[0m     \u001b[0mband2_fluence\u001b[0m \u001b[0;34m=\u001b[0m \u001b[0mduet\u001b[0m\u001b[0;34m.\u001b[0m\u001b[0mapply_filters\u001b[0m\u001b[0;34m(\u001b[0m\u001b[0mwav\u001b[0m\u001b[0;34m,\u001b[0m \u001b[0mph_flux\u001b[0m\u001b[0;34m,\u001b[0m \u001b[0mband\u001b[0m \u001b[0;34m=\u001b[0m \u001b[0;36m2\u001b[0m\u001b[0;34m,\u001b[0m \u001b[0mdiag\u001b[0m\u001b[0;34m=\u001b[0m\u001b[0mdiag\u001b[0m\u001b[0;34m,\u001b[0m \u001b[0;34m**\u001b[0m\u001b[0mkwargs\u001b[0m\u001b[0;34m)\u001b[0m\u001b[0;34m.\u001b[0m\u001b[0msum\u001b[0m\u001b[0;34m(\u001b[0m\u001b[0;34m)\u001b[0m\u001b[0;34m\u001b[0m\u001b[0;34m\u001b[0m\u001b[0m\n\u001b[1;32m    327\u001b[0m \u001b[0;34m\u001b[0m\u001b[0m\n",
      "\u001b[0;32m~/science/local/git/duet-astro/astroduet/config.py\u001b[0m in \u001b[0;36mapply_filters\u001b[0;34m(self, wave, spec, band, **kwargs)\u001b[0m\n\u001b[1;32m    740\u001b[0m         \u001b[0mred_wave\u001b[0m\u001b[0;34m,\u001b[0m \u001b[0mred_trans\u001b[0m \u001b[0;34m=\u001b[0m\u001b[0;31m \u001b[0m\u001b[0;31m\\\u001b[0m\u001b[0;34m\u001b[0m\u001b[0;34m\u001b[0m\u001b[0m\n\u001b[1;32m    741\u001b[0m             load_redfilter(infile = bandpass_file,\n\u001b[0;32m--> 742\u001b[0;31m                            shift_by=self.filter_shift[band_ind], **kwargs)\n\u001b[0m\u001b[1;32m    743\u001b[0m         \u001b[0mtrans_wave\u001b[0m\u001b[0;34m,\u001b[0m \u001b[0mtransmission\u001b[0m \u001b[0;34m=\u001b[0m\u001b[0;31m \u001b[0m\u001b[0;31m\\\u001b[0m\u001b[0;34m\u001b[0m\u001b[0;34m\u001b[0m\u001b[0m\n\u001b[1;32m    744\u001b[0m             \u001b[0mload_transmission\u001b[0m\u001b[0;34m(\u001b[0m\u001b[0minfile\u001b[0m\u001b[0;34m=\u001b[0m\u001b[0mself\u001b[0m\u001b[0;34m.\u001b[0m\u001b[0mtransmission_file\u001b[0m\u001b[0;34m,\u001b[0m \u001b[0;34m**\u001b[0m\u001b[0mkwargs\u001b[0m\u001b[0;34m)\u001b[0m\u001b[0;34m\u001b[0m\u001b[0;34m\u001b[0m\u001b[0m\n",
      "\u001b[0;32m~/science/local/git/duet-astro/astroduet/filters.py\u001b[0m in \u001b[0;36mload_redfilter\u001b[0;34m(infile, shift_by, **kwargs)\u001b[0m\n\u001b[1;32m    233\u001b[0m \u001b[0;34m\u001b[0m\u001b[0m\n\u001b[1;32m    234\u001b[0m     \u001b[0;32massert\u001b[0m \u001b[0minfile\u001b[0m \u001b[0;32mis\u001b[0m \u001b[0;32mnot\u001b[0m \u001b[0;32mNone\u001b[0m\u001b[0;34m,\u001b[0m \u001b[0;34m'load_redfilter: Need an input file'\u001b[0m\u001b[0;34m\u001b[0m\u001b[0;34m\u001b[0m\u001b[0m\n\u001b[0;32m--> 235\u001b[0;31m     \u001b[0mdata\u001b[0m \u001b[0;34m=\u001b[0m \u001b[0mnp\u001b[0m\u001b[0;34m.\u001b[0m\u001b[0mgenfromtxt\u001b[0m\u001b[0;34m(\u001b[0m\u001b[0minfile\u001b[0m\u001b[0;34m,\u001b[0m \u001b[0mskip_header\u001b[0m\u001b[0;34m=\u001b[0m\u001b[0;36m4\u001b[0m\u001b[0;34m,\u001b[0m \u001b[0mdelimiter\u001b[0m\u001b[0;34m=\u001b[0m\u001b[0;34m','\u001b[0m\u001b[0;34m)\u001b[0m\u001b[0;34m\u001b[0m\u001b[0;34m\u001b[0m\u001b[0m\n\u001b[0m\u001b[1;32m    236\u001b[0m     \u001b[0mwave\u001b[0m \u001b[0;34m=\u001b[0m \u001b[0mdata\u001b[0m\u001b[0;34m[\u001b[0m\u001b[0;34m:\u001b[0m\u001b[0;34m,\u001b[0m\u001b[0;36m0\u001b[0m\u001b[0;34m]\u001b[0m\u001b[0;34m*\u001b[0m\u001b[0mu\u001b[0m\u001b[0;34m.\u001b[0m\u001b[0mnm\u001b[0m\u001b[0;34m\u001b[0m\u001b[0;34m\u001b[0m\u001b[0m\n\u001b[1;32m    237\u001b[0m \u001b[0;34m\u001b[0m\u001b[0m\n",
      "\u001b[0;31mKeyboardInterrupt\u001b[0m: "
     ]
    }
   ],
   "source": [
    "sims = models.Simulations()\n",
    "sims.parse_sne_rsg()"
   ]
  },
  {
   "cell_type": "code",
   "execution_count": 2,
   "metadata": {},
   "outputs": [
    {
     "data": {
      "text/plain": [
       "['rsg400.dat',\n",
       " 'rsg450.dat',\n",
       " 'rsg500.dat',\n",
       " 'rsg550.dat',\n",
       " 'rsg600.dat',\n",
       " 'rsg650.dat',\n",
       " 'rsg700.dat',\n",
       " 'rsg750.dat',\n",
       " 'rsg800.dat',\n",
       " 'rsg850.dat',\n",
       " 'rsg900.dat',\n",
       " 'rsg950.dat',\n",
       " 'rsg1000.dat']"
      ]
     },
     "execution_count": 2,
     "metadata": {},
     "output_type": "execute_result"
    }
   ],
   "source": [
    "sims.sne_rsg_simulations"
   ]
  },
  {
   "cell_type": "code",
   "execution_count": 3,
   "metadata": {},
   "outputs": [],
   "source": [
    "# pixk 700 R_sun\n",
    "infile = 'rsg700.dat'\n",
    "fitsfile = models.fits_file(infile)"
   ]
  },
  {
   "cell_type": "code",
   "execution_count": 22,
   "metadata": {},
   "outputs": [],
   "source": [
    "model_data = np.loadtxt('../astroduet/data/'+infile)\n",
    "\n",
    "\n",
    "i = model_data[:, 3]*u.ABmag\n",
    "\n",
    "r = model_data[:, 4]*u.ABmag\n",
    "v = model_data[:, 5]*u.ABmag\n",
    "\n",
    "\n",
    "d = Distance(200*u.Mpc)\n",
    "\n",
    "v += d.distmod\n",
    "r += d.distmod\n",
    "i+= d.distmod\n",
    "t = duet[0]\n",
    "t = t.to(u.d)\n",
    "\n",
    "#t = np.append(t, 40*u.d)\n",
    "#v = np.append(v, min(v.value))"
   ]
  },
  {
   "cell_type": "code",
   "execution_count": 23,
   "metadata": {},
   "outputs": [],
   "source": [
    "duet = models.load_model_ABmag(infile, dist = 200*u.Mpc)"
   ]
  },
  {
   "cell_type": "code",
   "execution_count": 25,
   "metadata": {
    "scrolled": false
   },
   "outputs": [
    {
     "data": {
      "image/png": "[encoded data removed]",
      "text/plain": [
       "<Figure size 432x288 with 1 Axes>"
      ]
     },
     "metadata": {
      "needs_background": "light"
     },
     "output_type": "display_data"
    }
   ],
   "source": [
    "\n",
    "\n",
    "plt.scatter(t, duet[1])\n",
    "plt.scatter(t, duet[2])\n",
    "plt.scatter(t, v)\n",
    "#plt.scatter(t, r)\n",
    "\n",
    "\n",
    "plt.ylim(22, 18.5)\n",
    "plt.xlim([0.01, 40])\n",
    "plt.xscale('Log')\n",
    "plt.show()"
   ]
  },
  {
   "cell_type": "code",
   "execution_count": 99,
   "metadata": {},
   "outputs": [
    {
     "data": {
      "text/latex": [
       "$[-1.63703,~-2.8013,~-3.86244,~-4.82812,~-5.70701,~-6.51125,~-7.24604,~-7.92101,~-8.53872,~-9.1089,~-9.63164,~-10.1171,~-10.5629,~-10.9755,~-11.3542,~-11.7161,~-12.0499,~-12.363,~-12.6519,~-12.9282,~-13.1824,~-13.4204,~-13.6243,~-13.7827,~-13.8783,~-13.9196,~-13.9196,~-13.9025,~-13.8739,~-13.8416,~-13.8066,~-13.7727,~-13.739,~-13.708,~-13.6744,~-13.6381,~-13.6058,~-13.5747,~-13.5449,~-13.5139,~-13.4849,~-13.4542,~-13.4262,~-13.3963,~-13.3652,~-13.3314,~-13.3065,~-13.2799,~-13.2585,~-13.2353,~-13.2128,~-13.1907,~-13.1795,~-13.1686,~-13.1605,~-13.1568,~-13.1648,~-13.176,~-13.192,~-13.214,~-13.3105,~-13.4087,~-13.5137,~-13.6246,~-13.7386,~-13.8518,~-13.9714,~-14.1016,~-14.2317,~-14.3581,~-14.4816,~-14.6159,~-14.7454,~-14.8743,~-15.0038,~-15.1329,~-15.2565,~-15.3811,~-15.5056,~-15.6271,~-15.7425,~-15.8518,~-15.9686,~-16.0764,~-16.1777,~-16.2787,~-16.3804,~-16.4686,~-16.5545,~-16.637,~-16.7131,~-16.7828,~-16.8458,~-16.9025,~-16.9529,~-16.9957,~-17.0253,~-17.0479,~-17.0642,~-17.0675] \\; \\mathrm{mag}$$\\mathrm{\\left( \\mathrm{AB} \\right)}$"
      ],
      "text/plain": [
       "<Magnitude [ -1.63703,  -2.8013 ,  -3.86244,  -4.82812,  -5.70701,\n",
       "             -6.51125,  -7.24604,  -7.92101,  -8.53872,  -9.1089 ,\n",
       "             -9.63164, -10.1171 , -10.5629 , -10.9755 , -11.3542 ,\n",
       "            -11.7161 , -12.0499 , -12.363  , -12.6519 , -12.9282 ,\n",
       "            -13.1824 , -13.4204 , -13.6243 , -13.7827 , -13.8783 ,\n",
       "            -13.9196 , -13.9196 , -13.9025 , -13.8739 , -13.8416 ,\n",
       "            -13.8066 , -13.7727 , -13.739  , -13.708  , -13.6744 ,\n",
       "            -13.6381 , -13.6058 , -13.5747 , -13.5449 , -13.5139 ,\n",
       "            -13.4849 , -13.4542 , -13.4262 , -13.3963 , -13.3652 ,\n",
       "            -13.3314 , -13.3065 , -13.2799 , -13.2585 , -13.2353 ,\n",
       "            -13.2128 , -13.1907 , -13.1795 , -13.1686 , -13.1605 ,\n",
       "            -13.1568 , -13.1648 , -13.176  , -13.192  , -13.214  ,\n",
       "            -13.3105 , -13.4087 , -13.5137 , -13.6246 , -13.7386 ,\n",
       "            -13.8518 , -13.9714 , -14.1016 , -14.2317 , -14.3581 ,\n",
       "            -14.4816 , -14.6159 , -14.7454 , -14.8743 , -15.0038 ,\n",
       "            -15.1329 , -15.2565 , -15.3811 , -15.5056 , -15.6271 ,\n",
       "            -15.7425 , -15.8518 , -15.9686 , -16.0764 , -16.1777 ,\n",
       "            -16.2787 , -16.3804 , -16.4686 , -16.5545 , -16.637  ,\n",
       "            -16.7131 , -16.7828 , -16.8458 , -16.9025 , -16.9529 ,\n",
       "            -16.9957 , -17.0253 , -17.0479 , -17.0642 , -17.0675 ] mag(AB)>"
      ]
     },
     "execution_count": 99,
     "metadata": {},
     "output_type": "execute_result"
    }
   ],
   "source": []
  },
  {
   "cell_type": "code",
   "execution_count": null,
   "metadata": {},
   "outputs": [],
   "source": []
  }
 ],
 "metadata": {
  "kernelspec": {
   "display_name": "Python (duet)",
   "language": "python",
   "name": "duet"
  },
  "language_info": {
   "codemirror_mode": {
    "name": "ipython",
    "version": 3
   },
   "file_extension": ".py",
   "mimetype": "text/x-python",
   "name": "python",
   "nbconvert_exporter": "python",
   "pygments_lexer": "ipython3",
   "version": "3.6.7"
  }
 },
 "nbformat": 4,
 "nbformat_minor": 2
}
