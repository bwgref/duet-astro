{
 "cells": [
  {
   "cell_type": "code",
   "execution_count": 27,
   "metadata": {},
   "outputs": [
    {
     "name": "stdout",
     "output_type": "stream",
     "text": [
      "The autoreload extension is already loaded. To reload it, use:\n",
      "  %reload_ext autoreload\n"
     ]
    }
   ],
   "source": [
    "%load_ext autoreload\n",
    "%autoreload 2\n",
    "\n",
    "from astropy.visualization import quantity_support\n",
    "import matplotlib\n",
    "font = {'family' : 'normal',\n",
    "        'weight' : 'bold',\n",
    "        'size'   : 22}\n",
    "\n",
    "matplotlib.rc('font', **font)\n",
    "from astroduet import config\n",
    "from astropy import units as u\n",
    "from matplotlib import pyplot as plt\n",
    "%matplotlib inline\n",
    "import numpy as np"
   ]
  },
  {
   "cell_type": "code",
   "execution_count": 13,
   "metadata": {},
   "outputs": [],
   "source": [
    "def radial_profile(data, center):\n",
    "    y,x = np.indices((data.shape)) # first determine radii of all pixels\n",
    "    r = np.sqrt((x-center[0])**2+(y-center[1])**2)    \n",
    "\n",
    "    # # radius of the image.\n",
    "    r_max = np.max(r) \n",
    "    rad_pro, radius = np.histogram(r, weights=data, bins=np.int(r_max*1))\n",
    "    nbins, radius = np.histogram(r, bins=np.int(r_max*1))\n",
    "        \n",
    "    return rad_pro, nbins, radius"
   ]
  },
  {
   "cell_type": "code",
   "execution_count": 29,
   "metadata": {},
   "outputs": [
    {
     "data": {
      "image/png": "[encoded data removed]",
      "text/plain": [
       "<Figure size 432x288 with 1 Axes>"
      ]
     },
     "metadata": {
      "needs_background": "light"
     },
     "output_type": "display_data"
    }
   ],
   "source": [
    "duet = config.Telescope()\n",
    "pix_size, rad_pro = duet.calc_radial_profile(pix_size=0.5*u.arcsec)\n",
    "rind = np.arange(len(rad_pro))*pix_size\n",
    "\n",
    "plt.plot(rind, rad_pro, label='Standard')\n",
    "\n",
    "duet = config.Telescope(config='minimum_mass_50')\n",
    "\n",
    "pix_size, rad_pro = duet.calc_radial_profile(pix_size=0.5*u.arcsec)\n",
    "rind = np.arange(len(rad_pro))*pix_size\n",
    "\n",
    "plt.plot(rind, rad_pro, label='PSF50%')\n",
    "\n",
    "duet = config.Telescope(config='minimum_mass_75')\n",
    "\n",
    "pix_size, rad_pro = duet.calc_radial_profile(pix_size=0.5*u.arcsec)\n",
    "rind = np.arange(len(rad_pro))*pix_size\n",
    "\n",
    "plt.plot(rind, rad_pro, label='PSF75%')\n",
    "\n",
    "plt.xlim([0,20])\n",
    "\n",
    "plt.legend()\n",
    "plt.show()\n"
   ]
  },
  {
   "cell_type": "code",
   "execution_count": 21,
   "metadata": {},
   "outputs": [],
   "source": [
    "def radial_profile(data, center):\n",
    "    y,x = np.indices((data.shape)) # first determine radii of all pixels\n",
    "    r = np.sqrt((x-center[0])**2+(y-center[1])**2)    \n",
    "\n",
    "    # # radius of the image.\n",
    "    r_max = np.max(r) \n",
    "    rad_pro, radius = np.histogram(r, weights=data, bins=np.int(r_max*1))\n",
    "    nbins, radius = np.histogram(r, bins=np.int(r_max*1))\n",
    "        \n",
    "    return rad_pro, nbins, radius"
   ]
  },
  {
   "cell_type": "code",
   "execution_count": 28,
   "metadata": {},
   "outputs": [
    {
     "name": "stdout",
     "output_type": "stream",
     "text": [
      "13.192663620724279 arcsec\n",
      "13.792330148939019 arcsec\n"
     ]
    }
   ],
   "source": [
    "cover = 20 * u.arcsec\n",
    "pixel_size = 0.1*u.arcsec\n",
    "nbins = np.floor(( 2 * (cover / pixel_size).value)) + 1\n",
    "\n",
    "for ci in ['minimum_mass_50', 'minimum_mass_75']:\n",
    "\n",
    "    duet = config.Telescope(config=ci)\n",
    "\n",
    "    psf_model = duet.psf_model(pixel_size=pixel_size, x_size = nbins, y_size = nbins)\n",
    "\n",
    "    nbins = len(psf_model.array[0][:])\n",
    "    center = [nbins*0.5, nbins*0.5]\n",
    "\n",
    "    rad_pro, binhist, radius = radial_profile(psf_model.array, center)\n",
    "    eef = rad_pro.cumsum()\n",
    "\n",
    "    thresh = eef.max() * 0.5\n",
    "    enclosed = (eef < thresh)\n",
    "    dr = radius[1] - radius[0]\n",
    "    fwhm = 2*(np.count_nonzero(enclosed)) * dr * pixel_size\n",
    "    print(fwhm)\n"
   ]
  },
  {
   "cell_type": "code",
   "execution_count": 30,
   "metadata": {},
   "outputs": [
    {
     "name": "stdout",
     "output_type": "stream",
     "text": [
      "11.5 arcsec 8.093811494551119\n",
      "13.2 arcsec 10.280210540863989\n",
      "13.79 arcsec 11.121021307308602\n"
     ]
    }
   ],
   "source": [
    "cover = 20 * u.arcsec\n",
    "pixel_size = 0.1*u.arcsec\n",
    "nbins = np.floor(( 2 * (cover / pixel_size).value)) + 1\n",
    "\n",
    "for ci in ['minimum_mass','minimum_mass_50', 'minimum_mass_75']:\n",
    "    duet = config.Telescope(config=ci)\n",
    "    print(duet.psf_fwhm, duet.neff)\n",
    "\n"
   ]
  }
 ],
 "metadata": {
  "kernelspec": {
   "display_name": "Python (duet)",
   "language": "python",
   "name": "duet"
  },
  "language_info": {
   "codemirror_mode": {
    "name": "ipython",
    "version": 3
   },
   "file_extension": ".py",
   "mimetype": "text/x-python",
   "name": "python",
   "nbconvert_exporter": "python",
   "pygments_lexer": "ipython3",
   "version": "3.6.7"
  }
 },
 "nbformat": 4,
 "nbformat_minor": 2
}
