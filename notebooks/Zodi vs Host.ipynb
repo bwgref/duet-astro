{
 "cells": [
  {
   "cell_type": "code",
   "execution_count": 8,
   "metadata": {},
   "outputs": [
    {
     "name": "stdout",
     "output_type": "stream",
     "text": [
      "Ellipticals\n",
      "-5.043416664742551\n",
      "-4.84448949647976\n",
      "-3.8947366468118183\n",
      "\n",
      "Spirals\n",
      "-6.475833845855117\n",
      "-6.276906677592326\n",
      "-5.327153827924384\n"
     ]
    }
   ],
   "source": [
    "# DUET1, from Marianne via Slack\n",
    "\n",
    "low = 29.98877531342191\n",
    "med =  29.78984814515912 \n",
    "high= 28.840095295491178 \n",
    "\n",
    "\n",
    "Ellipticals= 24.94535864867936\n",
    "Spirals= 23.512941467566794\n",
    "\n",
    "print('Ellipticals')\n",
    "for comp in [low, med, high]:\n",
    "    print(Ellipticals - comp)\n",
    "print()\n",
    "    \n",
    "print('Spirals')\n",
    "for comp in [low, med, high]:\n",
    "    print(Spirals - comp)\n",
    "\n"
   ]
  },
  {
   "cell_type": "code",
   "execution_count": 7,
   "metadata": {},
   "outputs": [
    {
     "name": "stdout",
     "output_type": "stream",
     "text": [
      "Ellipticals\n",
      "-2.555892390631403\n",
      "-1.9993287286166002\n",
      "-0.4031396143561601\n",
      "\n",
      "Spirals\n",
      "-3.607839030206687\n",
      "-3.0512753681918845\n",
      "-1.4550862539314444\n"
     ]
    }
   ],
   "source": [
    "# DUET2, from Marianne via Slack\n",
    "\n",
    "low = 27.28683043685168 \n",
    "med =  26.730266774836878 \n",
    "high = 25.134077660576438\n",
    "\n",
    "\n",
    "Ellipticals=  24.730938046220277\n",
    "Spirals= 23.678991406644993\n",
    "\n",
    "print('Ellipticals')\n",
    "for comp in [low, med, high]:\n",
    "    print(Ellipticals - comp)\n",
    "print()\n",
    "    \n",
    "print('Spirals')\n",
    "for comp in [low, med, high]:\n",
    "    print(Spirals - comp)\n",
    "\n",
    "\n"
   ]
  },
  {
   "cell_type": "code",
   "execution_count": null,
   "metadata": {},
   "outputs": [],
   "source": []
  }
 ],
 "metadata": {
  "kernelspec": {
   "display_name": "Python (duet)",
   "language": "python",
   "name": "duet"
  },
  "language_info": {
   "codemirror_mode": {
    "name": "ipython",
    "version": 3
   },
   "file_extension": ".py",
   "mimetype": "text/x-python",
   "name": "python",
   "nbconvert_exporter": "python",
   "pygments_lexer": "ipython3",
   "version": "3.6.7"
  }
 },
 "nbformat": 4,
 "nbformat_minor": 2
}
