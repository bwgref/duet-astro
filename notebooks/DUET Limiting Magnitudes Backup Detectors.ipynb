{
 "cells": [
  {
   "cell_type": "code",
   "execution_count": 3,
   "metadata": {},
   "outputs": [
    {
     "name": "stdout",
     "output_type": "stream",
     "text": [
      "The autoreload extension is already loaded. To reload it, use:\n",
      "  %reload_ext autoreload\n"
     ]
    }
   ],
   "source": [
    "import astropy.units as u\n",
    "from astroduet.duet_telescope import load_telescope_parameters\n",
    "from astroduet.duet_sensitivity import src_rate, bgd_sky_qe_rate, bgd_electronics, calc_exposure\n",
    "from astroduet.bbmag import bb_abmag_fluence\n",
    "import numpy as np\n",
    "from matplotlib import pyplot as plt\n",
    "from astroduet.bbmag import bb_abmag_fluence, bb_abmag\n",
    "\n",
    "import astroduet.config as config\n",
    "from astroduet.background import background_pixel_rate\n",
    "\n",
    "\n",
    "%load_ext autoreload\n",
    "%autoreload 2\n",
    "\n",
    "from astropy.visualization import quantity_support\n",
    "import matplotlib\n",
    "font = {'family' : 'normal',\n",
    "        'weight' : 'bold',\n",
    "        'size'   : 22}\n",
    "\n",
    "matplotlib.rc('font', **font)"
   ]
  },
  {
   "cell_type": "code",
   "execution_count": 4,
   "metadata": {},
   "outputs": [],
   "source": [
    "def calc_margin(ab1, ab2):\n",
    "    dmag = (ab1 - ab2)\n",
    "    flux_ratio = 10**(0.4*dmag)\n",
    "    margin = flux_ratio - 1.0\n",
    "    return margin\n",
    "\n",
    "\n",
    "def flux_ratio(ab1, ab2):\n",
    "    dmag = (ab1 - ab2)\n",
    "    flux_ratio = 10**(0.4*dmag)\n",
    "    return flux_ratio"
   ]
  },
  {
   "cell_type": "code",
   "execution_count": 5,
   "metadata": {},
   "outputs": [
    {
     "name": "stdout",
     "output_type": "stream",
     "text": [
      "\n",
      "\n",
      "B\n",
      "QE loss: 1.0\n",
      "Band1 900.0 s 5-σ magnitude limit: 22.43368761357837 mag(AB)\n",
      "Rates:  0.1396049959121671 ph / s 0.01753365098332382 ph / s\n",
      "41.88149877365013 ph 5.260095294997146 ph\n",
      "\n"
     ]
    }
   ],
   "source": [
    "\n",
    "# Band1\n",
    "# 5-sigma limiting magnitude in 3 stacked frames, CBE\n",
    "\n",
    "# Account for the fact that you're co-adding the two frames here:\n",
    "duet = config.Telescope()\n",
    "\n",
    "bandone = duet.bandpass1\n",
    "bandtwo = duet.bandpass2\n",
    "exposure = 300*u.s\n",
    "print()\n",
    "siglimit=5\n",
    "dmag = 0.01\n",
    "print()\n",
    "\n",
    "filter_type = 'B'\n",
    "for qe_loss in [1.0]: #, 0.8, 0.77, 0.7, 0.5, 0.4]:\n",
    "    print(filter_type)\n",
    "    [bgd_band1, bgd_band2] = background_pixel_rate(duet, low_zodi=True, filter_type=filter_type)\n",
    "    tot_bgd_rate = bgd_band1 * qe_loss\n",
    "\n",
    "    for nframes in [3]:\n",
    "        snr = 100\n",
    "        swiftmag = 20 \n",
    "        while snr > siglimit:\n",
    "            swiftmag += dmag\n",
    "            band1_fluence, band2_fluence = bb_abmag_fluence(duet =duet, swiftmag=swiftmag*u.ABmag, bbtemp=15e3*u.K, filter_type=filter_type)\n",
    "            band1_rate = duet.fluence_to_rate(band1_fluence)\n",
    "            band2_rate = duet.fluence_to_rate(band2_fluence)\n",
    "            src_rate = band1_rate * qe_loss\n",
    "\n",
    "            snr = duet.calc_snr(exposure, src_rate, tot_bgd_rate, nint=nframes)\n",
    "        bbmag1, bbmag2 = bb_abmag(swiftmag=swiftmag*u.ABmag, bbtemp=12e3*u.K, bandone = bandone, bandtwo=bandtwo) \n",
    "        \n",
    "        print('QE loss: {}'.format(qe_loss))\n",
    "        print('Band1 {} {}-σ magnitude limit: {}'.format(nframes*exposure, siglimit, bbmag1))\n",
    "        print('Rates: ', src_rate, tot_bgd_rate)\n",
    "        print(src_rate*exposure, tot_bgd_rate*exposure)\n",
    "        print()\n",
    "\n",
    "\n",
    "duet1_cbe_limit = bbmag1"
   ]
  },
  {
   "cell_type": "code",
   "execution_count": 6,
   "metadata": {},
   "outputs": [
    {
     "name": "stdout",
     "output_type": "stream",
     "text": [
      "\n",
      "\n",
      "B\n",
      "QE loss: 1.0\n",
      "Band2 900.0 s 5-σ magnitude limit: 21.76198025121982 mag(AB)\n",
      "Rates:  0.2429509268401836 ph / s 0.17922799624269026 ph / s\n",
      "72.88527805205509 ph 53.768398872807076 ph\n",
      "\n"
     ]
    }
   ],
   "source": [
    "\n",
    "# Band2\n",
    "# 5-sigma limiting magnitude in 3 stacked frames,  CBE\n",
    "\n",
    "duet = config.Telescope()\n",
    "bandone = duet.bandpass1\n",
    "bandtwo = duet.bandpass2\n",
    "exposure = 300*u.s\n",
    "print()\n",
    "siglimit=5\n",
    "dmag = 0.01\n",
    "print()\n",
    "filter_type = 'B'\n",
    "for qe_loss in [1.0]:#, 0.8, 0.77, 0.7, 0.5, 0.4]:\n",
    "    print(filter_type)\n",
    "    [bgd_band1, bgd_band2] = background_pixel_rate(duet, low_zodi=True, filter_type=filter_type)\n",
    "    tot_bgd_rate = bgd_band2 * qe_loss\n",
    "\n",
    "    for nframes in [3]:\n",
    "        snr = 100\n",
    "        swiftmag = 20 \n",
    "        while snr > siglimit:\n",
    "            swiftmag += dmag\n",
    "            band1_fluence, band2_fluence = bb_abmag_fluence(duet =duet, swiftmag=swiftmag*u.ABmag, bbtemp=15e3*u.K, filter_type=filter_type)\n",
    "            band1_rate = duet.fluence_to_rate(band1_fluence)\n",
    "            band2_rate = duet.fluence_to_rate(band2_fluence)\n",
    "            src_rate = band2_rate * qe_loss\n",
    "\n",
    "            snr = duet.calc_snr(exposure, src_rate, tot_bgd_rate, nint=nframes)\n",
    "        bbmag1, bbmag2 = bb_abmag(swiftmag=swiftmag*u.ABmag, bbtemp=15e3*u.K, bandone = bandone, bandtwo=bandtwo)        \n",
    "        print('QE loss: {}'.format(qe_loss))\n",
    "        print('Band2 {} {}-σ magnitude limit: {}'.format(nframes*exposure, siglimit, bbmag2))\n",
    "        print('Rates: ', src_rate, tot_bgd_rate)\n",
    "        print(src_rate*exposure, tot_bgd_rate*exposure)\n",
    "        print()\n",
    "\n",
    "\n",
    "\n",
    "duet2_cbe_limit = bbmag2"
   ]
  },
  {
   "cell_type": "code",
   "execution_count": 7,
   "metadata": {},
   "outputs": [
    {
     "name": "stdout",
     "output_type": "stream",
     "text": [
      "\n",
      "\n",
      "B\n",
      "Band1 900.0 s 5-σ magnitude limit: 21.59368761357824 mag(AB)\n",
      "\n",
      "Margin: 1.1677041048199568\n",
      "Flux Ratio: 2.167704104819957\n"
     ]
    }
   ],
   "source": [
    "\n",
    "# Band1\n",
    "# 5-sigma limiting magnitude in 3 stacked frames for 2.3x QE drop\n",
    "\n",
    "duet = config.Telescope()\n",
    "\n",
    "bandone = duet.bandpass1\n",
    "bandtwo = duet.bandpass2\n",
    "exposure = 300*u.s\n",
    "print()\n",
    "siglimit=5\n",
    "dmag = 0.01\n",
    "print()\n",
    "\n",
    "filter_type = 'B'\n",
    "for qe_loss in [1/2.3]:\n",
    "    print(filter_type)\n",
    "    [bgd_band1, bgd_band2] = background_pixel_rate(duet, low_zodi=True, filter_type=filter_type)\n",
    "    tot_bgd_rate = bgd_band1 * qe_loss\n",
    "\n",
    "    for nframes in [3]:\n",
    "        snr = 100\n",
    "        swiftmag = 20 \n",
    "        while snr > siglimit:\n",
    "            swiftmag += dmag\n",
    "            band1_fluence, band2_fluence = bb_abmag_fluence(duet =duet, swiftmag=swiftmag*u.ABmag, bbtemp=15e3*u.K, filter_type=filter_type)\n",
    "            band1_rate = duet.fluence_to_rate(band1_fluence)\n",
    "            band2_rate = duet.fluence_to_rate(band2_fluence)\n",
    "            src_rate = band1_rate * qe_loss\n",
    "\n",
    "            snr = duet.calc_snr(exposure, src_rate, tot_bgd_rate, nint=nframes)\n",
    "        bbmag1, bbmag2 = bb_abmag(swiftmag=swiftmag*u.ABmag, bbtemp=12e3*u.K, bandone = bandone, bandtwo=bandtwo) \n",
    "        \n",
    "        print('Band1 {} {}-σ magnitude limit: {}'.format(nframes*exposure, siglimit, bbmag1))\n",
    "        print()\n",
    "\n",
    "\n",
    "\n",
    "print('Margin: {}'.format(calc_margin(duet1_cbe_limit.value, bbmag1.value)))\n",
    "print('Flux Ratio: {}'.format(flux_ratio(duet1_cbe_limit.value, bbmag1.value)))\n"
   ]
  },
  {
   "cell_type": "code",
   "execution_count": 9,
   "metadata": {},
   "outputs": [
    {
     "name": "stdout",
     "output_type": "stream",
     "text": [
      "\n",
      "\n",
      "B\n",
      "Band1 900.0 s 5-σ magnitude limit: 20.809882231071313 mag(AB)\n",
      "\n",
      "Margin: 1.403472780404536\n",
      "Flux Ratio: 2.403472780404536\n"
     ]
    }
   ],
   "source": [
    "\n",
    "# Band2\n",
    "# 5-sigma limiting magnitude in 3 stacked frames for 2.3x QE drop\n",
    "\n",
    "duet = config.Telescope()\n",
    "\n",
    "bandone = duet.bandpass1\n",
    "bandtwo = duet.bandpass2\n",
    "exposure = 300*u.s\n",
    "print()\n",
    "siglimit=5\n",
    "dmag = 0.01\n",
    "print()\n",
    "\n",
    "filter_type = 'B'\n",
    "for qe_loss in [1/2.3]:\n",
    "    print(filter_type)\n",
    "    [bgd_band1, bgd_band2] = background_pixel_rate(duet, low_zodi=True, filter_type=filter_type)\n",
    "    tot_bgd_rate = bgd_band2 * qe_loss\n",
    "\n",
    "    for nframes in [3]:\n",
    "        snr = 100\n",
    "        swiftmag = 20 \n",
    "        while snr > siglimit:\n",
    "            swiftmag += dmag\n",
    "            band1_fluence, band2_fluence = bb_abmag_fluence(duet =duet, swiftmag=swiftmag*u.ABmag, bbtemp=15e3*u.K, filter_type=filter_type)\n",
    "            band1_rate = duet.fluence_to_rate(band1_fluence)\n",
    "            band2_rate = duet.fluence_to_rate(band2_fluence)\n",
    "            src_rate = band2_rate * qe_loss\n",
    "\n",
    "            snr = duet.calc_snr(exposure, src_rate, tot_bgd_rate, nint=nframes)\n",
    "        bbmag1, bbmag2 = bb_abmag(swiftmag=swiftmag*u.ABmag, bbtemp=12e3*u.K, bandone = bandone, bandtwo=bandtwo) \n",
    "        \n",
    "        print('Band1 {} {}-σ magnitude limit: {}'.format(nframes*exposure, siglimit, bbmag2))\n",
    "        print()\n",
    "\n",
    "\n",
    "\n",
    "print('Margin: {}'.format(calc_margin(duet2_cbe_limit.value, bbmag2.value)))\n",
    "print('Flux Ratio: {}'.format(flux_ratio(duet2_cbe_limit.value, bbmag2.value)))\n",
    "\n",
    "\n",
    "\n",
    "\n"
   ]
  },
  {
   "cell_type": "code",
   "execution_count": null,
   "metadata": {},
   "outputs": [],
   "source": []
  }
 ],
 "metadata": {
  "anaconda-cloud": {},
  "kernelspec": {
   "display_name": "Python 3",
   "language": "python",
   "name": "python3"
  },
  "language_info": {
   "codemirror_mode": {
    "name": "ipython",
    "version": 3
   },
   "file_extension": ".py",
   "mimetype": "text/x-python",
   "name": "python",
   "nbconvert_exporter": "python",
   "pygments_lexer": "ipython3",
   "version": "3.6.7"
  }
 },
 "nbformat": 4,
 "nbformat_minor": 2
}
