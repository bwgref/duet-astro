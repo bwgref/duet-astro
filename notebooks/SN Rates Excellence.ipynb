{
 "cells": [
  {
   "cell_type": "code",
   "execution_count": 10,
   "metadata": {},
   "outputs": [],
   "source": [
    "from astropy import units as u\n",
    "from numpy import pi"
   ]
  },
  {
   "cell_type": "code",
   "execution_count": 11,
   "metadata": {},
   "outputs": [],
   "source": [
    "fov = 2*(56 * u.deg * u.deg).to(u.sr).value\n",
    "frac_sky = fov / (4*pi)"
   ]
  },
  {
   "cell_type": "code",
   "execution_count": 12,
   "metadata": {},
   "outputs": [],
   "source": [
    "rate = 0.447e-04 # per Mpc / year"
   ]
  },
  {
   "cell_type": "code",
   "execution_count": 28,
   "metadata": {},
   "outputs": [],
   "source": [
    "sn_types = {}\n",
    "sn_types['iip'] = {'fraction':0.7}\n",
    "sn_types['iib'] = {'fraction':0.12}\n",
    "sn_types['iin'] = {'fraction':0.09}\n",
    "sn_types['iiL'] = {'fraction':0.10}"
   ]
  },
  {
   "cell_type": "code",
   "execution_count": 34,
   "metadata": {},
   "outputs": [
    {
     "name": "stdout",
     "output_type": "stream",
     "text": [
      "iip 2.846735080784332\n",
      "iib 0.4880117281344569\n",
      "iin 0.3660087961008427\n",
      "iiL 0.4066764401120475\n"
     ]
    }
   ],
   "source": [
    "# With good lightcurves\n",
    "dist = 200\n",
    "vol = (4/3)*pi*(dist)**3\n",
    "for sn_type in sn_types:\n",
    "    frac = sn_types[sn_type]['fraction']\n",
    "    print(sn_type, vol*frac_sky*rate*frac)\n",
    "\n"
   ]
  },
  {
   "cell_type": "code",
   "execution_count": 35,
   "metadata": {},
   "outputs": [
    {
     "name": "stdout",
     "output_type": "stream",
     "text": [
      "iip 22.773880646274655\n",
      "iib 3.9040938250756554\n",
      "iin 2.9280703688067415\n",
      "iiL 3.25341152089638\n"
     ]
    }
   ],
   "source": [
    "# With good lightcurves\n",
    "dist = 400\n",
    "vol = (4/3)*pi*(dist)**3\n",
    "for sn_type in sn_types:\n",
    "    frac = sn_types[sn_type]['fraction']\n",
    "    print(sn_type, vol*frac_sky*rate*frac)\n"
   ]
  },
  {
   "cell_type": "code",
   "execution_count": 36,
   "metadata": {},
   "outputs": [
    {
     "name": "stdout",
     "output_type": "stream",
     "text": [
      "iip 76.86184718117697\n",
      "iib 13.176316659630338\n",
      "iin 9.882237494722753\n",
      "iiL 10.980263883025282\n"
     ]
    }
   ],
   "source": [
    "# With good lightcurves\n",
    "dist = 600\n",
    "vol = (4/3)*pi*(dist)**3\n",
    "for sn_type in sn_types:\n",
    "    frac = sn_types[sn_type]['fraction']\n",
    "    print(sn_type, vol*frac_sky*rate*frac)\n",
    "\n"
   ]
  },
  {
   "cell_type": "code",
   "execution_count": 14,
   "metadata": {},
   "outputs": [
    {
     "name": "stdout",
     "output_type": "stream",
     "text": [
      "630.9573444801929\n"
     ]
    },
    {
     "data": {
      "text/plain": [
       "127.69062899150858"
      ]
     },
     "execution_count": 14,
     "metadata": {},
     "output_type": "execute_result"
    }
   ],
   "source": [
    "abs_mag = -17\n",
    "limit = 22\n",
    "dist = 10**((limit - abs_mag)/5) * 10/1e6\n",
    "print(dist)\n",
    "vol = (4/3)*pi*(dist)**3\n",
    "vol*frac_sky*rate"
   ]
  },
  {
   "cell_type": "code",
   "execution_count": null,
   "metadata": {},
   "outputs": [],
   "source": []
  }
 ],
 "metadata": {
  "kernelspec": {
   "display_name": "Python (duet)",
   "language": "python",
   "name": "duet"
  },
  "language_info": {
   "codemirror_mode": {
    "name": "ipython",
    "version": 3
   },
   "file_extension": ".py",
   "mimetype": "text/x-python",
   "name": "python",
   "nbconvert_exporter": "python",
   "pygments_lexer": "ipython3",
   "version": "3.6.7"
  }
 },
 "nbformat": 4,
 "nbformat_minor": 2
}
