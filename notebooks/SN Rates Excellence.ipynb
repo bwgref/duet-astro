{
 "cells": [
  {
   "cell_type": "code",
   "execution_count": 2,
   "metadata": {},
   "outputs": [],
   "source": [
    "from astropy import units as u\n",
    "from numpy import pi\n",
    "import numpy as np"
   ]
  },
  {
   "cell_type": "code",
   "execution_count": 3,
   "metadata": {},
   "outputs": [],
   "source": [
    "fov = 2*(56 * u.deg * u.deg).to(u.sr).value\n",
    "frac_sky = fov / (4*pi)"
   ]
  },
  {
   "cell_type": "code",
   "execution_count": 4,
   "metadata": {},
   "outputs": [],
   "source": [
    "rate = 0.447e-04 # per Mpc / year"
   ]
  },
  {
   "cell_type": "code",
   "execution_count": 5,
   "metadata": {},
   "outputs": [],
   "source": [
    "sn_types = {}\n",
    "sn_types['iip'] = {'fraction':0.7}\n",
    "sn_types['iib'] = {'fraction':0.12}\n",
    "sn_types['iin'] = {'fraction':0.09}\n",
    "sn_types['iiL'] = {'fraction':0.10}"
   ]
  },
  {
   "cell_type": "code",
   "execution_count": 6,
   "metadata": {},
   "outputs": [
    {
     "name": "stdout",
     "output_type": "stream",
     "text": [
      "iip 2.846735080784332\n",
      "iib 0.4880117281344569\n",
      "iin 0.3660087961008427\n",
      "iiL 0.4066764401120475\n"
     ]
    }
   ],
   "source": [
    "# With good colors\n",
    "dist = 200\n",
    "vol = (4/3)*pi*(dist)**3\n",
    "for sn_type in sn_types:\n",
    "    frac = sn_types[sn_type]['fraction']\n",
    "    print(sn_type, vol*frac_sky*rate*frac)"
   ]
  },
  {
   "cell_type": "code",
   "execution_count": 7,
   "metadata": {},
   "outputs": [
    {
     "name": "stdout",
     "output_type": "stream",
     "text": [
      "iip 27.31642471072934\n",
      "iib 4.6828156646964585\n",
      "iin 3.5121117485223436\n",
      "iiL 3.9023463872470487\n"
     ]
    }
   ],
   "source": [
    "# With good radius measurements, RSG 400\n",
    "\n",
    "dist = 425\n",
    "vol = (4/3)*pi*(dist)**3\n",
    "for sn_type in sn_types:\n",
    "    frac = sn_types[sn_type]['fraction']\n",
    "    print(sn_type, vol*frac_sky*rate*frac)"
   ]
  },
  {
   "cell_type": "code",
   "execution_count": 8,
   "metadata": {},
   "outputs": [
    {
     "name": "stdout",
     "output_type": "stream",
     "text": [
      "iip 56.032286595078006\n",
      "iib 9.605534844870515\n",
      "iin 7.2041511336528865\n",
      "iiL 8.00461237072543\n"
     ]
    }
   ],
   "source": [
    "# With good radius measurements, RSG 600\n",
    "dist = 540\n",
    "vol = (4/3)*pi*(dist)**3\n",
    "for sn_type in sn_types:\n",
    "    frac = sn_types[sn_type]['fraction']\n",
    "    print(sn_type, vol*frac_sky*rate*frac)"
   ]
  },
  {
   "cell_type": "code",
   "execution_count": 9,
   "metadata": {},
   "outputs": [
    {
     "name": "stdout",
     "output_type": "stream",
     "text": [
      "To get 10 of Type: iip 367.5686340588457 Mpc\n",
      "To get 3 of Type: iib 442.9463499651915 Mpc\n",
      "To get 3 of Type: iin 487.52554091616037 Mpc\n",
      "To get 3 of Type: iiL 470.7007344786705 Mpc\n"
     ]
    }
   ],
   "source": [
    "# Turn this around, required distance to get out to at least this number of Type IIP's\n",
    "required_numbers = [10, 3, 3, 3]\n",
    "\n",
    "for sn_type,req_num in zip(sn_types, required_numbers):\n",
    "    req_vol = req_num / (frac_sky * rate * sn_types[sn_type]['fraction'])\n",
    "    req_dist = (3/4)*req_vol**(1/3) * u.Mpc\n",
    "    print('To get {} of Type: '.format(req_num)+sn_type, req_dist)"
   ]
  },
  {
   "cell_type": "code",
   "execution_count": 10,
   "metadata": {},
   "outputs": [
    {
     "name": "stdout",
     "output_type": "stream",
     "text": [
      "22.36372437988848 mag\n"
     ]
    }
   ],
   "source": [
    "# Handwavy version:\n",
    "from astropy.coordinates import Distance\n",
    "\n",
    "dist = Distance(req_dist)\n",
    "\n",
    "# # For RSG in the shock cooling phase, want to get to an absolute magnitude of -16 to get \"good\" lightcurves\n",
    "abs_mag = -16*u.mag\n",
    "# # At required distance, this becomes the thing you want to get 5-sigma sensitivity for:\n",
    "apparent_mag = abs_mag + dist.distmod\n",
    "print(apparent_mag)\n",
    "\n",
    "# So, required to have 5-sigma sensitivity in a 5-exposure average (in DUET1?) for threshold\n"
   ]
  },
  {
   "cell_type": "code",
   "execution_count": 11,
   "metadata": {},
   "outputs": [
    {
     "name": "stdout",
     "output_type": "stream",
     "text": [
      "To get 30 of Type: iip 530.1257045298513 Mpc\n",
      "To get 5 of Type: iib 525.1709688131672 Mpc\n",
      "To get 5 of Type: iin 578.0254440841957 Mpc\n",
      "To get 5 of Type: iiL 558.0774302952459 Mpc\n"
     ]
    }
   ],
   "source": [
    "# Turn this around, required distance to get out to at least this number of Type IIP's\n",
    "required_numbers = [30, 5, 5, 5]\n",
    "\n",
    "for sn_type,req_num in zip(sn_types, required_numbers):\n",
    "    req_vol = req_num / (frac_sky * rate * sn_types[sn_type]['fraction'])\n",
    "    req_dist = (3/4)*req_vol**(1/3) * u.Mpc\n",
    "    print('To get {} of Type: '.format(req_num)+sn_type, req_dist)"
   ]
  },
  {
   "cell_type": "code",
   "execution_count": 12,
   "metadata": {},
   "outputs": [],
   "source": [
    "\n",
    "\n",
    "number = []\n",
    "dists = np.arange(30, 800, 10)\n",
    "f = open('supernova_number.txt', 'w')\n",
    "for d in dists:\n",
    "    vol = (4/3)*pi*(d)**3\n",
    "    outstring = '{} '.format(d)\n",
    "    for sn_type in sn_types:\n",
    "        frac = sn_types[sn_type]['fraction']\n",
    "        outstring += '{} '.format(vol*frac_sky*rate*frac)\n",
    "    f.write(outstring+'\\n')\n",
    "f.close()\n",
    "\n",
    "\n",
    "\n",
    "    "
   ]
  },
  {
   "cell_type": "code",
   "execution_count": 42,
   "metadata": {},
   "outputs": [
    {
     "name": "stdout",
     "output_type": "stream",
     "text": [
      "Mean dist for CBE RSG:  482.5\n",
      "Number of RSG within CBE min: 27.316424710729343\n",
      "Number of RSG within CBE max: 56.03228659507801\n",
      "Number of RSG within mean dist:  39.97136867120736\n",
      "\n",
      "Req R_400 dist: 355.5805112769821\n",
      "Mean dist for Req RSG: 403.68846280269145\n",
      "Req R_600 dist: 451.79641432840083\n",
      "\n",
      "Number of RSG within Req min: 15.998192436306423\n",
      "Number of RSG within Req mean: 23.409712461138966\n",
      "Number of RSG within Req max: 32.815982072582024\n"
     ]
    }
   ],
   "source": [
    "# Horizon scaling for RSG's\n",
    "\n",
    "min_dist = 425\n",
    "max_dist = 540\n",
    "\n",
    "frac =  sn_types['iip']['fraction']\n",
    "vol = (4/3)*pi*(min_dist)**3\n",
    "print('Mean dist for CBE RSG: ', mean_dist)\n",
    "print('Number of RSG within CBE min:', frac*vol*frac_sky*rate)\n",
    "vol = (4/3)*pi*(max_dist)**3\n",
    "\n",
    "\n",
    "print('Number of RSG within CBE max:', frac*vol*frac_sky*rate)\n",
    "vol = (4/3)*pi*(mean_dist)**3\n",
    "\n",
    "\n",
    "print('Number of RSG within mean dist: ' ,frac*vol*frac_sky*rate)\n",
    "\n",
    "\n",
    "print()\n",
    "mean_dist = (min_dist + max_dist)*0.5\n",
    "\n",
    "flux_loss = 0.7\n",
    "distance_loss = 1 / np.sqrt(flux_loss)\n",
    "new_min_dist = min_dist/ distance_loss\n",
    "new_max_dist = max_dist/ distance_loss\n",
    "\n",
    "new_mean = (new_min_dist + new_max_dist)*0.5\n",
    "\n",
    "\n",
    "\n",
    "print('Req R_400 dist: {}'.format(new_min_dist))\n",
    "print('Mean dist for Req RSG: {}'.format(new_mean))\n",
    "print('Req R_600 dist: {}'.format(new_max_dist))\n",
    "\n",
    "print()\n",
    "vol = (4/3)*pi*(new_min_dist)**3\n",
    "print('Number of RSG within Req min:', frac*vol*frac_sky*rate)\n",
    "\n",
    "\n",
    "\n",
    "vol = (4/3)*pi*(new_mean)**3\n",
    "print('Number of RSG within Req mean:', frac*vol*frac_sky*rate)\n",
    "\n",
    "\n",
    "\n",
    "vol = (4/3)*pi*(new_max_dist)**3\n",
    "print('Number of RSG within Req max:', frac*vol*frac_sky*rate)\n",
    "\n",
    "\n",
    "\n",
    "      \n",
    "      \n"
   ]
  },
  {
   "cell_type": "code",
   "execution_count": 25,
   "metadata": {},
   "outputs": [
    {
     "name": "stdout",
     "output_type": "stream",
     "text": [
      "Mean dist for CBE YSG:  133.0\n",
      "Req YSG_150  dist: 55.21956175124899\n",
      "Req YSG_400 dist: 167.33200530681512\n",
      "Mean dist for Req YSG: 111.27578352903205\n"
     ]
    }
   ],
   "source": [
    "# Horizon scaling for YSG's\n",
    "\n",
    "min_dist = 66\n",
    "max_dist = 200\n",
    "\n",
    "mean_dist = (min_dist + max_dist)*0.5\n",
    "print('Mean dist for CBE YSG: ', mean_dist)\n",
    "\n",
    "flux_loss = 0.7\n",
    "distance_loss = 1 / np.sqrt(flux_loss)\n",
    "new_min_dist = min_dist/ distance_loss\n",
    "print\n",
    "print('Req YSG_150  dist: {}'.format(new_min_dist))\n",
    "new_max_dist = max_dist/ distance_loss\n",
    "print('Req YSG_400 dist: {}'.format(new_max_dist))\n",
    "\n",
    "new_mean = (new_min_dist + new_max_dist)*0.5\n",
    "\n",
    "print('Mean dist for Req YSG: {}'.format(new_mean))\n",
    "\n",
    "      "
   ]
  },
  {
   "cell_type": "code",
   "execution_count": null,
   "metadata": {},
   "outputs": [],
   "source": []
  }
 ],
 "metadata": {
  "kernelspec": {
   "display_name": "Python (duet)",
   "language": "python",
   "name": "duet"
  },
  "language_info": {
   "codemirror_mode": {
    "name": "ipython",
    "version": 3
   },
   "file_extension": ".py",
   "mimetype": "text/x-python",
   "name": "python",
   "nbconvert_exporter": "python",
   "pygments_lexer": "ipython3",
   "version": "3.6.7"
  }
 },
 "nbformat": 4,
 "nbformat_minor": 2
}
