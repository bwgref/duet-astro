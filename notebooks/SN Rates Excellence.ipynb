{
 "cells": [
  {
   "cell_type": "code",
   "execution_count": 1,
   "metadata": {},
   "outputs": [],
   "source": [
    "from astropy import units as u\n",
    "from numpy import pi"
   ]
  },
  {
   "cell_type": "code",
   "execution_count": 55,
   "metadata": {},
   "outputs": [],
   "source": [
    "fov = 2*(56 * u.deg * u.deg).to(u.sr).value\n",
    "frac_sky = fov / (4*pi)"
   ]
  },
  {
   "cell_type": "code",
   "execution_count": 3,
   "metadata": {},
   "outputs": [],
   "source": [
    "rate = 0.447e-04 # per Mpc / year"
   ]
  },
  {
   "cell_type": "code",
   "execution_count": 4,
   "metadata": {},
   "outputs": [],
   "source": [
    "sn_types = {}\n",
    "sn_types['iip'] = {'fraction':0.7}\n",
    "sn_types['iib'] = {'fraction':0.12}\n",
    "sn_types['iin'] = {'fraction':0.09}\n",
    "sn_types['iiL'] = {'fraction':0.10}"
   ]
  },
  {
   "cell_type": "code",
   "execution_count": 15,
   "metadata": {},
   "outputs": [
    {
     "name": "stdout",
     "output_type": "stream",
     "text": [
      "iip 2.846735080784332\n",
      "iib 0.4880117281344569\n",
      "iin 0.3660087961008427\n",
      "iiL 0.4066764401120475\n"
     ]
    }
   ],
   "source": [
    "# With good colors\n",
    "dist = 200\n",
    "vol = (4/3)*pi*(dist)**3\n",
    "for sn_type in sn_types:\n",
    "    frac = sn_types[sn_type]['fraction']\n",
    "    print(sn_type, vol*frac_sky*rate*frac)"
   ]
  },
  {
   "cell_type": "code",
   "execution_count": 16,
   "metadata": {},
   "outputs": [
    {
     "name": "stdout",
     "output_type": "stream",
     "text": [
      "iip 22.773880646274655\n",
      "iib 3.9040938250756554\n",
      "iin 2.9280703688067415\n",
      "iiL 3.25341152089638\n"
     ]
    }
   ],
   "source": [
    "# With good colors\n",
    "dist = 400\n",
    "vol = (4/3)*pi*(dist)**3\n",
    "for sn_type in sn_types:\n",
    "    frac = sn_types[sn_type]['fraction']\n",
    "    print(sn_type, vol*frac_sky*rate*frac)"
   ]
  },
  {
   "cell_type": "code",
   "execution_count": 17,
   "metadata": {},
   "outputs": [
    {
     "name": "stdout",
     "output_type": "stream",
     "text": [
      "iip 76.86184718117697\n",
      "iib 13.176316659630338\n",
      "iin 9.882237494722753\n",
      "iiL 10.980263883025282\n"
     ]
    }
   ],
   "source": [
    "# With good lightcurves\n",
    "dist = 600\n",
    "vol = (4/3)*pi*(dist)**3\n",
    "for sn_type in sn_types:\n",
    "    frac = sn_types[sn_type]['fraction']\n",
    "    print(sn_type, vol*frac_sky*rate*frac)"
   ]
  },
  {
   "cell_type": "code",
   "execution_count": 56,
   "metadata": {},
   "outputs": [
    {
     "name": "stdout",
     "output_type": "stream",
     "text": [
      "To get 10 of Type: iip 367.5686340588457 Mpc\n",
      "To get 3 of Type: iib 442.9463499651915 Mpc\n",
      "To get 3 of Type: iin 487.52554091616037 Mpc\n",
      "To get 3 of Type: iiL 470.7007344786705 Mpc\n"
     ]
    }
   ],
   "source": [
    "# Turn this around, required distance to get out to at least this number of Type IIP's\n",
    "required_numbers = [10, 3, 3, 3]\n",
    "\n",
    "for sn_type,req_num in zip(sn_types, required_numbers):\n",
    "    req_vol = req_num / (frac_sky * rate * sn_types[sn_type]['fraction'])\n",
    "    req_dist = (3/4)*req_vol**(1/3) * u.Mpc\n",
    "    print('To get {} of Type: '.format(req_num)+sn_type, req_dist)"
   ]
  },
  {
   "cell_type": "code",
   "execution_count": 36,
   "metadata": {},
   "outputs": [
    {
     "name": "stdout",
     "output_type": "stream",
     "text": [
      "21.826692221998606 mag\n"
     ]
    }
   ],
   "source": [
    "# Handwavy version:\n",
    "from astropy.coordinates import Distance\n",
    "\n",
    "dist = Distance(req_dist)\n",
    "\n",
    "# # For RSG in the shock cooling phase, want to get to an absolute magnitude of -16 to get \"good\" lightcurves\n",
    "abs_mag = -16*u.mag\n",
    "# # At required distance, this becomes the thing you want to get 5-sigma sensitivity for:\n",
    "apparent_mag = abs_mag + dist.distmod\n",
    "print(apparent_mag)\n",
    "\n",
    "# So, required to have 5-sigma sensitivity in a 5-exposure average (in DUET1?) for threshold\n"
   ]
  },
  {
   "cell_type": "code",
   "execution_count": null,
   "metadata": {},
   "outputs": [],
   "source": []
  }
 ],
 "metadata": {
  "kernelspec": {
   "display_name": "Python (duet)",
   "language": "python",
   "name": "duet"
  },
  "language_info": {
   "codemirror_mode": {
    "name": "ipython",
    "version": 3
   },
   "file_extension": ".py",
   "mimetype": "text/x-python",
   "name": "python",
   "nbconvert_exporter": "python",
   "pygments_lexer": "ipython3",
   "version": "3.6.7"
  }
 },
 "nbformat": 4,
 "nbformat_minor": 2
}
