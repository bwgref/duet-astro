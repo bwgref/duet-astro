{
 "cells": [
  {
   "cell_type": "code",
   "execution_count": null,
   "metadata": {},
   "outputs": [],
   "source": [
    "%load_ext autoreload\n",
    "%autoreload 2\n",
    "%matplotlib inline\n",
    "\n",
    "import seaborn as sns\n",
    "import matplotlib.pyplot as plt\n",
    "from astropy.table import Table\n",
    "import copy\n",
    "from astroduet.models import Simulations\n",
    "from matplotlib import rcParams\n",
    "import numpy as np\n",
    "rcParams.update({'font.size': 18})"
   ]
  },
  {
   "cell_type": "code",
   "execution_count": null,
   "metadata": {},
   "outputs": [],
   "source": [
    "table = Table.read('monte_carlo.csv')\n",
    "\n",
    "models = list(table['model'])\n",
    "# models = [m + '0' if (m.startswith('rsg') or m.startswith('ysg')) else m for m in models]\n",
    "table['model'] = models\n",
    "# table.write('monte_carlo_corr.csv')\n",
    "\n",
    "good_chisq = (table['D2_chisq'] < 1e32) & (table['D1_chisq'] < 1e32)\n",
    "table['best_chisq'] = good_chisq\n",
    "good_chisq = (table['D1_chisq'] < 1e32)\n",
    "table['good_chisq'] = good_chisq\n",
    "# table['valid_fit'] = (table['D1_chisq'] > 0) & (table['D2_chisq'] > 0) & (table['ngood'] > 5)\n",
    "table['valid_fit'] = (table['D1_chisq'] > 0) & (table['ngood'] > 5)\n",
    "table['rejected'] = ~(table['good_chisq']&table['valid_fit'])\n",
    "table['fit_model'] = [s.replace('.dat', '') for s in table['fit_model']]\n",
    "\n",
    "faint_galaxy = (table['magnitude'] > 27) | (table['magnitude'] == 0)\n",
    "table['galaxy'][table['galaxy'] != \"none\"] = [str(i) for i in table['magnitude'][table['galaxy'] != \"none\"].astype(int)]\n",
    "\n",
    "table.sort('galaxy')\n",
    "# table = table[~table['rejected']]\n",
    "# table = table[good]"
   ]
  },
  {
   "cell_type": "code",
   "execution_count": null,
   "metadata": {},
   "outputs": [],
   "source": [
    "table"
   ]
  },
  {
   "cell_type": "code",
   "execution_count": null,
   "metadata": {},
   "outputs": [],
   "source": [
    "set(table['model'][~table['rejected']])\n",
    "table"
   ]
  },
  {
   "cell_type": "code",
   "execution_count": null,
   "metadata": {},
   "outputs": [],
   "source": [
    "plt.figure(figsize=(10, 8))\n",
    "sns.pairplot(table[~table['rejected']&(table['galaxy'] != 'none')].to_pandas(), \n",
    "             hue='fit_model', \n",
    "             vars='D1_chisq,D2_chisq,distance,magnitude'.split(','));"
   ]
  },
  {
   "cell_type": "code",
   "execution_count": null,
   "metadata": {
    "scrolled": false
   },
   "outputs": [],
   "source": [
    "plt.figure(figsize=(10, 8))\n",
    "sns.pairplot(table[~table['rejected']&(table['model'] == 'bsg20')].to_pandas(), \n",
    "             hue='fit_model', \n",
    "             vars='D1_chisq,D2_chisq,distance'.split(','),\n",
    "                 plot_kws=dict(edgecolor=None, size=0.5, alpha=0.5));"
   ]
  },
  {
   "cell_type": "code",
   "execution_count": null,
   "metadata": {
    "scrolled": false
   },
   "outputs": [],
   "source": [
    "threshold_ngood = 100\n",
    "for model in sorted(set(table['model'])):\n",
    "    plt.figure(figsize=(10, 8))\n",
    "    print(model)\n",
    "    good = table['model'] == model\n",
    "    table_filt = table[good]\n",
    "    good_galaxy = table_filt['galaxy'] == 'none'\n",
    "    print(np.count_nonzero(table_filt[good_galaxy]['ngood'] > threshold_ngood) / len(table_filt[good_galaxy]) )\n",
    "    sns.pairplot(table_filt.to_pandas(), hue='galaxy', \n",
    "                 vars='ngood,distance'.split(','),\n",
    "                 plot_kws=dict(edgecolor=None, size=0.5, alpha=0.5));"
   ]
  },
  {
   "cell_type": "code",
   "execution_count": null,
   "metadata": {
    "scrolled": true
   },
   "outputs": [],
   "source": [
    "from astropy.table import Table, QTable\n",
    "from tqdm import tqdm\n",
    "import numpy as np\n",
    "import re\n",
    "radius_re = re.compile(r'sg([0-9]+)[^0-9]*')\n",
    "\n",
    "\n",
    "def get_radius(newtable, all_models=None, all_fit_models=None):\n",
    "    all_models_in_table = list(set(table_filtered['model']))\n",
    "    all_fit_models_in_table = list(set(table_filtered['fit_model']))\n",
    " \n",
    "    if all_fit_models is None:\n",
    "        all_fit_models = all_fit_models_in_table\n",
    "    if all_models is None:\n",
    "        all_models = all_models_in_table\n",
    "   \n",
    "    radius_real = [radius_re.search(m).group(1) for m in all_models_in_table]\n",
    "    radius_fit = [radius_re.search(m).group(1) for m in all_fit_models_in_table]\n",
    "    \n",
    "    newtable['radius'] = 0.\n",
    "    newtable['fit_radius'] = 0.\n",
    "    \n",
    "    for r, m in zip(radius_real, all_models):\n",
    "        good = newtable['model'] == m\n",
    "        newtable['radius'][good] = r\n",
    "\n",
    "    for r, m in zip(radius_fit, all_fit_models):\n",
    "        good = newtable['fit_model'] == m\n",
    "        newtable['fit_radius'][good] = r\n",
    "        \n",
    "    return newtable\n",
    "\n",
    "\n",
    "def rearrange_table(table_filtered, quantity_to_compare, group_by='distance',\n",
    "                    all_models=None,\n",
    "                    all_fit_models=None, calculate_radius=False):\n",
    "    t = table_filtered.group_by(group_by)\n",
    "    standard_quantities = 'model,galaxy,final_resolution,distance,ngood,rejected,galaxy'.split(',')\n",
    "\n",
    "    newtable = QTable(t[standard_quantities].groups.aggregate(lambda arr: arr[0]))\n",
    "    \n",
    "    for model_fit in tqdm(all_fit_models):\n",
    "        values = [sub[quantity_to_compare][sub['fit_model'] == model_fit][0] for sub in t.groups]\n",
    "        newtable[model_fit] = values\n",
    "    \n",
    "    if calculate_radius:\n",
    "        newtable = get_radius(newtable)\n",
    "        radius_distance = newtable['fit_radius'] - newtable['radius']\n",
    "    \n",
    "    newtable['correct_model'] = 0\n",
    "  \n",
    "    best_fit_is_correct = np.zeros(len(newtable), dtype=int)\n",
    "    for model_fit in tqdm(all_fit_models):\n",
    "        other_models = [m for m in all_models if m != model_fit]\n",
    "        this_model_is_best = np.ones(len(newtable), dtype=bool)\n",
    "        for m in other_models:\n",
    "            if m not in newtable.colnames:\n",
    "                continue\n",
    "            this_model_is_best = newtable[model_fit] < newtable[m]\n",
    "        best_fit_is_correct += this_model_is_best&(model_fit == newtable['model'])\n",
    "\n",
    "    newtable['correct_model'] = best_fit_is_correct\n",
    "    return newtable\n",
    "\n",
    "def measure_radius_error(table_filtered, group_by='distance',\n",
    "                    all_models=None, quantity_to_compare='D1_chisq',\n",
    "                    all_fit_models=None, calculate_radius=False):\n",
    "\n",
    "    newtable = get_radius(copy.deepcopy(table_filtered))\n",
    "    newtable = newtable[newtable[quantity_to_compare] > 0]\n",
    "    newtable['radius_err'] = newtable['fit_radius'] - newtable['radius']\n",
    "    newtable['radius_err_rel'] = newtable['radius_err'] / newtable['radius']\n",
    "    newtable['quantity_to_compare'] = quantity_to_compare\n",
    "    \n",
    "    grouped = newtable.group_by(group_by)\n",
    "    newtable_aggr = grouped.groups.aggregate(lambda arr: arr[0])\n",
    "    for i, (g, newt) in enumerate(zip(grouped.groups, newtable_aggr)):\n",
    "#         if i == 0:\n",
    "#             print(g[quantity_to_compare])\n",
    "#             print(g[np.argmin(g[quantity_to_compare])])\n",
    "        newtable_aggr[i] = g[np.argmin(g[quantity_to_compare])]\n",
    "\n",
    "    return newtable_aggr"
   ]
  },
  {
   "cell_type": "code",
   "execution_count": null,
   "metadata": {
    "scrolled": false
   },
   "outputs": [],
   "source": [
    "# table_filtered = table[~table['rejected']]\n",
    "table_filtered = copy.deepcopy(table)\n",
    "# rearrange_table(table_filtered, 'D1_chisq')\n",
    "newtable_D1 = measure_radius_error(table_filtered)\n",
    "newtable_D2 = measure_radius_error(table_filtered, quantity_to_compare='D2_chisq')\n",
    "newtable_ratio = measure_radius_error(table_filtered, quantity_to_compare='ratio_chisq')\n",
    "newtable_D1_nofit = measure_radius_error(table_filtered, quantity_to_compare='D1_chisq_nofit')\n",
    "newtable_D2_nofit = measure_radius_error(table_filtered, quantity_to_compare='D2_chisq_nofit')\n",
    "newtable_ratio_nofit = measure_radius_error(table_filtered, quantity_to_compare='ratio_chisq_nofit')\n",
    "\n",
    "newtable_D1.sort('galaxy')\n",
    "newtable_D2.sort('galaxy')\n",
    "newtable_ratio.sort('galaxy')\n",
    "newtable_D1_nofit.sort('galaxy')\n",
    "newtable_D2_nofit.sort('galaxy')\n",
    "newtable_ratio_nofit.sort('galaxy')\n"
   ]
  },
  {
   "cell_type": "code",
   "execution_count": null,
   "metadata": {
    "scrolled": false
   },
   "outputs": [],
   "source": [
    "def plot_ngood_vs_distance(table):\n",
    "    grouped_model = table.group_by('model')\n",
    "    quantity_to_compare = list(set(table['quantity_to_compare']))[0]\n",
    "    factor = quantity_to_compare.replace('_chisq', '').replace('_nofit', '')\n",
    "    print(quantity_to_compare)\n",
    "    for table_group in grouped_model.groups:\n",
    "        good_galaxy = (table_group['galaxy'] == 'none')&(table_group[quantity_to_compare] > 0) &(table_group[factor] != 1.0) \n",
    "        plt.figure()\n",
    "        model = list(set(table_group['model']))[0]\n",
    "        plt.title(model)\n",
    "        table_filt = table_group[good_galaxy]\n",
    "        percent = table_filt['ngood'] / table_filt['ngood'].max() * 100\n",
    "        \n",
    "        good = (percent > 88)&(percent < 92)\n",
    "        if np.any(good):\n",
    "            distance_90 = np.median(table_filt[\"distance\"][good])\n",
    "            print(model, f'90% values: {distance_90} Mpc')\n",
    "            plt.axvline(distance_90)\n",
    "        plt.scatter(table_filt['distance'], percent)\n",
    "        plt.ylabel('ngood (%)')\n",
    "        plt.xlabel('distance')\n",
    "        \n",
    "plot_ngood_vs_distance(newtable_D1)"
   ]
  },
  {
   "cell_type": "code",
   "execution_count": null,
   "metadata": {
    "scrolled": false
   },
   "outputs": [],
   "source": [
    "plot_ngood_vs_distance(newtable_ratio_nofit)"
   ]
  },
  {
   "cell_type": "code",
   "execution_count": null,
   "metadata": {
    "scrolled": false
   },
   "outputs": [],
   "source": [
    "def plot_factor_vs_distance(table):\n",
    "    grouped_model = table.group_by('model')\n",
    "    quantity_to_compare = list(set(table['quantity_to_compare']))[0]\n",
    "    factor = quantity_to_compare.replace('_chisq', '')\n",
    "\n",
    "    for table_group in grouped_model.groups:\n",
    "        good_galaxy = (table_group['galaxy'] == 'none')&(table_group[quantity_to_compare] > 0) &(table_group[factor] != 1.0) \n",
    "        plt.figure()\n",
    "        plt.title(list(set(table_group['model']))[0])\n",
    "        table_filt = table_group[good_galaxy]\n",
    "        plt.scatter(table_filt['distance'], table_filt[factor])\n",
    "        plt.ylabel(factor)\n",
    "        plt.xlabel('distance')\n",
    "        \n",
    "plot_factor_vs_distance(newtable_D1)"
   ]
  },
  {
   "cell_type": "code",
   "execution_count": null,
   "metadata": {
    "scrolled": false
   },
   "outputs": [],
   "source": [
    "plot_factor_vs_distance(newtable_D2)"
   ]
  },
  {
   "cell_type": "code",
   "execution_count": null,
   "metadata": {},
   "outputs": [],
   "source": [
    "def plot_chisq_vs_distance(table):\n",
    "    grouped_model = table.group_by('model')\n",
    "    quantity_to_compare = list(set(table['quantity_to_compare']))[0]\n",
    "    factor = quantity_to_compare.replace('_chisq', '')\n",
    "\n",
    "    for table_group in grouped_model.groups:\n",
    "        good_galaxy = (table_group['galaxy'] == 'none')&(table_group[quantity_to_compare] > 0) &(table_group[factor] != 1.0) \n",
    "        table_filt = table_group[good_galaxy]\n",
    "        plt.figure()\n",
    "        plt.title(list(set(table_group['model']))[0])\n",
    "        plt.scatter(table_filt['distance'], table_filt[quantity_to_compare], zorder=10)\n",
    "        plt.ylabel(quantity_to_compare)\n",
    "        plt.xlabel('distance')\n"
   ]
  },
  {
   "cell_type": "code",
   "execution_count": null,
   "metadata": {
    "scrolled": false
   },
   "outputs": [],
   "source": [
    "plot_chisq_vs_distance(newtable_D1)"
   ]
  },
  {
   "cell_type": "code",
   "execution_count": null,
   "metadata": {},
   "outputs": [],
   "source": [
    "import matplotlib\n",
    "\n",
    "def plot_radius_err_vs_galaxy_mag(table, name=\"\"):\n",
    "    grouped_model = table.group_by('model')\n",
    "\n",
    "    for table_filt in grouped_model.groups:\n",
    "        plt.figure(figsize=(15,5))\n",
    "        assert len(set(table_filt['model'])) == 1, f\"{set(table_filt['model'])} is wrong\"\n",
    "        title = list(set(table_filt['model']))[0]\n",
    "        real_radius = table_filt['radius'][0]\n",
    "\n",
    "        plt.title(name + title)\n",
    "        grouped_gal = table_filt.group_by('galaxy')\n",
    "        all_galaxy_vals = list(set(grouped_gal['galaxy']))\n",
    "\n",
    "        cmap = matplotlib.cm.get_cmap('nipy_spectral')\n",
    "        normalize = matplotlib.colors.Normalize(vmin=0, vmax=len(all_galaxy_vals))\n",
    "        colors = [cmap(normalize(value)) for value in range(len(all_galaxy_vals))]\n",
    "        for i, filt in enumerate(grouped_gal.groups):\n",
    "            distances = np.linspace(filt['distance'].min(), filt['distance'].max(), 10)\n",
    "            label = list(set(filt['galaxy']))[0]\n",
    "            dist = []\n",
    "            rad_err = []\n",
    "            good_values = []\n",
    "            for distance_intvs in zip(distances[:-1], distances[1:]):\n",
    "                good_distance = (filt['distance'] >= distance_intvs[0])&(filt['distance'] < distance_intvs[1])\n",
    "                if not np.any(good_distance):\n",
    "                    continue\n",
    "        #         print(f\"   Distance: {distance_intvs[0]} to {distance_intvs[1]}\")\n",
    "                good = filt[good_distance]\n",
    "                not_rejected = ~good['rejected']\n",
    "                if not np.any(not_rejected):\n",
    "                    continue\n",
    "                valid = good[not_rejected]\n",
    "                if not len(valid) > 2:\n",
    "                    continue\n",
    "\n",
    "                radius_err_abs = np.mean(np.abs(valid['radius_err']))\n",
    "\n",
    "                rad_err.append(radius_err_abs)\n",
    "                dist.append(np.mean(distance_intvs))\n",
    "                if radius_err_abs < real_radius / 2:\n",
    "                    good_values.append(True)\n",
    "                else:\n",
    "                    good_values.append(False)\n",
    "            if len(dist) == 0:\n",
    "                continue\n",
    "            dist = np.array(dist)\n",
    "            rad_err = np.array(rad_err)\n",
    "            good_values = np.array(good_values, dtype=bool)\n",
    "            plt.scatter(dist[good_values], rad_err[good_values], color=colors[i], \n",
    "                        label=label, alpha=0.7, edgecolors='k', zorder=10)\n",
    "            plt.scatter(dist[~good_values], rad_err[~good_values], color=colors[i], \n",
    "                        alpha=0.4, edgecolors='none')\n",
    "        plt.xlabel(\"Distance (Mpc)\")\n",
    "        plt.ylabel(\"Radius error ($R_{\\odot}$)\")\n",
    "        plt.legend(title=\"Bkg galaxy mag\")\n",
    "        plt.yscale('symlog')\n",
    "        plt.savefig(name + title + '_radius_err_mag.png')\n",
    "        \n",
    "plot_radius_err_vs_galaxy_mag(newtable_D1, name=\"D1_\")"
   ]
  },
  {
   "cell_type": "code",
   "execution_count": null,
   "metadata": {},
   "outputs": [],
   "source": [
    "plot_radius_err_vs_galaxy_mag(newtable_D2, name=\"D2_\")"
   ]
  },
  {
   "cell_type": "code",
   "execution_count": null,
   "metadata": {},
   "outputs": [],
   "source": [
    "plot_radius_err_vs_galaxy_mag(newtable_ratio, name=\"ratio_\")"
   ]
  },
  {
   "cell_type": "code",
   "execution_count": null,
   "metadata": {},
   "outputs": [],
   "source": [
    "plot_radius_err_vs_galaxy_mag(newtable_D1_nofit, name=\"D1_nofit_\")"
   ]
  },
  {
   "cell_type": "code",
   "execution_count": null,
   "metadata": {},
   "outputs": [],
   "source": [
    "plot_radius_err_vs_galaxy_mag(newtable_D2_nofit, name=\"D2_nofit_\")"
   ]
  },
  {
   "cell_type": "code",
   "execution_count": null,
   "metadata": {},
   "outputs": [],
   "source": [
    "plot_radius_err_vs_galaxy_mag(newtable_ratio_nofit, name=\"ratio_nofit_\")"
   ]
  },
  {
   "cell_type": "code",
   "execution_count": null,
   "metadata": {},
   "outputs": [],
   "source": []
  },
  {
   "cell_type": "code",
   "execution_count": null,
   "metadata": {
    "scrolled": false
   },
   "outputs": [],
   "source": [
    "# plt.figure(figsize=(15, 10))\n",
    "\n",
    "# colors = ['b', '#6666aa', '#aaaaff', 'r', '#aa6666', '#ffaaaa']\n",
    "# for i, m in enumerate(all_models):\n",
    "#     filt = newtable[newtable['model'] == m]\n",
    "#     label = m\n",
    "#     print(m)\n",
    "#     distances = np.arange(50, 700, 50)\n",
    "#     for distance_intvs in zip(distances[:-1], distances[1:]):\n",
    "#         good_distance = (filt['distance'] >= distance_intvs[0])&(filt['distance'] < distance_intvs[1])\n",
    "#         if not np.any(good_distance):\n",
    "#             continue\n",
    "#         print(f\"   Distance: {distance_intvs[0]} to {distance_intvs[1]}\")\n",
    "#         good = filt[good_distance]\n",
    "#         not_rejected = ~good['rejected']\n",
    "#         if not np.any(not_rejected):\n",
    "#             print('All rejected')\n",
    "#             continue\n",
    "#         valid = good[not_rejected]\n",
    "        \n",
    "#         correct_model = valid['correct_model']\n",
    "#         if not np.count_nonzero(correct_model) > 2:\n",
    "#             print(\"Not enough correct fits\")\n",
    "#             continue\n",
    "#         correct = valid[correct_model]\n",
    "#         valid_ratio = len(valid)/len(good)*100\n",
    "#         print(f\"      Valid points: {valid_ratio:.0f}%\")\n",
    "#         correct_ratio = len(correct) / len(valid)*100.0\n",
    "#         print(f\"      Correct model fit: {correct_ratio:.0f}%\")\n",
    "#         plt.scatter(np.mean(distance_intvs), valid_ratio, c=colors[i], label=label)\n",
    "#         label=None\n",
    "        \n",
    "#     plt.xlabel(\"Distance (Mpc)\")\n",
    "#     plt.ylabel(\"% Valid simulations\")\n",
    "#     plt.legend()\n",
    "        \n",
    "#     print()"
   ]
  },
  {
   "cell_type": "code",
   "execution_count": null,
   "metadata": {},
   "outputs": [],
   "source": [
    "table_filtered_R600 = \n",
    "all_models_in_table = list(set(table_filtered['model']))\n",
    "\n",
    "plt.figure(figsize=(15, 10))\n",
    "\n",
    "colors = ['b', '#6666aa', '#aaaaff', 'r', '#aa6666', '#ffaaaa']\n",
    "for i, m in enumerate(sorted(all_models)):\n",
    "    filt = newtable[newtable['model'] == m]\n",
    "    label = m\n",
    "#     print(m)\n",
    "    distances = np.linspace(filt['distance'].min(), filt['distance'].max(), 10)\n",
    "    for distance_intvs in zip(distances[:-1], distances[1:]):\n",
    "        good_distance = (filt['distance'] >= distance_intvs[0])&(filt['distance'] < distance_intvs[1])\n",
    "        if not np.any(good_distance):\n",
    "            continue\n",
    "#         print(f\"   Distance: {distance_intvs[0]} to {distance_intvs[1]}\")\n",
    "        good = filt[good_distance]\n",
    "        not_rejected = ~good['rejected']\n",
    "        if not np.any(not_rejected):\n",
    "            print('All rejected')\n",
    "            continue\n",
    "        valid = good[not_rejected]\n",
    "        \n",
    "        radius_err_abs = np.mean(np.abs(valid['radius_err']))\n",
    "\n",
    "        plt.scatter(np.mean(distance_intvs), radius_err_abs, c=colors[i], label=label)\n",
    "        label=None\n",
    "        \n",
    "    plt.xlabel(\"Distance (Mpc)\")\n",
    "    plt.ylabel(\"Radius error\")\n",
    "    plt.legend()\n",
    "        \n",
    "    print()"
   ]
  },
  {
   "cell_type": "code",
   "execution_count": null,
   "metadata": {},
   "outputs": [],
   "source": []
  },
  {
   "cell_type": "code",
   "execution_count": null,
   "metadata": {},
   "outputs": [],
   "source": []
  },
  {
   "cell_type": "code",
   "execution_count": null,
   "metadata": {},
   "outputs": [],
   "source": [
    "# from sklearn.preprocessing import OneHotEncoder\n",
    "# from sklearn.feature_selection import RFE\n",
    "# from sklearn.linear_model import LogisticRegression\n",
    "# ohe = OneHotEncoder(sparse=False)\n",
    "# target = table['model'] == table['fit_model']\n",
    "# table_transformed = ohe.fit_transform(table.to_pandas())\n"
   ]
  },
  {
   "cell_type": "code",
   "execution_count": null,
   "metadata": {},
   "outputs": [],
   "source": [
    "# # load the iris datasets\n",
    "# dataset = table.pandas()\n",
    "# # create a base classifier used to evaluate a subset of attributes\n",
    "# model = LogisticRegression()\n",
    "# # create the RFE model and select 3 attributes\n",
    "# rfe = RFE(model, 3)\n",
    "# rfe = rfe.fit(dataset.data, dataset.target)\n",
    "# # summarize the selection of the attributes\n",
    "# print(rfe.support_)\n",
    "# print(rfe.ranking_)"
   ]
  }
 ],
 "metadata": {
  "kernelspec": {
   "display_name": "Python 3",
   "language": "python",
   "name": "python3"
  },
  "language_info": {
   "codemirror_mode": {
    "name": "ipython",
    "version": 3
   },
   "file_extension": ".py",
   "mimetype": "text/x-python",
   "name": "python",
   "nbconvert_exporter": "python",
   "pygments_lexer": "ipython3",
   "version": "3.7.3"
  }
 },
 "nbformat": 4,
 "nbformat_minor": 2
}
